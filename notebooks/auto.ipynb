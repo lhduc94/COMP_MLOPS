{
 "cells": [
  {
   "cell_type": "code",
   "execution_count": 23,
   "outputs": [],
   "source": [
    "from autogluon.tabular import TabularDataset, TabularPredictor\n",
    "import pandas as pd\n",
    "df = pd.read_parquet(\"/mnt/f/Data/MLOPS_2023/data_phase-1/phase-1/prob-2/raw_train.parquet\")\n",
    "test = pd.read_csv('/home/duclh3/Workspace/test_phase1_prob2/mlops_phase1_prob2_207c042d-7882-4831-b2bc-1740c5ed739e.csv')"
   ],
   "metadata": {
    "collapsed": false
   }
  },
  {
   "cell_type": "code",
   "execution_count": 24,
   "outputs": [],
   "source": [
    "from sklearn.model_selection import train_test_split\n",
    "# df['label'] = 0\n",
    "# test['label'] = 1\n",
    "# all_df = pd.concat([df, test[df.columns]],axis=0)\n",
    "train_df, test_df = train_test_split(df, test_size=0.2, random_state=42)"
   ],
   "metadata": {
    "collapsed": false
   }
  },
  {
   "cell_type": "code",
   "execution_count": 13,
   "outputs": [
    {
     "data": {
      "text/plain": "((60000, 21), (61000, 21))"
     },
     "execution_count": 13,
     "metadata": {},
     "output_type": "execute_result"
    }
   ],
   "source": [
    "df.shape, all_df.shape"
   ],
   "metadata": {
    "collapsed": false
   }
  },
  {
   "cell_type": "code",
   "execution_count": 14,
   "outputs": [
    {
     "data": {
      "text/plain": "    feature1   feature2 feature3 feature4     feature5 feature6 feature7  \\\n0         V1   4.781942       V2       V8  1337.025331       V4       V4   \n1         V3  22.764682       V4       V2  1664.415301       V0       V4   \n2         V3   7.462099       V2       V3   750.653224       V3       V2   \n3         V3  23.718364       V4       V7  4829.002078       V4       V2   \n4         V3  13.768903       V3       V3  3559.956292       V3       V4   \n..       ...        ...      ...      ...          ...      ...      ...   \n995       V0  17.235879       V2       V3  2991.015738       V0       V4   \n996       V3   9.160274       V0       V3   947.788434       V0       V1   \n997       V0  18.544026       V4       V1  3849.187301       V0       V0   \n998       V1  23.294419       V4       V9  6280.714510       V1       V4   \n999       V3  24.487315       V2       V2  6933.067973       V0       V2   \n\n     feature8 feature9 feature10  ...  feature12  feature13  feature14  \\\n0         2.0       V2        V0  ...         V2  35.689494       none   \n1         4.0       V1        V0  ...         V0  23.265980       none   \n2         4.0       V2        V0  ...         V2  34.060872     stores   \n3         4.0       V1        V0  ...         V3  62.477448       none   \n4         1.0       V1        V0  ...         V2  41.999120       bank   \n..        ...      ...       ...  ...        ...        ...        ...   \n995       1.0       V3        V0  ...         V2  29.333411       none   \n996       4.0       V2        V0  ...         V2  31.780421       none   \n997       2.0       V0        V0  ...         V0  34.811570       bank   \n998       1.0       V1        V2  ...         V1  38.963082       none   \n999       3.0       V2        V0  ...         V2  58.029535       none   \n\n    feature15 feature16  feature17 feature18  feature19 feature20 label  \n0          V1       1.0         V2       1.0       none       yes     0  \n1          V1       2.0         V2       1.0       none       yes     0  \n2          V0       1.0         V2       1.0        yes       yes     0  \n3          V1       2.0         V1       1.0       none       yes     0  \n4          V1       1.0         V2       1.0        yes       yes     0  \n..        ...       ...        ...       ...        ...       ...   ...  \n995        V1       2.0         V2       1.0        yes       yes     1  \n996        V0       2.0         V1       1.0       none       yes     1  \n997        V0       2.0         V2       1.0       none       yes     1  \n998        V1       1.0         V2       1.0        yes       yes     1  \n999        V1       1.0         V2       1.0       none       yes     1  \n\n[61000 rows x 21 columns]",
      "text/html": "<div>\n<style scoped>\n    .dataframe tbody tr th:only-of-type {\n        vertical-align: middle;\n    }\n\n    .dataframe tbody tr th {\n        vertical-align: top;\n    }\n\n    .dataframe thead th {\n        text-align: right;\n    }\n</style>\n<table border=\"1\" class=\"dataframe\">\n  <thead>\n    <tr style=\"text-align: right;\">\n      <th></th>\n      <th>feature1</th>\n      <th>feature2</th>\n      <th>feature3</th>\n      <th>feature4</th>\n      <th>feature5</th>\n      <th>feature6</th>\n      <th>feature7</th>\n      <th>feature8</th>\n      <th>feature9</th>\n      <th>feature10</th>\n      <th>...</th>\n      <th>feature12</th>\n      <th>feature13</th>\n      <th>feature14</th>\n      <th>feature15</th>\n      <th>feature16</th>\n      <th>feature17</th>\n      <th>feature18</th>\n      <th>feature19</th>\n      <th>feature20</th>\n      <th>label</th>\n    </tr>\n  </thead>\n  <tbody>\n    <tr>\n      <th>0</th>\n      <td>V1</td>\n      <td>4.781942</td>\n      <td>V2</td>\n      <td>V8</td>\n      <td>1337.025331</td>\n      <td>V4</td>\n      <td>V4</td>\n      <td>2.0</td>\n      <td>V2</td>\n      <td>V0</td>\n      <td>...</td>\n      <td>V2</td>\n      <td>35.689494</td>\n      <td>none</td>\n      <td>V1</td>\n      <td>1.0</td>\n      <td>V2</td>\n      <td>1.0</td>\n      <td>none</td>\n      <td>yes</td>\n      <td>0</td>\n    </tr>\n    <tr>\n      <th>1</th>\n      <td>V3</td>\n      <td>22.764682</td>\n      <td>V4</td>\n      <td>V2</td>\n      <td>1664.415301</td>\n      <td>V0</td>\n      <td>V4</td>\n      <td>4.0</td>\n      <td>V1</td>\n      <td>V0</td>\n      <td>...</td>\n      <td>V0</td>\n      <td>23.265980</td>\n      <td>none</td>\n      <td>V1</td>\n      <td>2.0</td>\n      <td>V2</td>\n      <td>1.0</td>\n      <td>none</td>\n      <td>yes</td>\n      <td>0</td>\n    </tr>\n    <tr>\n      <th>2</th>\n      <td>V3</td>\n      <td>7.462099</td>\n      <td>V2</td>\n      <td>V3</td>\n      <td>750.653224</td>\n      <td>V3</td>\n      <td>V2</td>\n      <td>4.0</td>\n      <td>V2</td>\n      <td>V0</td>\n      <td>...</td>\n      <td>V2</td>\n      <td>34.060872</td>\n      <td>stores</td>\n      <td>V0</td>\n      <td>1.0</td>\n      <td>V2</td>\n      <td>1.0</td>\n      <td>yes</td>\n      <td>yes</td>\n      <td>0</td>\n    </tr>\n    <tr>\n      <th>3</th>\n      <td>V3</td>\n      <td>23.718364</td>\n      <td>V4</td>\n      <td>V7</td>\n      <td>4829.002078</td>\n      <td>V4</td>\n      <td>V2</td>\n      <td>4.0</td>\n      <td>V1</td>\n      <td>V0</td>\n      <td>...</td>\n      <td>V3</td>\n      <td>62.477448</td>\n      <td>none</td>\n      <td>V1</td>\n      <td>2.0</td>\n      <td>V1</td>\n      <td>1.0</td>\n      <td>none</td>\n      <td>yes</td>\n      <td>0</td>\n    </tr>\n    <tr>\n      <th>4</th>\n      <td>V3</td>\n      <td>13.768903</td>\n      <td>V3</td>\n      <td>V3</td>\n      <td>3559.956292</td>\n      <td>V3</td>\n      <td>V4</td>\n      <td>1.0</td>\n      <td>V1</td>\n      <td>V0</td>\n      <td>...</td>\n      <td>V2</td>\n      <td>41.999120</td>\n      <td>bank</td>\n      <td>V1</td>\n      <td>1.0</td>\n      <td>V2</td>\n      <td>1.0</td>\n      <td>yes</td>\n      <td>yes</td>\n      <td>0</td>\n    </tr>\n    <tr>\n      <th>...</th>\n      <td>...</td>\n      <td>...</td>\n      <td>...</td>\n      <td>...</td>\n      <td>...</td>\n      <td>...</td>\n      <td>...</td>\n      <td>...</td>\n      <td>...</td>\n      <td>...</td>\n      <td>...</td>\n      <td>...</td>\n      <td>...</td>\n      <td>...</td>\n      <td>...</td>\n      <td>...</td>\n      <td>...</td>\n      <td>...</td>\n      <td>...</td>\n      <td>...</td>\n      <td>...</td>\n    </tr>\n    <tr>\n      <th>995</th>\n      <td>V0</td>\n      <td>17.235879</td>\n      <td>V2</td>\n      <td>V3</td>\n      <td>2991.015738</td>\n      <td>V0</td>\n      <td>V4</td>\n      <td>1.0</td>\n      <td>V3</td>\n      <td>V0</td>\n      <td>...</td>\n      <td>V2</td>\n      <td>29.333411</td>\n      <td>none</td>\n      <td>V1</td>\n      <td>2.0</td>\n      <td>V2</td>\n      <td>1.0</td>\n      <td>yes</td>\n      <td>yes</td>\n      <td>1</td>\n    </tr>\n    <tr>\n      <th>996</th>\n      <td>V3</td>\n      <td>9.160274</td>\n      <td>V0</td>\n      <td>V3</td>\n      <td>947.788434</td>\n      <td>V0</td>\n      <td>V1</td>\n      <td>4.0</td>\n      <td>V2</td>\n      <td>V0</td>\n      <td>...</td>\n      <td>V2</td>\n      <td>31.780421</td>\n      <td>none</td>\n      <td>V0</td>\n      <td>2.0</td>\n      <td>V1</td>\n      <td>1.0</td>\n      <td>none</td>\n      <td>yes</td>\n      <td>1</td>\n    </tr>\n    <tr>\n      <th>997</th>\n      <td>V0</td>\n      <td>18.544026</td>\n      <td>V4</td>\n      <td>V1</td>\n      <td>3849.187301</td>\n      <td>V0</td>\n      <td>V0</td>\n      <td>2.0</td>\n      <td>V0</td>\n      <td>V0</td>\n      <td>...</td>\n      <td>V0</td>\n      <td>34.811570</td>\n      <td>bank</td>\n      <td>V0</td>\n      <td>2.0</td>\n      <td>V2</td>\n      <td>1.0</td>\n      <td>none</td>\n      <td>yes</td>\n      <td>1</td>\n    </tr>\n    <tr>\n      <th>998</th>\n      <td>V1</td>\n      <td>23.294419</td>\n      <td>V4</td>\n      <td>V9</td>\n      <td>6280.714510</td>\n      <td>V1</td>\n      <td>V4</td>\n      <td>1.0</td>\n      <td>V1</td>\n      <td>V2</td>\n      <td>...</td>\n      <td>V1</td>\n      <td>38.963082</td>\n      <td>none</td>\n      <td>V1</td>\n      <td>1.0</td>\n      <td>V2</td>\n      <td>1.0</td>\n      <td>yes</td>\n      <td>yes</td>\n      <td>1</td>\n    </tr>\n    <tr>\n      <th>999</th>\n      <td>V3</td>\n      <td>24.487315</td>\n      <td>V2</td>\n      <td>V2</td>\n      <td>6933.067973</td>\n      <td>V0</td>\n      <td>V2</td>\n      <td>3.0</td>\n      <td>V2</td>\n      <td>V0</td>\n      <td>...</td>\n      <td>V2</td>\n      <td>58.029535</td>\n      <td>none</td>\n      <td>V1</td>\n      <td>1.0</td>\n      <td>V2</td>\n      <td>1.0</td>\n      <td>none</td>\n      <td>yes</td>\n      <td>1</td>\n    </tr>\n  </tbody>\n</table>\n<p>61000 rows × 21 columns</p>\n</div>"
     },
     "execution_count": 14,
     "metadata": {},
     "output_type": "execute_result"
    }
   ],
   "source": [
    "all_df"
   ],
   "metadata": {
    "collapsed": false
   }
  },
  {
   "cell_type": "code",
   "execution_count": 25,
   "outputs": [],
   "source": [
    "train_data = TabularDataset(train_df)\n",
    "test_data = TabularDataset(test_df)"
   ],
   "metadata": {
    "collapsed": false
   }
  },
  {
   "cell_type": "code",
   "execution_count": 26,
   "outputs": [
    {
     "name": "stderr",
     "output_type": "stream",
     "text": [
      "No path specified. Models will be saved in: \"AutogluonModels/ag-20230628_070716/\"\n",
      "Beginning AutoGluon training ...\n",
      "AutoGluon will save models to \"AutogluonModels/ag-20230628_070716/\"\n",
      "AutoGluon Version:  0.8.0\n",
      "Python Version:     3.9.16\n",
      "Operating System:   Linux\n",
      "Platform Machine:   x86_64\n",
      "Platform Version:   #1 SMP Fri Jan 27 02:56:13 UTC 2023\n",
      "Disk Space Avail:   946.80 GB / 1081.10 GB (87.6%)\n",
      "Train Data Rows:    48000\n",
      "Train Data Columns: 20\n",
      "Label Column: label\n",
      "Preprocessing data ...\n",
      "AutoGluon infers your prediction problem is: 'binary' (because only two unique label-values observed).\n",
      "\t2 unique label values:  [0, 1]\n",
      "\tIf 'binary' is not the correct problem_type, please manually specify the problem_type parameter during predictor init (You may specify problem_type as one of: ['binary', 'multiclass', 'regression'])\n",
      "Selected class <--> label mapping:  class 1 = 1, class 0 = 0\n",
      "Using Feature Generators to preprocess the data ...\n",
      "Fitting AutoMLPipelineFeatureGenerator...\n",
      "\tAvailable Memory:                    5003.66 MB\n",
      "\tTrain Data (Original)  Memory Usage: 39.73 MB (0.8% of available memory)\n",
      "\tInferring data type of each feature based on column values. Set feature_metadata_in to manually specify special dtypes of the features.\n",
      "\tStage 1 Generators:\n",
      "\t\tFitting AsTypeFeatureGenerator...\n",
      "\t\t\tNote: Converting 3 features to boolean dtype as they only contain 2 unique values.\n",
      "\tStage 2 Generators:\n",
      "\t\tFitting FillNaFeatureGenerator...\n",
      "\tStage 3 Generators:\n",
      "\t\tFitting IdentityFeatureGenerator...\n",
      "\t\tFitting CategoryFeatureGenerator...\n",
      "\t\t\tFitting CategoryMemoryMinimizeFeatureGenerator...\n",
      "\tStage 4 Generators:\n",
      "\t\tFitting DropUniqueFeatureGenerator...\n",
      "\tStage 5 Generators:\n",
      "\t\tFitting DropDuplicatesFeatureGenerator...\n",
      "\tTypes of features in original data (raw dtype, special dtypes):\n",
      "\t\t('float', [])  :  7 | ['feature2', 'feature5', 'feature8', 'feature11', 'feature13', ...]\n",
      "\t\t('object', []) : 13 | ['feature1', 'feature3', 'feature4', 'feature6', 'feature7', ...]\n",
      "\tTypes of features in processed data (raw dtype, special dtypes):\n",
      "\t\t('category', [])  : 11 | ['feature1', 'feature3', 'feature4', 'feature6', 'feature7', ...]\n",
      "\t\t('float', [])     :  6 | ['feature2', 'feature5', 'feature8', 'feature11', 'feature13', ...]\n",
      "\t\t('int', ['bool']) :  3 | ['feature18', 'feature19', 'feature20']\n",
      "\t0.2s = Fit runtime\n",
      "\t20 features in original data used to generate 20 features in processed data.\n",
      "\tTrain Data (Processed) Memory Usage: 2.98 MB (0.1% of available memory)\n",
      "Data preprocessing and feature engineering runtime = 0.25s ...\n",
      "AutoGluon will gauge predictive performance using evaluation metric: 'roc_auc'\n",
      "\tThis metric expects predicted probabilities rather than predicted class labels, so you'll need to use predict_proba() instead of predict()\n",
      "\tTo change this, specify the eval_metric parameter of Predictor()\n",
      "Automatically generating train/validation split with holdout_frac=0.052083333333333336, Train Rows: 45500, Val Rows: 2500\n",
      "User-specified model hyperparameters to be fit:\n",
      "{\n",
      "\t'NN_TORCH': {},\n",
      "\t'GBM': [{'extra_trees': True, 'ag_args': {'name_suffix': 'XT'}}, {}, 'GBMLarge'],\n",
      "\t'CAT': {},\n",
      "\t'XGB': {},\n",
      "\t'FASTAI': {},\n",
      "\t'RF': [{'criterion': 'gini', 'ag_args': {'name_suffix': 'Gini', 'problem_types': ['binary', 'multiclass']}}, {'criterion': 'entropy', 'ag_args': {'name_suffix': 'Entr', 'problem_types': ['binary', 'multiclass']}}, {'criterion': 'squared_error', 'ag_args': {'name_suffix': 'MSE', 'problem_types': ['regression', 'quantile']}}],\n",
      "\t'XT': [{'criterion': 'gini', 'ag_args': {'name_suffix': 'Gini', 'problem_types': ['binary', 'multiclass']}}, {'criterion': 'entropy', 'ag_args': {'name_suffix': 'Entr', 'problem_types': ['binary', 'multiclass']}}, {'criterion': 'squared_error', 'ag_args': {'name_suffix': 'MSE', 'problem_types': ['regression', 'quantile']}}],\n",
      "\t'KNN': [{'weights': 'uniform', 'ag_args': {'name_suffix': 'Unif'}}, {'weights': 'distance', 'ag_args': {'name_suffix': 'Dist'}}],\n",
      "}\n",
      "Fitting 13 L1 models ...\n",
      "Fitting model: KNeighborsUnif ...\n",
      "\t0.5673\t = Validation score   (roc_auc)\n",
      "\t0.04s\t = Training   runtime\n",
      "\t0.02s\t = Validation runtime\n",
      "Fitting model: KNeighborsDist ...\n",
      "\t0.5741\t = Validation score   (roc_auc)\n",
      "\t0.03s\t = Training   runtime\n",
      "\t0.01s\t = Validation runtime\n",
      "Fitting model: LightGBMXT ...\n"
     ]
    },
    {
     "name": "stdout",
     "output_type": "stream",
     "text": [
      "[1000]\tvalid_set's binary_logloss: 0.405693\n"
     ]
    },
    {
     "name": "stderr",
     "output_type": "stream",
     "text": [
      "\t0.8694\t = Validation score   (roc_auc)\n",
      "\t1.73s\t = Training   runtime\n",
      "\t0.02s\t = Validation runtime\n",
      "Fitting model: LightGBM ...\n"
     ]
    },
    {
     "name": "stdout",
     "output_type": "stream",
     "text": [
      "[1000]\tvalid_set's binary_logloss: 0.401824\n"
     ]
    },
    {
     "name": "stderr",
     "output_type": "stream",
     "text": [
      "\t0.8735\t = Validation score   (roc_auc)\n",
      "\t1.48s\t = Training   runtime\n",
      "\t0.02s\t = Validation runtime\n",
      "Fitting model: RandomForestGini ...\n",
      "\t0.8352\t = Validation score   (roc_auc)\n",
      "\t1.45s\t = Training   runtime\n",
      "\t0.1s\t = Validation runtime\n",
      "Fitting model: RandomForestEntr ...\n",
      "\t0.8355\t = Validation score   (roc_auc)\n",
      "\t1.62s\t = Training   runtime\n",
      "\t0.11s\t = Validation runtime\n",
      "Fitting model: CatBoost ...\n",
      "\t0.8808\t = Validation score   (roc_auc)\n",
      "\t53.79s\t = Training   runtime\n",
      "\t0.01s\t = Validation runtime\n",
      "Fitting model: ExtraTreesGini ...\n",
      "\t0.8326\t = Validation score   (roc_auc)\n",
      "\t1.18s\t = Training   runtime\n",
      "\t0.12s\t = Validation runtime\n",
      "Fitting model: ExtraTreesEntr ...\n",
      "\t0.8318\t = Validation score   (roc_auc)\n",
      "\t1.27s\t = Training   runtime\n",
      "\t0.16s\t = Validation runtime\n",
      "Fitting model: NeuralNetFastAI ...\n",
      "\t0.8476\t = Validation score   (roc_auc)\n",
      "\t27.47s\t = Training   runtime\n",
      "\t0.03s\t = Validation runtime\n",
      "Fitting model: XGBoost ...\n",
      "\t0.8752\t = Validation score   (roc_auc)\n",
      "\t1.55s\t = Training   runtime\n",
      "\t0.02s\t = Validation runtime\n",
      "Fitting model: NeuralNetTorch ...\n",
      "\t0.8396\t = Validation score   (roc_auc)\n",
      "\t25.93s\t = Training   runtime\n",
      "\t0.01s\t = Validation runtime\n",
      "Fitting model: LightGBMLarge ...\n",
      "\t0.8696\t = Validation score   (roc_auc)\n",
      "\t1.91s\t = Training   runtime\n",
      "\t0.02s\t = Validation runtime\n",
      "Fitting model: WeightedEnsemble_L2 ...\n",
      "\t0.8811\t = Validation score   (roc_auc)\n",
      "\t0.36s\t = Training   runtime\n",
      "\t0.0s\t = Validation runtime\n",
      "AutoGluon training complete, total runtime = 127.25s ... Best model: \"WeightedEnsemble_L2\"\n",
      "TabularPredictor saved. To load, use: predictor = TabularPredictor.load(\"AutogluonModels/ag-20230628_070716/\")\n"
     ]
    }
   ],
   "source": [
    "predictor = TabularPredictor(label='label',eval_metric='roc_auc').fit(train_data=train_data)\n",
    "predictions = predictor.predict(test_data)"
   ],
   "metadata": {
    "collapsed": false
   }
  },
  {
   "cell_type": "code",
   "execution_count": 27,
   "outputs": [
    {
     "data": {
      "text/plain": "                  model  score_test  score_val  pred_time_test  pred_time_val  \\\n0   WeightedEnsemble_L2    0.880280   0.881133        0.094336       0.030512   \n1              CatBoost    0.880084   0.880836        0.038746       0.013705   \n2              LightGBM    0.875915   0.873505        0.096165       0.020437   \n3               XGBoost    0.874101   0.875227        0.053402       0.016309   \n4         LightGBMLarge    0.869745   0.869648        0.079045       0.024013   \n5            LightGBMXT    0.869256   0.869396        0.102674       0.022900   \n6       NeuralNetFastAI    0.851158   0.847561        0.141823       0.025511   \n7      RandomForestEntr    0.840987   0.835530        0.464108       0.114801   \n8        NeuralNetTorch    0.840789   0.839551        0.046384       0.014011   \n9      RandomForestGini    0.840006   0.835233        0.986172       0.100211   \n10       ExtraTreesEntr    0.834323   0.831763        0.896699       0.156207   \n11       ExtraTreesGini    0.834045   0.832609        0.488355       0.116888   \n12       KNeighborsDist    0.587456   0.574093        0.024607       0.011773   \n13       KNeighborsUnif    0.584379   0.567274        0.041505       0.018591   \n\n     fit_time  pred_time_test_marginal  pred_time_val_marginal  \\\n0   55.707157                 0.002187                0.000498   \n1   53.788903                 0.038746                0.013705   \n2    1.480988                 0.096165                0.020437   \n3    1.554555                 0.053402                0.016309   \n4    1.907135                 0.079045                0.024013   \n5    1.733066                 0.102674                0.022900   \n6   27.474922                 0.141823                0.025511   \n7    1.624694                 0.464108                0.114801   \n8   25.934967                 0.046384                0.014011   \n9    1.452398                 0.986172                0.100211   \n10   1.266962                 0.896699                0.156207   \n11   1.178776                 0.488355                0.116888   \n12   0.033804                 0.024607                0.011773   \n13   0.036109                 0.041505                0.018591   \n\n    fit_time_marginal  stack_level  can_infer  fit_order  \n0            0.363700            2       True         14  \n1           53.788903            1       True          7  \n2            1.480988            1       True          4  \n3            1.554555            1       True         11  \n4            1.907135            1       True         13  \n5            1.733066            1       True          3  \n6           27.474922            1       True         10  \n7            1.624694            1       True          6  \n8           25.934967            1       True         12  \n9            1.452398            1       True          5  \n10           1.266962            1       True          9  \n11           1.178776            1       True          8  \n12           0.033804            1       True          2  \n13           0.036109            1       True          1  ",
      "text/html": "<div>\n<style scoped>\n    .dataframe tbody tr th:only-of-type {\n        vertical-align: middle;\n    }\n\n    .dataframe tbody tr th {\n        vertical-align: top;\n    }\n\n    .dataframe thead th {\n        text-align: right;\n    }\n</style>\n<table border=\"1\" class=\"dataframe\">\n  <thead>\n    <tr style=\"text-align: right;\">\n      <th></th>\n      <th>model</th>\n      <th>score_test</th>\n      <th>score_val</th>\n      <th>pred_time_test</th>\n      <th>pred_time_val</th>\n      <th>fit_time</th>\n      <th>pred_time_test_marginal</th>\n      <th>pred_time_val_marginal</th>\n      <th>fit_time_marginal</th>\n      <th>stack_level</th>\n      <th>can_infer</th>\n      <th>fit_order</th>\n    </tr>\n  </thead>\n  <tbody>\n    <tr>\n      <th>0</th>\n      <td>WeightedEnsemble_L2</td>\n      <td>0.880280</td>\n      <td>0.881133</td>\n      <td>0.094336</td>\n      <td>0.030512</td>\n      <td>55.707157</td>\n      <td>0.002187</td>\n      <td>0.000498</td>\n      <td>0.363700</td>\n      <td>2</td>\n      <td>True</td>\n      <td>14</td>\n    </tr>\n    <tr>\n      <th>1</th>\n      <td>CatBoost</td>\n      <td>0.880084</td>\n      <td>0.880836</td>\n      <td>0.038746</td>\n      <td>0.013705</td>\n      <td>53.788903</td>\n      <td>0.038746</td>\n      <td>0.013705</td>\n      <td>53.788903</td>\n      <td>1</td>\n      <td>True</td>\n      <td>7</td>\n    </tr>\n    <tr>\n      <th>2</th>\n      <td>LightGBM</td>\n      <td>0.875915</td>\n      <td>0.873505</td>\n      <td>0.096165</td>\n      <td>0.020437</td>\n      <td>1.480988</td>\n      <td>0.096165</td>\n      <td>0.020437</td>\n      <td>1.480988</td>\n      <td>1</td>\n      <td>True</td>\n      <td>4</td>\n    </tr>\n    <tr>\n      <th>3</th>\n      <td>XGBoost</td>\n      <td>0.874101</td>\n      <td>0.875227</td>\n      <td>0.053402</td>\n      <td>0.016309</td>\n      <td>1.554555</td>\n      <td>0.053402</td>\n      <td>0.016309</td>\n      <td>1.554555</td>\n      <td>1</td>\n      <td>True</td>\n      <td>11</td>\n    </tr>\n    <tr>\n      <th>4</th>\n      <td>LightGBMLarge</td>\n      <td>0.869745</td>\n      <td>0.869648</td>\n      <td>0.079045</td>\n      <td>0.024013</td>\n      <td>1.907135</td>\n      <td>0.079045</td>\n      <td>0.024013</td>\n      <td>1.907135</td>\n      <td>1</td>\n      <td>True</td>\n      <td>13</td>\n    </tr>\n    <tr>\n      <th>5</th>\n      <td>LightGBMXT</td>\n      <td>0.869256</td>\n      <td>0.869396</td>\n      <td>0.102674</td>\n      <td>0.022900</td>\n      <td>1.733066</td>\n      <td>0.102674</td>\n      <td>0.022900</td>\n      <td>1.733066</td>\n      <td>1</td>\n      <td>True</td>\n      <td>3</td>\n    </tr>\n    <tr>\n      <th>6</th>\n      <td>NeuralNetFastAI</td>\n      <td>0.851158</td>\n      <td>0.847561</td>\n      <td>0.141823</td>\n      <td>0.025511</td>\n      <td>27.474922</td>\n      <td>0.141823</td>\n      <td>0.025511</td>\n      <td>27.474922</td>\n      <td>1</td>\n      <td>True</td>\n      <td>10</td>\n    </tr>\n    <tr>\n      <th>7</th>\n      <td>RandomForestEntr</td>\n      <td>0.840987</td>\n      <td>0.835530</td>\n      <td>0.464108</td>\n      <td>0.114801</td>\n      <td>1.624694</td>\n      <td>0.464108</td>\n      <td>0.114801</td>\n      <td>1.624694</td>\n      <td>1</td>\n      <td>True</td>\n      <td>6</td>\n    </tr>\n    <tr>\n      <th>8</th>\n      <td>NeuralNetTorch</td>\n      <td>0.840789</td>\n      <td>0.839551</td>\n      <td>0.046384</td>\n      <td>0.014011</td>\n      <td>25.934967</td>\n      <td>0.046384</td>\n      <td>0.014011</td>\n      <td>25.934967</td>\n      <td>1</td>\n      <td>True</td>\n      <td>12</td>\n    </tr>\n    <tr>\n      <th>9</th>\n      <td>RandomForestGini</td>\n      <td>0.840006</td>\n      <td>0.835233</td>\n      <td>0.986172</td>\n      <td>0.100211</td>\n      <td>1.452398</td>\n      <td>0.986172</td>\n      <td>0.100211</td>\n      <td>1.452398</td>\n      <td>1</td>\n      <td>True</td>\n      <td>5</td>\n    </tr>\n    <tr>\n      <th>10</th>\n      <td>ExtraTreesEntr</td>\n      <td>0.834323</td>\n      <td>0.831763</td>\n      <td>0.896699</td>\n      <td>0.156207</td>\n      <td>1.266962</td>\n      <td>0.896699</td>\n      <td>0.156207</td>\n      <td>1.266962</td>\n      <td>1</td>\n      <td>True</td>\n      <td>9</td>\n    </tr>\n    <tr>\n      <th>11</th>\n      <td>ExtraTreesGini</td>\n      <td>0.834045</td>\n      <td>0.832609</td>\n      <td>0.488355</td>\n      <td>0.116888</td>\n      <td>1.178776</td>\n      <td>0.488355</td>\n      <td>0.116888</td>\n      <td>1.178776</td>\n      <td>1</td>\n      <td>True</td>\n      <td>8</td>\n    </tr>\n    <tr>\n      <th>12</th>\n      <td>KNeighborsDist</td>\n      <td>0.587456</td>\n      <td>0.574093</td>\n      <td>0.024607</td>\n      <td>0.011773</td>\n      <td>0.033804</td>\n      <td>0.024607</td>\n      <td>0.011773</td>\n      <td>0.033804</td>\n      <td>1</td>\n      <td>True</td>\n      <td>2</td>\n    </tr>\n    <tr>\n      <th>13</th>\n      <td>KNeighborsUnif</td>\n      <td>0.584379</td>\n      <td>0.567274</td>\n      <td>0.041505</td>\n      <td>0.018591</td>\n      <td>0.036109</td>\n      <td>0.041505</td>\n      <td>0.018591</td>\n      <td>0.036109</td>\n      <td>1</td>\n      <td>True</td>\n      <td>1</td>\n    </tr>\n  </tbody>\n</table>\n</div>"
     },
     "execution_count": 27,
     "metadata": {},
     "output_type": "execute_result"
    }
   ],
   "source": [
    "predictor.leaderboard(test_data, silent=True)"
   ],
   "metadata": {
    "collapsed": false
   }
  },
  {
   "cell_type": "code",
   "execution_count": null,
   "outputs": [],
   "source": [
    "predictor._learner.get_"
   ],
   "metadata": {
    "collapsed": false
   }
  },
  {
   "cell_type": "code",
   "execution_count": 33,
   "outputs": [
    {
     "data": {
      "text/plain": "[]"
     },
     "execution_count": 33,
     "metadata": {},
     "output_type": "execute_result"
    }
   ],
   "source": [
    "predictor.get_model_names_persisted()"
   ],
   "metadata": {
    "collapsed": false
   }
  },
  {
   "cell_type": "code",
   "execution_count": 38,
   "outputs": [
    {
     "data": {
      "text/plain": "{'iterations': 10000,\n 'learning_rate': 0.05,\n 'thread_count': 10,\n 'random_seed': 0,\n 'eval_metric': 'Logloss',\n 'allow_writing_files': False}"
     },
     "execution_count": 38,
     "metadata": {},
     "output_type": "execute_result"
    }
   ],
   "source": [
    "predictor._trainer.load_model('CatBoost').model.get_params()"
   ],
   "metadata": {
    "collapsed": false
   }
  },
  {
   "cell_type": "code",
   "execution_count": null,
   "outputs": [],
   "source": [],
   "metadata": {
    "collapsed": false
   }
  }
 ],
 "metadata": {
  "kernelspec": {
   "display_name": "Python 3",
   "language": "python",
   "name": "python3"
  },
  "language_info": {
   "codemirror_mode": {
    "name": "ipython",
    "version": 2
   },
   "file_extension": ".py",
   "mimetype": "text/x-python",
   "name": "python",
   "nbconvert_exporter": "python",
   "pygments_lexer": "ipython2",
   "version": "2.7.6"
  }
 },
 "nbformat": 4,
 "nbformat_minor": 0
}
