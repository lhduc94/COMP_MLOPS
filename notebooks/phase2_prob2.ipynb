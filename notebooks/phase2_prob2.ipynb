{
 "cells": [
  {
   "cell_type": "code",
   "execution_count": 1,
   "metadata": {
    "tags": []
   },
   "outputs": [],
   "source": [
    "import os\n",
    "import sys\n",
    "module_path = os.path.abspath(os.path.join('../'))\n",
    "if module_path not in sys.path:\n",
    "    sys.path.append(module_path)"
   ]
  },
  {
   "cell_type": "code",
   "execution_count": 30,
   "metadata": {},
   "outputs": [],
   "source": [
    "import pandas as pd\n",
    "import warnings\n",
    "warnings.filterwarnings('ignore')\n",
    "\n",
    "import pickle\n",
    "from sklearn.model_selection import StratifiedKFold\n",
    "from sklearn.metrics import classification_report, roc_auc_score, f1_score, accuracy_score, multilabel_confusion_matrix, ConfusionMatrixDisplay, confusion_matrix\n",
    "from lightgbm import LGBMClassifier\n",
    "from catboost import CatBoostClassifier\n",
    "from src.data_processor.phase_2.prob2.v2 import  Phase2Prob2FeatureProcessor\n",
    "import numpy as np"
   ]
  },
  {
   "cell_type": "code",
   "execution_count": 31,
   "metadata": {
    "collapsed": false,
    "jupyter": {
     "outputs_hidden": false
    }
   },
   "outputs": [
    {
     "data": {
      "text/plain": [
       "Normal                   22390\n",
       "Other                    13963\n",
       "Exploits                 10864\n",
       "Denial of Service         9585\n",
       "Information Gathering     4081\n",
       "Malware                    958\n",
       "Name: label, dtype: int64"
      ]
     },
     "execution_count": 31,
     "metadata": {},
     "output_type": "execute_result"
    }
   ],
   "source": [
    "df = pd.read_parquet(\"D:/Data/MLOPS_2023/data_phase-2/phase-2/prob-2/raw_train.parquet\")\n",
    "df['label'].value_counts()"
   ]
  },
  {
   "cell_type": "code",
   "execution_count": 32,
   "metadata": {},
   "outputs": [],
   "source": [
    "df.to_csv('output2.csv',index=False)"
   ]
  },
  {
   "cell_type": "code",
   "execution_count": 33,
   "metadata": {},
   "outputs": [
    {
     "data": {
      "text/plain": [
       "['feature1',\n",
       " 'feature5',\n",
       " 'feature6',\n",
       " 'feature7',\n",
       " 'feature8',\n",
       " 'feature9',\n",
       " 'feature10',\n",
       " 'feature11',\n",
       " 'feature12',\n",
       " 'feature13',\n",
       " 'feature14',\n",
       " 'feature15',\n",
       " 'feature16',\n",
       " 'feature17',\n",
       " 'feature18',\n",
       " 'feature19',\n",
       " 'feature20',\n",
       " 'feature21',\n",
       " 'feature22',\n",
       " 'feature23',\n",
       " 'feature24',\n",
       " 'feature25',\n",
       " 'feature26',\n",
       " 'feature27',\n",
       " 'feature28',\n",
       " 'feature29',\n",
       " 'feature30',\n",
       " 'feature31',\n",
       " 'feature32',\n",
       " 'feature33',\n",
       " 'feature34',\n",
       " 'feature35',\n",
       " 'feature36',\n",
       " 'feature37',\n",
       " 'feature38',\n",
       " 'feature39',\n",
       " 'feature40',\n",
       " 'feature41']"
      ]
     },
     "execution_count": 33,
     "metadata": {},
     "output_type": "execute_result"
    }
   ],
   "source": [
    "[x for x in df.columns if x not in categorical+['label']]"
   ]
  },
  {
   "cell_type": "code",
   "execution_count": 34,
   "metadata": {},
   "outputs": [
    {
     "data": {
      "text/html": [
       "<div>\n",
       "<style scoped>\n",
       "    .dataframe tbody tr th:only-of-type {\n",
       "        vertical-align: middle;\n",
       "    }\n",
       "\n",
       "    .dataframe tbody tr th {\n",
       "        vertical-align: top;\n",
       "    }\n",
       "\n",
       "    .dataframe thead th {\n",
       "        text-align: right;\n",
       "    }\n",
       "</style>\n",
       "<table border=\"1\" class=\"dataframe\">\n",
       "  <thead>\n",
       "    <tr style=\"text-align: right;\">\n",
       "      <th></th>\n",
       "      <th>feature22</th>\n",
       "      <th>feature19</th>\n",
       "    </tr>\n",
       "  </thead>\n",
       "  <tbody>\n",
       "    <tr>\n",
       "      <th>feature22</th>\n",
       "      <td>1.000000</td>\n",
       "      <td>0.980565</td>\n",
       "    </tr>\n",
       "    <tr>\n",
       "      <th>feature19</th>\n",
       "      <td>0.980565</td>\n",
       "      <td>1.000000</td>\n",
       "    </tr>\n",
       "  </tbody>\n",
       "</table>\n",
       "</div>"
      ],
      "text/plain": [
       "           feature22  feature19\n",
       "feature22   1.000000   0.980565\n",
       "feature19   0.980565   1.000000"
      ]
     },
     "execution_count": 34,
     "metadata": {},
     "output_type": "execute_result"
    }
   ],
   "source": [
    "df[['feature22','feature19']].corr()"
   ]
  },
  {
   "cell_type": "code",
   "execution_count": 35,
   "metadata": {},
   "outputs": [
    {
     "data": {
      "text/html": [
       "<div>\n",
       "<style scoped>\n",
       "    .dataframe tbody tr th:only-of-type {\n",
       "        vertical-align: middle;\n",
       "    }\n",
       "\n",
       "    .dataframe tbody tr th {\n",
       "        vertical-align: top;\n",
       "    }\n",
       "\n",
       "    .dataframe thead th {\n",
       "        text-align: right;\n",
       "    }\n",
       "</style>\n",
       "<table border=\"1\" class=\"dataframe\">\n",
       "  <thead>\n",
       "    <tr style=\"text-align: right;\">\n",
       "      <th></th>\n",
       "      <th>feature9</th>\n",
       "      <th>feature27</th>\n",
       "    </tr>\n",
       "  </thead>\n",
       "  <tbody>\n",
       "    <tr>\n",
       "      <th>feature9</th>\n",
       "      <td>1.00000</td>\n",
       "      <td>-0.54512</td>\n",
       "    </tr>\n",
       "    <tr>\n",
       "      <th>feature27</th>\n",
       "      <td>-0.54512</td>\n",
       "      <td>1.00000</td>\n",
       "    </tr>\n",
       "  </tbody>\n",
       "</table>\n",
       "</div>"
      ],
      "text/plain": [
       "           feature9  feature27\n",
       "feature9    1.00000   -0.54512\n",
       "feature27  -0.54512    1.00000"
      ]
     },
     "execution_count": 35,
     "metadata": {},
     "output_type": "execute_result"
    }
   ],
   "source": [
    "df[['feature9','feature27']].corr()"
   ]
  },
  {
   "cell_type": "code",
   "execution_count": 36,
   "metadata": {},
   "outputs": [
    {
     "data": {
      "text/html": [
       "<div>\n",
       "<style scoped>\n",
       "    .dataframe tbody tr th:only-of-type {\n",
       "        vertical-align: middle;\n",
       "    }\n",
       "\n",
       "    .dataframe tbody tr th {\n",
       "        vertical-align: top;\n",
       "    }\n",
       "\n",
       "    .dataframe thead th {\n",
       "        text-align: right;\n",
       "    }\n",
       "</style>\n",
       "<table border=\"1\" class=\"dataframe\">\n",
       "  <thead>\n",
       "    <tr style=\"text-align: right;\">\n",
       "      <th></th>\n",
       "      <th>feature6</th>\n",
       "      <th>feature14</th>\n",
       "    </tr>\n",
       "  </thead>\n",
       "  <tbody>\n",
       "    <tr>\n",
       "      <th>feature6</th>\n",
       "      <td>1.000000</td>\n",
       "      <td>0.981393</td>\n",
       "    </tr>\n",
       "    <tr>\n",
       "      <th>feature14</th>\n",
       "      <td>0.981393</td>\n",
       "      <td>1.000000</td>\n",
       "    </tr>\n",
       "  </tbody>\n",
       "</table>\n",
       "</div>"
      ],
      "text/plain": [
       "           feature6  feature14\n",
       "feature6   1.000000   0.981393\n",
       "feature14  0.981393   1.000000"
      ]
     },
     "execution_count": 36,
     "metadata": {},
     "output_type": "execute_result"
    }
   ],
   "source": [
    "df[['feature6','feature14']].corr()"
   ]
  },
  {
   "cell_type": "code",
   "execution_count": 37,
   "metadata": {},
   "outputs": [
    {
     "data": {
      "text/html": [
       "<div>\n",
       "<style scoped>\n",
       "    .dataframe tbody tr th:only-of-type {\n",
       "        vertical-align: middle;\n",
       "    }\n",
       "\n",
       "    .dataframe tbody tr th {\n",
       "        vertical-align: top;\n",
       "    }\n",
       "\n",
       "    .dataframe thead th {\n",
       "        text-align: right;\n",
       "    }\n",
       "</style>\n",
       "<table border=\"1\" class=\"dataframe\">\n",
       "  <thead>\n",
       "    <tr style=\"text-align: right;\">\n",
       "      <th></th>\n",
       "      <th>feature5</th>\n",
       "      <th>feature7</th>\n",
       "      <th>feature13</th>\n",
       "    </tr>\n",
       "  </thead>\n",
       "  <tbody>\n",
       "    <tr>\n",
       "      <th>feature5</th>\n",
       "      <td>1.000000</td>\n",
       "      <td>0.962818</td>\n",
       "      <td>0.970190</td>\n",
       "    </tr>\n",
       "    <tr>\n",
       "      <th>feature7</th>\n",
       "      <td>0.962818</td>\n",
       "      <td>1.000000</td>\n",
       "      <td>0.995964</td>\n",
       "    </tr>\n",
       "    <tr>\n",
       "      <th>feature13</th>\n",
       "      <td>0.970190</td>\n",
       "      <td>0.995964</td>\n",
       "      <td>1.000000</td>\n",
       "    </tr>\n",
       "  </tbody>\n",
       "</table>\n",
       "</div>"
      ],
      "text/plain": [
       "           feature5  feature7  feature13\n",
       "feature5   1.000000  0.962818   0.970190\n",
       "feature7   0.962818  1.000000   0.995964\n",
       "feature13  0.970190  0.995964   1.000000"
      ]
     },
     "execution_count": 37,
     "metadata": {},
     "output_type": "execute_result"
    }
   ],
   "source": [
    "df[['feature5','feature7','feature13']].corr()"
   ]
  },
  {
   "cell_type": "code",
   "execution_count": 38,
   "metadata": {},
   "outputs": [
    {
     "data": {
      "text/html": [
       "<div>\n",
       "<style scoped>\n",
       "    .dataframe tbody tr th:only-of-type {\n",
       "        vertical-align: middle;\n",
       "    }\n",
       "\n",
       "    .dataframe tbody tr th {\n",
       "        vertical-align: top;\n",
       "    }\n",
       "\n",
       "    .dataframe thead th {\n",
       "        text-align: right;\n",
       "    }\n",
       "</style>\n",
       "<table border=\"1\" class=\"dataframe\">\n",
       "  <thead>\n",
       "    <tr style=\"text-align: right;\">\n",
       "      <th></th>\n",
       "      <th>feature30</th>\n",
       "      <th>feature35</th>\n",
       "      <th>feature40</th>\n",
       "    </tr>\n",
       "  </thead>\n",
       "  <tbody>\n",
       "    <tr>\n",
       "      <th>feature30</th>\n",
       "      <td>1.000000</td>\n",
       "      <td>0.954055</td>\n",
       "      <td>0.978894</td>\n",
       "    </tr>\n",
       "    <tr>\n",
       "      <th>feature35</th>\n",
       "      <td>0.954055</td>\n",
       "      <td>1.000000</td>\n",
       "      <td>0.960421</td>\n",
       "    </tr>\n",
       "    <tr>\n",
       "      <th>feature40</th>\n",
       "      <td>0.978894</td>\n",
       "      <td>0.960421</td>\n",
       "      <td>1.000000</td>\n",
       "    </tr>\n",
       "  </tbody>\n",
       "</table>\n",
       "</div>"
      ],
      "text/plain": [
       "           feature30  feature35  feature40\n",
       "feature30   1.000000   0.954055   0.978894\n",
       "feature35   0.954055   1.000000   0.960421\n",
       "feature40   0.978894   0.960421   1.000000"
      ]
     },
     "execution_count": 38,
     "metadata": {},
     "output_type": "execute_result"
    }
   ],
   "source": [
    "df[['feature30','feature35','feature40']].corr()"
   ]
  },
  {
   "cell_type": "code",
   "execution_count": 39,
   "metadata": {},
   "outputs": [
    {
     "data": {
      "text/plain": [
       "<Axes: >"
      ]
     },
     "execution_count": 39,
     "metadata": {},
     "output_type": "execute_result"
    },
    {
     "data": {
      "image/png": "[encoded data removed]",
      "text/plain": [
       "<Figure size 2000x1000 with 2 Axes>"
      ]
     },
     "metadata": {},
     "output_type": "display_data"
    }
   ],
   "source": [
    "import seaborn as sns\n",
    "import matplotlib.pyplot as plt\n",
    "plt.figure(figsize=(20,10))\n",
    "sns.heatmap(df[[x for x in df.columns if x not in categorical+['label']]].corr())"
   ]
  },
  {
   "cell_type": "code",
   "execution_count": 40,
   "metadata": {
    "collapsed": false,
    "jupyter": {
     "outputs_hidden": false
    }
   },
   "outputs": [],
   "source": [
    "# df.drop_duplicates(inplace=True)\n",
    "# df['label'].value_counts()"
   ]
  },
  {
   "cell_type": "code",
   "execution_count": 41,
   "metadata": {
    "collapsed": false,
    "jupyter": {
     "outputs_hidden": false
    }
   },
   "outputs": [],
   "source": [
    "df.reset_index(drop=True, inplace=True)\n",
    "x = df.groupby(['feature1', 'feature2', 'feature3', 'feature4', 'feature5', 'feature6',\n",
    "                'feature7', 'feature8', 'feature9', 'feature10', 'feature11',\n",
    "                'feature12', 'feature13', 'feature14', 'feature15', 'feature16',\n",
    "                'feature17', 'feature18', 'feature19', 'feature20', 'feature21',\n",
    "                'feature22', 'feature23', 'feature24', 'feature25', 'feature26',\n",
    "                'feature27', 'feature28', 'feature29', 'feature30', 'feature31',\n",
    "                'feature32', 'feature33', 'feature34', 'feature35', 'feature36',\n",
    "                'feature37', 'feature38', 'feature39', 'feature40', 'feature41']).apply(lambda x : pd.Series({'list_index':list(x.index),'list_label':list(x['label'])})).reset_index()\n",
    "a = x[x['list_label'].apply(lambda x: len(x)>1)]\n",
    "blacklist = []\n",
    "for t in a['list_index'].values:\n",
    "    blacklist.extend(t)\n",
    "    index = np.array(blacklist)\n",
    "not_index = np.setdiff1d(df.index.to_numpy(), index)\n",
    "new_df = df.iloc[not_index]\n",
    "new_df.reset_index(inplace=True, drop=True)\n",
    "# df['label'].value_counts()"
   ]
  },
  {
   "cell_type": "code",
   "execution_count": 42,
   "metadata": {},
   "outputs": [
    {
     "data": {
      "text/plain": [
       "(37813, 42)"
      ]
     },
     "execution_count": 42,
     "metadata": {},
     "output_type": "execute_result"
    }
   ],
   "source": [
    "new_df.shape"
   ]
  },
  {
   "cell_type": "code",
   "execution_count": 43,
   "metadata": {},
   "outputs": [],
   "source": [
    "from collections import Counter"
   ]
  },
  {
   "cell_type": "code",
   "execution_count": 44,
   "metadata": {},
   "outputs": [],
   "source": [
    "def max_label(x):\n",
    "    if len(x) == 1:\n",
    "        return x[0][0]\n",
    "    if x[0][1] > x[1][1]:\n",
    "        return x[0][0]\n",
    "    return 'Unknown'\n",
    "a['label'] = a['list_label'].apply(lambda x:max_label(Counter(x).most_common(2)))"
   ]
  },
  {
   "cell_type": "code",
   "execution_count": 45,
   "metadata": {},
   "outputs": [],
   "source": [
    "new_2 = a[a['label']!='Unknown']"
   ]
  },
  {
   "cell_type": "code",
   "execution_count": 46,
   "metadata": {},
   "outputs": [],
   "source": [
    "new_2.drop(columns=['list_index'],inplace=True)"
   ]
  },
  {
   "cell_type": "code",
   "execution_count": 47,
   "metadata": {},
   "outputs": [],
   "source": [
    "df = pd.concat([new_df, new_2],axis=0)\n",
    "df = df.sample(frac=1, random_state=42)"
   ]
  },
  {
   "cell_type": "code",
   "execution_count": 48,
   "metadata": {},
   "outputs": [
    {
     "data": {
      "text/plain": [
       "Normal                   21492\n",
       "Exploits                  7418\n",
       "Denial of Service         6321\n",
       "Other                     4740\n",
       "Information Gathering     2388\n",
       "Malware                    495\n",
       "Name: label, dtype: int64"
      ]
     },
     "execution_count": 48,
     "metadata": {},
     "output_type": "execute_result"
    }
   ],
   "source": [
    "df['label'].value_counts()"
   ]
  },
  {
   "cell_type": "code",
   "execution_count": 70,
   "metadata": {
    "collapsed": false,
    "jupyter": {
     "outputs_hidden": false
    }
   },
   "outputs": [],
   "source": [
    "HyperParameters={'objective': 'multiclass',\n",
    "                 'n_estimators':100,\n",
    "                 'learning_rate':0.1,\n",
    "                 'max_depth':11,\n",
    "                 'colsample_bytree':0.5,\n",
    "                 'subsample':0.8,\n",
    "                 'reg_alpha':1.2,\n",
    "                 'reg_lambda':10,\n",
    "                 'random_state':42,\n",
    "                 'min_child_samples':120,\n",
    "                 'class_weight':{'Normal':1, 'Exploits':2,'Denial of Service':2,'Other':2, 'Information Gathering':2,'Malware':3 }\n",
    "              }\n",
    "hyper_parameters = HyperParameters.copy()"
   ]
  },
  {
   "cell_type": "code",
   "execution_count": 71,
   "metadata": {
    "collapsed": false,
    "jupyter": {
     "outputs_hidden": false
    }
   },
   "outputs": [],
   "source": [
    "processor = Phase2Prob2FeatureProcessor()\n",
    "new_df = processor.transform(df)"
   ]
  },
  {
   "cell_type": "code",
   "execution_count": 72,
   "metadata": {},
   "outputs": [],
   "source": [
    "kfold = StratifiedKFold(n_splits=5, random_state=42, shuffle=True)\n",
    "FEATURES = processor.data_features['features']\n",
    "categorical = processor.data_features['categorical_features']\n",
    "TARGET = 'label'"
   ]
  },
  {
   "cell_type": "code",
   "execution_count": 73,
   "metadata": {},
   "outputs": [],
   "source": [
    "# def run(trial):\n",
    "    \n",
    "# #     num_leaves       = trial.suggest_int(\"num_leaves\", 2, 40)\n",
    "#     colsample_bytree = trial.suggest_uniform(\"colsample_bytree\", 0.2, 1.0)\n",
    "#     subsample = trial.suggest_uniform(\"subsample\", 0.2, 1.0)\n",
    "#     reg_lambda        = trial.suggest_loguniform('reg_lambda', 1e-8, 10.0)\n",
    "#     reg_alpha        = trial.suggest_loguniform('lambda_l2', 1e-8, 10.0)\n",
    "#     max_depth = trial.suggest_int('max_depth',3,10)\n",
    "#     hyper_parameters['colsample_bytree'] = colsample_bytree\n",
    "#     hyper_parameters['subsample'] = subsample\n",
    "#     hyper_parameters['reg_lambda'] = reg_lambda\n",
    "#     hyper_parameters['reg_alpha'] = reg_alpha\n",
    "#     hyper_parameters['max_depth'] = max_depth\n",
    "\n",
    "#     models = []\n",
    "#     scores = []\n",
    "#     oofs = np.empty(df.shape[0], dtype='object')\n",
    "#     for i, (train_idx, valid_idx) in enumerate(kfold.split(new_df, df['label'])):\n",
    "#         # Xy_train = new_df.iloc[train_idx]\n",
    "#         # Xy_train['label'] = df.iloc[train_idx][TARGET]\n",
    "#         # Xy_train_NORMAL = Xy_train[Xy_train.label.apply(lambda x: x == 'Malware')]\n",
    "#         # Xy_train_NORMAL_sample = Xy_train_NORMAL.sample(frac=1, random_state=42)\n",
    "#         # # print(Xy_train_NORMAL_sample['label'].value_counts())\n",
    "#         # Xy_train_OTHER = Xy_train[Xy_train.label.apply(lambda x: x != 'Malware')]\n",
    "#         # Xy_train_sample = pd.concat([Xy_train_OTHER,Xy_train_NORMAL_sample])\n",
    "#         # Xy_train_sample = Xy_train_sample.sample(frac=1,random_state=123)\n",
    "#         # print(Xy_train_sample['label'].value_counts())\n",
    "\n",
    "#         X_train = new_df.iloc[train_idx]\n",
    "#         y_train = df.iloc[train_idx][TARGET]\n",
    "#         X_valid = new_df.iloc[valid_idx]\n",
    "#         y_valid = df.iloc[valid_idx][TARGET]\n",
    "\n",
    "\n",
    "#         print(X_train.shape, X_valid.shape)\n",
    "#         print(y_train.shape, y_valid.shape)\n",
    "#         model = LGBMClassifier(**hyper_parameters)\n",
    "#         model.fit(X_train, y_train,\n",
    "#                 eval_set=[(X_train, y_train), (X_valid, y_valid)],\n",
    "#                 eval_metric=[\"logloss\"],\n",
    "#                 categorical_feature=categorical,\n",
    "#                 early_stopping_rounds=50,\n",
    "#                 verbose=50)\n",
    "#         # model = CatBoostClassifier(iterations=100, learning_rate=0.05, max_depth=7, subsample=0.8, random_state=42,eval_metric='AUC',class_weights={1:1.5,0:1})\n",
    "#         # model.fit(X_train, y_train,\n",
    "#         #           cat_features=categorical,\n",
    "#         #           eval_set=[(X_train, y_train), (X_valid, y_valid)])\n",
    "#         models.append(model)\n",
    "#         y_pred = model.predict(X_valid)\n",
    "#         oofs[valid_idx] = y_pred\n",
    "\n",
    "#         print(f\"fold {i} : {accuracy_score(y_valid, y_pred)}\")\n",
    "#         print(classification_report(y_valid, y_pred))\n",
    "#         scores.append(accuracy_score(y_valid, y_pred))\n",
    "#     error = 1- accuracy_score(df[TARGET], oofs)\n",
    "#     print(np.mean(scores), np.std(scores))\n",
    "#     print(classification_report(df[TARGET], oofs))\n",
    "#     print(accuracy_score(df[TARGET], oofs))\n",
    "#     return error"
   ]
  },
  {
   "cell_type": "code",
   "execution_count": 74,
   "metadata": {},
   "outputs": [],
   "source": [
    "from sklearn.ensemble import RandomForestClassifier"
   ]
  },
  {
   "cell_type": "code",
   "execution_count": 63,
   "metadata": {},
   "outputs": [],
   "source": [
    "# study = optuna.create_study()  # Create a new study.\n",
    "# study.optimize(run, n_trials=100)"
   ]
  },
  {
   "cell_type": "code",
   "execution_count": 75,
   "metadata": {},
   "outputs": [
    {
     "data": {
      "text/plain": [
       "{'objective': 'multiclass',\n",
       " 'n_estimators': 100,\n",
       " 'learning_rate': 0.1,\n",
       " 'max_depth': 11,\n",
       " 'colsample_bytree': 0.5,\n",
       " 'subsample': 0.8,\n",
       " 'reg_alpha': 1.2,\n",
       " 'reg_lambda': 10,\n",
       " 'random_state': 42,\n",
       " 'min_child_samples': 120,\n",
       " 'class_weight': {'Normal': 1,\n",
       "  'Exploits': 2,\n",
       "  'Denial of Service': 2,\n",
       "  'Other': 2,\n",
       "  'Information Gathering': 2,\n",
       "  'Malware': 3}}"
      ]
     },
     "execution_count": 75,
     "metadata": {},
     "output_type": "execute_result"
    }
   ],
   "source": [
    "hyper_parameters"
   ]
  },
  {
   "cell_type": "code",
   "execution_count": 76,
   "metadata": {
    "collapsed": false,
    "jupyter": {
     "outputs_hidden": false
    }
   },
   "outputs": [
    {
     "name": "stdout",
     "output_type": "stream",
     "text": [
      "(34283, 42) (8571, 42)\n",
      "(34283,) (8571,)\n",
      "[50]\ttraining's multi_logloss: 0.434829\tvalid_1's multi_logloss: 0.450677\n",
      "[100]\ttraining's multi_logloss: 0.33518\tvalid_1's multi_logloss: 0.363054\n",
      "[150]\ttraining's multi_logloss: 0.302783\tvalid_1's multi_logloss: 0.342148\n",
      "[200]\ttraining's multi_logloss: 0.283044\tvalid_1's multi_logloss: 0.333223\n",
      "[250]\ttraining's multi_logloss: 0.267918\tvalid_1's multi_logloss: 0.329092\n",
      "[300]\ttraining's multi_logloss: 0.255503\tvalid_1's multi_logloss: 0.326229\n",
      "[350]\ttraining's multi_logloss: 0.24504\tvalid_1's multi_logloss: 0.324491\n",
      "[400]\ttraining's multi_logloss: 0.235543\tvalid_1's multi_logloss: 0.323205\n",
      "[450]\ttraining's multi_logloss: 0.227101\tvalid_1's multi_logloss: 0.322366\n",
      "[500]\ttraining's multi_logloss: 0.219347\tvalid_1's multi_logloss: 0.321922\n",
      "[550]\ttraining's multi_logloss: 0.212194\tvalid_1's multi_logloss: 0.321719\n",
      "[600]\ttraining's multi_logloss: 0.205768\tvalid_1's multi_logloss: 0.321581\n",
      "[650]\ttraining's multi_logloss: 0.199596\tvalid_1's multi_logloss: 0.321409\n",
      "[700]\ttraining's multi_logloss: 0.193914\tvalid_1's multi_logloss: 0.321332\n",
      "[750]\ttraining's multi_logloss: 0.188479\tvalid_1's multi_logloss: 0.321436\n",
      "fold 0 : 0.8598763271496909\n",
      "                       precision    recall  f1-score   support\n",
      "\n",
      "    Denial of Service       0.66      0.55      0.60      1264\n",
      "             Exploits       0.80      0.87      0.83      1483\n",
      "Information Gathering       0.91      0.79      0.85       478\n",
      "              Malware       0.59      0.55      0.57        99\n",
      "               Normal       0.90      0.94      0.92      4299\n",
      "                Other       0.99      0.95      0.97       948\n",
      "\n",
      "             accuracy                           0.86      8571\n",
      "            macro avg       0.81      0.78      0.79      8571\n",
      "         weighted avg       0.86      0.86      0.86      8571\n",
      "\n",
      "(34283, 42) (8571, 42)\n",
      "(34283,) (8571,)\n",
      "[50]\ttraining's multi_logloss: 0.436766\tvalid_1's multi_logloss: 0.443857\n",
      "[100]\ttraining's multi_logloss: 0.337076\tvalid_1's multi_logloss: 0.355313\n",
      "[150]\ttraining's multi_logloss: 0.304296\tvalid_1's multi_logloss: 0.334062\n",
      "[200]\ttraining's multi_logloss: 0.284376\tvalid_1's multi_logloss: 0.325706\n",
      "[250]\ttraining's multi_logloss: 0.269053\tvalid_1's multi_logloss: 0.321256\n",
      "[300]\ttraining's multi_logloss: 0.256624\tvalid_1's multi_logloss: 0.318457\n",
      "[350]\ttraining's multi_logloss: 0.245784\tvalid_1's multi_logloss: 0.316744\n",
      "[400]\ttraining's multi_logloss: 0.236446\tvalid_1's multi_logloss: 0.315965\n",
      "[450]\ttraining's multi_logloss: 0.228035\tvalid_1's multi_logloss: 0.315149\n",
      "[500]\ttraining's multi_logloss: 0.22033\tvalid_1's multi_logloss: 0.314687\n",
      "[550]\ttraining's multi_logloss: 0.21295\tvalid_1's multi_logloss: 0.314774\n",
      "fold 1 : 0.8652432621631082\n",
      "                       precision    recall  f1-score   support\n",
      "\n",
      "    Denial of Service       0.67      0.55      0.61      1264\n",
      "             Exploits       0.81      0.87      0.84      1484\n",
      "Information Gathering       0.89      0.84      0.87       477\n",
      "              Malware       0.66      0.59      0.62        99\n",
      "               Normal       0.91      0.94      0.92      4299\n",
      "                Other       0.98      0.97      0.98       948\n",
      "\n",
      "             accuracy                           0.87      8571\n",
      "            macro avg       0.82      0.79      0.81      8571\n",
      "         weighted avg       0.86      0.87      0.86      8571\n",
      "\n",
      "(34283, 42) (8571, 42)\n",
      "(34283,) (8571,)\n",
      "[50]\ttraining's multi_logloss: 0.435671\tvalid_1's multi_logloss: 0.449407\n",
      "[100]\ttraining's multi_logloss: 0.335826\tvalid_1's multi_logloss: 0.362718\n",
      "[150]\ttraining's multi_logloss: 0.302927\tvalid_1's multi_logloss: 0.342215\n",
      "[200]\ttraining's multi_logloss: 0.2828\tvalid_1's multi_logloss: 0.333604\n",
      "[250]\ttraining's multi_logloss: 0.268023\tvalid_1's multi_logloss: 0.329134\n",
      "[300]\ttraining's multi_logloss: 0.255533\tvalid_1's multi_logloss: 0.326097\n",
      "[350]\ttraining's multi_logloss: 0.244933\tvalid_1's multi_logloss: 0.32436\n",
      "[400]\ttraining's multi_logloss: 0.235605\tvalid_1's multi_logloss: 0.323382\n",
      "[450]\ttraining's multi_logloss: 0.227045\tvalid_1's multi_logloss: 0.322332\n",
      "[500]\ttraining's multi_logloss: 0.219413\tvalid_1's multi_logloss: 0.321596\n",
      "[550]\ttraining's multi_logloss: 0.21239\tvalid_1's multi_logloss: 0.321261\n",
      "[600]\ttraining's multi_logloss: 0.206004\tvalid_1's multi_logloss: 0.320945\n",
      "[650]\ttraining's multi_logloss: 0.199752\tvalid_1's multi_logloss: 0.320862\n",
      "[700]\ttraining's multi_logloss: 0.194044\tvalid_1's multi_logloss: 0.320852\n",
      "fold 2 : 0.858709602146774\n",
      "                       precision    recall  f1-score   support\n",
      "\n",
      "    Denial of Service       0.65      0.55      0.60      1265\n",
      "             Exploits       0.80      0.87      0.84      1484\n",
      "Information Gathering       0.91      0.83      0.87       477\n",
      "              Malware       0.60      0.51      0.55        99\n",
      "               Normal       0.90      0.94      0.92      4298\n",
      "                Other       0.99      0.95      0.97       948\n",
      "\n",
      "             accuracy                           0.86      8571\n",
      "            macro avg       0.81      0.77      0.79      8571\n",
      "         weighted avg       0.85      0.86      0.86      8571\n",
      "\n",
      "(34283, 42) (8571, 42)\n",
      "(34283,) (8571,)\n",
      "[50]\ttraining's multi_logloss: 0.436316\tvalid_1's multi_logloss: 0.447997\n",
      "[100]\ttraining's multi_logloss: 0.335847\tvalid_1's multi_logloss: 0.359089\n",
      "[150]\ttraining's multi_logloss: 0.303006\tvalid_1's multi_logloss: 0.339154\n",
      "[200]\ttraining's multi_logloss: 0.282897\tvalid_1's multi_logloss: 0.331393\n",
      "[250]\ttraining's multi_logloss: 0.267677\tvalid_1's multi_logloss: 0.326842\n",
      "[300]\ttraining's multi_logloss: 0.254949\tvalid_1's multi_logloss: 0.323839\n",
      "[350]\ttraining's multi_logloss: 0.244084\tvalid_1's multi_logloss: 0.322511\n",
      "[400]\ttraining's multi_logloss: 0.234439\tvalid_1's multi_logloss: 0.321568\n",
      "[450]\ttraining's multi_logloss: 0.226119\tvalid_1's multi_logloss: 0.320875\n",
      "[500]\ttraining's multi_logloss: 0.218601\tvalid_1's multi_logloss: 0.32046\n",
      "[550]\ttraining's multi_logloss: 0.211585\tvalid_1's multi_logloss: 0.320049\n",
      "[600]\ttraining's multi_logloss: 0.204972\tvalid_1's multi_logloss: 0.319885\n",
      "[650]\ttraining's multi_logloss: 0.199033\tvalid_1's multi_logloss: 0.319843\n",
      "[700]\ttraining's multi_logloss: 0.193557\tvalid_1's multi_logloss: 0.320004\n",
      "fold 3 : 0.8630264846575663\n",
      "                       precision    recall  f1-score   support\n",
      "\n",
      "    Denial of Service       0.66      0.56      0.61      1264\n",
      "             Exploits       0.80      0.87      0.84      1484\n",
      "Information Gathering       0.88      0.84      0.86       478\n",
      "              Malware       0.70      0.59      0.64        99\n",
      "               Normal       0.91      0.94      0.92      4298\n",
      "                Other       0.99      0.96      0.97       948\n",
      "\n",
      "             accuracy                           0.86      8571\n",
      "            macro avg       0.82      0.79      0.81      8571\n",
      "         weighted avg       0.86      0.86      0.86      8571\n",
      "\n",
      "(34284, 42) (8570, 42)\n",
      "(34284,) (8570,)\n",
      "[50]\ttraining's multi_logloss: 0.434143\tvalid_1's multi_logloss: 0.453096\n",
      "[100]\ttraining's multi_logloss: 0.334002\tvalid_1's multi_logloss: 0.365257\n",
      "[150]\ttraining's multi_logloss: 0.300938\tvalid_1's multi_logloss: 0.344608\n",
      "[200]\ttraining's multi_logloss: 0.281103\tvalid_1's multi_logloss: 0.336718\n",
      "[250]\ttraining's multi_logloss: 0.265544\tvalid_1's multi_logloss: 0.332929\n",
      "[300]\ttraining's multi_logloss: 0.253168\tvalid_1's multi_logloss: 0.330773\n",
      "[350]\ttraining's multi_logloss: 0.242421\tvalid_1's multi_logloss: 0.329452\n",
      "[400]\ttraining's multi_logloss: 0.233068\tvalid_1's multi_logloss: 0.328743\n",
      "[450]\ttraining's multi_logloss: 0.224518\tvalid_1's multi_logloss: 0.328441\n",
      "[500]\ttraining's multi_logloss: 0.21687\tvalid_1's multi_logloss: 0.328327\n",
      "[550]\ttraining's multi_logloss: 0.209872\tvalid_1's multi_logloss: 0.328122\n",
      "fold 4 : 0.8558926487747958\n",
      "                       precision    recall  f1-score   support\n",
      "\n",
      "    Denial of Service       0.66      0.53      0.59      1264\n",
      "             Exploits       0.81      0.86      0.84      1483\n",
      "Information Gathering       0.86      0.81      0.84       478\n",
      "              Malware       0.67      0.56      0.61        99\n",
      "               Normal       0.89      0.94      0.92      4298\n",
      "                Other       0.99      0.95      0.97       948\n",
      "\n",
      "             accuracy                           0.86      8570\n",
      "            macro avg       0.81      0.78      0.79      8570\n",
      "         weighted avg       0.85      0.86      0.85      8570\n",
      "\n",
      "0.860549664978387 0.003276934702795908\n",
      "                       precision    recall  f1-score   support\n",
      "\n",
      "    Denial of Service       0.66      0.55      0.60      6321\n",
      "             Exploits       0.80      0.87      0.84      7418\n",
      "Information Gathering       0.89      0.82      0.86      2388\n",
      "              Malware       0.64      0.56      0.60       495\n",
      "               Normal       0.90      0.94      0.92     21492\n",
      "                Other       0.99      0.95      0.97      4740\n",
      "\n",
      "             accuracy                           0.86     42854\n",
      "            macro avg       0.82      0.78      0.80     42854\n",
      "         weighted avg       0.86      0.86      0.86     42854\n",
      "\n",
      "0.8605497736500677\n"
     ]
    }
   ],
   "source": [
    "TARGET = 'label'\n",
    "# hyper_parameters['objective'] = 'multiclass'\n",
    "hyper_parameters['n_estimators'] = 1000\n",
    "hyper_parameters['learning_rate'] = 0.03\n",
    "hyper_parameters['class_weight'] = None\n",
    "models = []\n",
    "scores = []\n",
    "oofs = np.empty(df.shape[0], dtype='object')\n",
    "for i, (train_idx, valid_idx) in enumerate(kfold.split(new_df, df[TARGET])):\n",
    "    # Xy_train = new_df.iloc[train_idx]\n",
    "    # Xy_train['label'] = df.iloc[train_idx][TARGET]\n",
    "    # Xy_train_NORMAL = Xy_train[Xy_train.label.apply(lambda x: x == 'Malware')]\n",
    "    # Xy_train_NORMAL_sample = Xy_train_NORMAL.sample(frac=1, random_state=42)\n",
    "    # # print(Xy_train_NORMAL_sample['label'].value_counts())\n",
    "    # Xy_train_OTHER = Xy_train[Xy_train.label.apply(lambda x: x != 'Malware')]\n",
    "    # Xy_train_sample = pd.concat([Xy_train_OTHER,Xy_train_NORMAL_sample])\n",
    "    # Xy_train_sample = Xy_train_sample.sample(frac=1,random_state=123)\n",
    "    # print(Xy_train_sample['label'].value_counts())\n",
    "\n",
    "    X_train = new_df.iloc[train_idx]\n",
    "    y_train = df.iloc[train_idx][TARGET]\n",
    "    X_valid = new_df.iloc[valid_idx]\n",
    "    y_valid = df.iloc[valid_idx][TARGET]\n",
    "\n",
    "\n",
    "    print(X_train.shape, X_valid.shape)\n",
    "    print(y_train.shape, y_valid.shape)\n",
    "    model = LGBMClassifier(**hyper_parameters)\n",
    "    model.fit(X_train, y_train,\n",
    "              eval_set=[(X_train, y_train), (X_valid, y_valid)],\n",
    "              eval_metric=[\"logloss\"],\n",
    "              categorical_feature=categorical,\n",
    "              early_stopping_rounds=50,\n",
    "              verbose=50)\n",
    "    # model = CatBoostClassifier(iterations=100, learning_rate=0.05, max_depth=7, subsample=0.8, random_state=42,eval_metric='AUC',class_weights={1:1.5,0:1})\n",
    "    # model.fit(X_train, y_train,\n",
    "    #           cat_features=categorical,\n",
    "    #           eval_set=[(X_train, y_train), (X_valid, y_valid)])\n",
    "    models.append(model)\n",
    "    y_pred = model.predict(X_valid)\n",
    "    oofs[valid_idx] = y_pred\n",
    "\n",
    "    print(f\"fold {i} : {accuracy_score(y_valid, y_pred)}\")\n",
    "    print(classification_report(y_valid, y_pred))\n",
    "    scores.append(accuracy_score(y_valid, y_pred))\n",
    "\n",
    "print(np.mean(scores), np.std(scores))\n",
    "print(classification_report(df[TARGET], oofs))\n",
    "print(accuracy_score(df[TARGET], oofs))"
   ]
  },
  {
   "cell_type": "code",
   "execution_count": 56,
   "metadata": {
    "collapsed": false,
    "jupyter": {
     "outputs_hidden": false
    }
   },
   "outputs": [],
   "source": [
    "disp = ConfusionMatrixDisplay(confusion_matrix=confusion_matrix(df[TARGET],oofs,labels=models[0].classes_), display_labels=models[0].classes_)"
   ]
  },
  {
   "cell_type": "code",
   "execution_count": null,
   "metadata": {},
   "outputs": [],
   "source": []
  },
  {
   "cell_type": "code",
   "execution_count": 57,
   "metadata": {
    "collapsed": false,
    "jupyter": {
     "outputs_hidden": false
    }
   },
   "outputs": [
    {
     "data": {
      "text/plain": [
       "array([[ 3425,   947,    25,    56,  1849,    19],\n",
       "       [  500,  6490,   158,    59,   187,    24],\n",
       "       [   34,   261,  1967,     3,   122,     1],\n",
       "       [   69,    90,     9,   287,    36,     4],\n",
       "       [ 1069,   148,    24,    13, 20234,     4],\n",
       "       [   51,   139,     2,     8,    12,  4528]], dtype=int64)"
      ]
     },
     "execution_count": 57,
     "metadata": {},
     "output_type": "execute_result"
    }
   ],
   "source": [
    "confusion_matrix(df[TARGET],oofs,labels=models[0].classes_)"
   ]
  },
  {
   "cell_type": "code",
   "execution_count": 58,
   "metadata": {
    "collapsed": false,
    "jupyter": {
     "outputs_hidden": false
    }
   },
   "outputs": [
    {
     "data": {
      "text/plain": [
       "<sklearn.metrics._plot.confusion_matrix.ConfusionMatrixDisplay at 0x161ea2a1e50>"
      ]
     },
     "execution_count": 58,
     "metadata": {},
     "output_type": "execute_result"
    },
    {
     "data": {
      "image/png": "[encoded data removed]",
      "text/plain": [
       "<Figure size 1000x1000 with 2 Axes>"
      ]
     },
     "metadata": {},
     "output_type": "display_data"
    }
   ],
   "source": [
    "import matplotlib.pyplot as plt\n",
    "fig, ax = plt.subplots(1, 1, figsize=(10,10))\n",
    "disp.plot(ax=ax)"
   ]
  },
  {
   "cell_type": "code",
   "execution_count": 127,
   "metadata": {
    "collapsed": false,
    "jupyter": {
     "outputs_hidden": false
    }
   },
   "outputs": [
    {
     "name": "stdout",
     "output_type": "stream",
     "text": [
      "[LightGBM] [Warning] Unknown parameter: min_data_leaf\n",
      "[50]\tvalid_0's multi_logloss: 0.280028\n",
      "[100]\tvalid_0's multi_logloss: 0.228986\n"
     ]
    }
   ],
   "source": [
    "gmodel = LGBMClassifier(**models[0].get_params())\n",
    "gmodel.fit(new_df[FEATURES], df[TARGET],\n",
    "           eval_set=[(new_df[FEATURES],df[TARGET])],\n",
    "           eval_metric=[\"logloss\"],\n",
    "           categorical_feature=categorical,\n",
    "           verbose=50)\n",
    "\n",
    "with open(f'../checkpoints/phase-2/prob-2/v1.pkl','wb') as file:\n",
    "    pickle.dump(gmodel, file)"
   ]
  },
  {
   "cell_type": "code",
   "execution_count": 65,
   "metadata": {},
   "outputs": [
    {
     "data": {
      "text/plain": [
       "['feature1',\n",
       " 'feature2',\n",
       " 'feature3',\n",
       " 'feature4',\n",
       " 'feature5',\n",
       " 'feature6',\n",
       " 'feature7',\n",
       " 'feature8',\n",
       " 'feature9',\n",
       " 'feature10',\n",
       " 'feature11',\n",
       " 'feature12',\n",
       " 'feature13',\n",
       " 'feature14',\n",
       " 'feature15',\n",
       " 'feature16',\n",
       " 'feature17',\n",
       " 'feature18',\n",
       " 'feature19',\n",
       " 'feature20',\n",
       " 'feature21',\n",
       " 'feature23',\n",
       " 'feature24',\n",
       " 'feature25',\n",
       " 'feature26',\n",
       " 'feature27',\n",
       " 'feature28',\n",
       " 'feature29',\n",
       " 'feature30',\n",
       " 'feature31',\n",
       " 'feature32',\n",
       " 'feature33',\n",
       " 'feature34',\n",
       " 'feature35',\n",
       " 'feature36',\n",
       " 'feature38',\n",
       " 'feature39',\n",
       " 'feature40',\n",
       " 'feature41',\n",
       " '9_10',\n",
       " '7+26']"
      ]
     },
     "execution_count": 65,
     "metadata": {},
     "output_type": "execute_result"
    }
   ],
   "source": [
    "gmodel.feature_name_"
   ]
  },
  {
   "cell_type": "code",
   "execution_count": 16,
   "metadata": {},
   "outputs": [
    {
     "data": {
      "text/plain": [
       "41"
      ]
     },
     "execution_count": 16,
     "metadata": {},
     "output_type": "execute_result"
    }
   ],
   "source": [
    "len(processor.FEATURES)"
   ]
  },
  {
   "cell_type": "code",
   "execution_count": null,
   "metadata": {},
   "outputs": [],
   "source": []
  }
 ],
 "metadata": {
  "kernelspec": {
   "display_name": "Python 3 (ipykernel)",
   "language": "python",
   "name": "python3"
  },
  "language_info": {
   "codemirror_mode": {
    "name": "ipython",
    "version": 3
   },
   "file_extension": ".py",
   "mimetype": "text/x-python",
   "name": "python",
   "nbconvert_exporter": "python",
   "pygments_lexer": "ipython3",
   "version": "3.9.16"
  }
 },
 "nbformat": 4,
 "nbformat_minor": 4
}
