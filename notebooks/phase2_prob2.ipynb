{
 "cells": [
  {
   "cell_type": "code",
   "execution_count": 1,
   "metadata": {
    "tags": []
   },
   "outputs": [],
   "source": [
    "import os\n",
    "import sys\n",
    "module_path = os.path.abspath(os.path.join('..'))\n",
    "if module_path not in sys.path:\n",
    "    sys.path.append(module_path)\n",
    "import pandas as pd\n",
    "import warnings\n",
    "warnings.filterwarnings('ignore')\n",
    "import pickle\n",
    "from sklearn.model_selection import StratifiedKFold\n",
    "from sklearn.metrics import classification_report, roc_auc_score, f1_score, accuracy_score, multilabel_confusion_matrix, ConfusionMatrixDisplay, confusion_matrix\n",
    "from lightgbm import LGBMClassifier\n",
    "from catboost import CatBoostClassifier\n",
    "from src.data_processor.phase_2.prob2.v1 import  Phase2Prob2FeatureProcessor\n",
    "import numpy as np"
   ]
  },
  {
   "cell_type": "code",
   "execution_count": 2,
   "metadata": {
    "collapsed": false,
    "jupyter": {
     "outputs_hidden": false
    }
   },
   "outputs": [
    {
     "data": {
      "text/plain": [
       "label\n",
       "Normal                   22390\n",
       "Other                    13963\n",
       "Exploits                 10864\n",
       "Denial of Service         9585\n",
       "Information Gathering     4081\n",
       "Malware                    958\n",
       "Name: count, dtype: int64"
      ]
     },
     "execution_count": 2,
     "metadata": {},
     "output_type": "execute_result"
    }
   ],
   "source": [
    "df = pd.read_parquet(\"D:/Data/MLOPS_2023/data_phase-2/phase-2/prob-2/raw_train.parquet\")\n",
    "df['label'].value_counts()"
   ]
  },
  {
   "cell_type": "code",
   "execution_count": null,
   "metadata": {
    "collapsed": false,
    "jupyter": {
     "outputs_hidden": false
    }
   },
   "outputs": [],
   "source": []
  },
  {
   "cell_type": "code",
   "execution_count": 3,
   "metadata": {
    "collapsed": false,
    "jupyter": {
     "outputs_hidden": false
    }
   },
   "outputs": [
    {
     "data": {
      "text/plain": [
       "label\n",
       "Normal                   21549\n",
       "Exploits                  8256\n",
       "Denial of Service         7322\n",
       "Other                     4808\n",
       "Information Gathering     3196\n",
       "Malware                    926\n",
       "Name: count, dtype: int64"
      ]
     },
     "execution_count": 3,
     "metadata": {},
     "output_type": "execute_result"
    }
   ],
   "source": [
    "df.drop_duplicates(inplace=True)\n",
    "df['label'].value_counts()"
   ]
  },
  {
   "cell_type": "code",
   "execution_count": 4,
   "metadata": {
    "collapsed": false,
    "jupyter": {
     "outputs_hidden": false
    }
   },
   "outputs": [
    {
     "data": {
      "text/plain": [
       "label\n",
       "Normal                   21480\n",
       "Exploits                  6778\n",
       "Denial of Service         5811\n",
       "Other                     4740\n",
       "Information Gathering     2369\n",
       "Malware                    494\n",
       "Name: count, dtype: int64"
      ]
     },
     "execution_count": 4,
     "metadata": {},
     "output_type": "execute_result"
    }
   ],
   "source": [
    "df.reset_index(drop=True, inplace=True)\n",
    "x = df.groupby(['feature1', 'feature2', 'feature3', 'feature4', 'feature5', 'feature6',\n",
    "                'feature7', 'feature8', 'feature9', 'feature10', 'feature11',\n",
    "                'feature12', 'feature13', 'feature14', 'feature15', 'feature16',\n",
    "                'feature17', 'feature18', 'feature19', 'feature20', 'feature21',\n",
    "                'feature22', 'feature23', 'feature24', 'feature25', 'feature26',\n",
    "                'feature27', 'feature28', 'feature29', 'feature30', 'feature31',\n",
    "                'feature32', 'feature33', 'feature34', 'feature35', 'feature36',\n",
    "                'feature37', 'feature38', 'feature39', 'feature40', 'feature41']).apply(lambda x : list(x.index)).reset_index()\n",
    "a = x[x[0].apply(lambda x: len(x)>1)]\n",
    "blacklist = []\n",
    "for t in a[0].values:\n",
    "    blacklist.extend(t)\n",
    "    index = np.array(blacklist)\n",
    "not_index = np.setdiff1d(df.index.to_numpy(), index)\n",
    "df = df.iloc[not_index]\n",
    "df.reset_index(inplace=True, drop=True)\n",
    "df['label'].value_counts()"
   ]
  },
  {
   "cell_type": "code",
   "execution_count": 5,
   "metadata": {
    "collapsed": false,
    "jupyter": {
     "outputs_hidden": false
    }
   },
   "outputs": [],
   "source": [
    "HyperParameters={'objective': 'multiclass',\n",
    "                 'n_estimators':100,\n",
    "                 'learning_rate':0.1,\n",
    "                 'max_depth':7,\n",
    "                 'colsample_bytree':0.5,\n",
    "                 'subsample':0.8,\n",
    "                 'random_state':42\n",
    "              }\n",
    "hyper_parameters = HyperParameters.copy()"
   ]
  },
  {
   "cell_type": "code",
   "execution_count": 6,
   "metadata": {
    "collapsed": false,
    "jupyter": {
     "outputs_hidden": false
    }
   },
   "outputs": [],
   "source": [
    "processor = Phase2Prob2FeatureProcessor()\n",
    "new_df = processor.transform(df)"
   ]
  },
  {
   "cell_type": "code",
   "execution_count": 7,
   "metadata": {
    "collapsed": false,
    "jupyter": {
     "outputs_hidden": false
    }
   },
   "outputs": [
    {
     "data": {
      "text/plain": [
       "(41672, 41)"
      ]
     },
     "execution_count": 7,
     "metadata": {},
     "output_type": "execute_result"
    }
   ],
   "source": [
    "new_df.shape"
   ]
  },
  {
   "cell_type": "code",
   "execution_count": 8,
   "metadata": {
    "collapsed": false,
    "jupyter": {
     "outputs_hidden": false
    }
   },
   "outputs": [],
   "source": [
    "from sklearn.preprocessing import StandardScaler"
   ]
  },
  {
   "cell_type": "code",
   "execution_count": 9,
   "metadata": {
    "collapsed": false,
    "jupyter": {
     "outputs_hidden": false
    }
   },
   "outputs": [
    {
     "name": "stdout",
     "output_type": "stream",
     "text": [
      "(33337, 41) (8335, 41)\n",
      "(33337,) (8335,)\n",
      "[50]\ttraining's multi_logloss: 0.256182\tvalid_1's multi_logloss: 0.309589\n",
      "[100]\ttraining's multi_logloss: 0.201656\tvalid_1's multi_logloss: 0.29914\n",
      "fold 0 : 0.871505698860228\n",
      "                       precision    recall  f1-score   support\n",
      "\n",
      "    Denial of Service       0.70      0.54      0.61      1163\n",
      "             Exploits       0.83      0.89      0.86      1356\n",
      "Information Gathering       0.88      0.85      0.86       473\n",
      "              Malware       0.76      0.58      0.66        99\n",
      "               Normal       0.90      0.95      0.92      4296\n",
      "                Other       0.99      0.96      0.97       948\n",
      "\n",
      "             accuracy                           0.87      8335\n",
      "            macro avg       0.84      0.79      0.81      8335\n",
      "         weighted avg       0.87      0.87      0.87      8335\n",
      "\n",
      "(33337, 41) (8335, 41)\n",
      "(33337,) (8335,)\n",
      "[50]\ttraining's multi_logloss: 0.252961\tvalid_1's multi_logloss: 0.318842\n",
      "[100]\ttraining's multi_logloss: 0.196979\tvalid_1's multi_logloss: 0.309745\n",
      "fold 1 : 0.871745650869826\n",
      "                       precision    recall  f1-score   support\n",
      "\n",
      "    Denial of Service       0.67      0.58      0.63      1162\n",
      "             Exploits       0.83      0.89      0.86      1356\n",
      "Information Gathering       0.90      0.83      0.86       474\n",
      "              Malware       0.65      0.55      0.59        99\n",
      "               Normal       0.91      0.94      0.92      4296\n",
      "                Other       0.98      0.96      0.97       948\n",
      "\n",
      "             accuracy                           0.87      8335\n",
      "            macro avg       0.82      0.79      0.81      8335\n",
      "         weighted avg       0.87      0.87      0.87      8335\n",
      "\n",
      "(33338, 41) (8334, 41)\n",
      "(33338,) (8334,)\n",
      "[50]\ttraining's multi_logloss: 0.251725\tvalid_1's multi_logloss: 0.316588\n",
      "[100]\ttraining's multi_logloss: 0.196954\tvalid_1's multi_logloss: 0.305702\n",
      "fold 2 : 0.8692104631629469\n",
      "                       precision    recall  f1-score   support\n",
      "\n",
      "    Denial of Service       0.69      0.52      0.60      1162\n",
      "             Exploits       0.82      0.91      0.86      1356\n",
      "Information Gathering       0.91      0.80      0.85       474\n",
      "              Malware       0.69      0.61      0.65        98\n",
      "               Normal       0.89      0.95      0.92      4296\n",
      "                Other       0.99      0.95      0.97       948\n",
      "\n",
      "             accuracy                           0.87      8334\n",
      "            macro avg       0.83      0.79      0.81      8334\n",
      "         weighted avg       0.86      0.87      0.86      8334\n",
      "\n",
      "(33338, 41) (8334, 41)\n",
      "(33338,) (8334,)\n",
      "[50]\ttraining's multi_logloss: 0.25236\tvalid_1's multi_logloss: 0.316841\n",
      "[100]\ttraining's multi_logloss: 0.197596\tvalid_1's multi_logloss: 0.308933\n",
      "fold 3 : 0.8681305495560355\n",
      "                       precision    recall  f1-score   support\n",
      "\n",
      "    Denial of Service       0.68      0.53      0.59      1162\n",
      "             Exploits       0.82      0.88      0.85      1355\n",
      "Information Gathering       0.91      0.84      0.88       474\n",
      "              Malware       0.67      0.57      0.61        99\n",
      "               Normal       0.90      0.95      0.92      4296\n",
      "                Other       0.99      0.95      0.97       948\n",
      "\n",
      "             accuracy                           0.87      8334\n",
      "            macro avg       0.83      0.79      0.80      8334\n",
      "         weighted avg       0.86      0.87      0.86      8334\n",
      "\n",
      "(33338, 41) (8334, 41)\n",
      "(33338,) (8334,)\n",
      "[50]\ttraining's multi_logloss: 0.251358\tvalid_1's multi_logloss: 0.323028\n",
      "[100]\ttraining's multi_logloss: 0.195835\tvalid_1's multi_logloss: 0.31426\n",
      "fold 4 : 0.8719702423806096\n",
      "                       precision    recall  f1-score   support\n",
      "\n",
      "    Denial of Service       0.69      0.55      0.61      1162\n",
      "             Exploits       0.81      0.90      0.85      1355\n",
      "Information Gathering       0.92      0.84      0.88       474\n",
      "              Malware       0.64      0.49      0.56        99\n",
      "               Normal       0.90      0.94      0.92      4296\n",
      "                Other       0.99      0.96      0.97       948\n",
      "\n",
      "             accuracy                           0.87      8334\n",
      "            macro avg       0.83      0.78      0.80      8334\n",
      "         weighted avg       0.87      0.87      0.87      8334\n",
      "\n",
      "0.8705125209659293 0.0015492647115508784\n",
      "                       precision    recall  f1-score   support\n",
      "\n",
      "    Denial of Service       0.69      0.54      0.61      5811\n",
      "             Exploits       0.82      0.89      0.86      6778\n",
      "Information Gathering       0.90      0.83      0.87      2369\n",
      "              Malware       0.68      0.56      0.61       494\n",
      "               Normal       0.90      0.94      0.92     21480\n",
      "                Other       0.99      0.96      0.97      4740\n",
      "\n",
      "             accuracy                           0.87     41672\n",
      "            macro avg       0.83      0.79      0.81     41672\n",
      "         weighted avg       0.87      0.87      0.87     41672\n",
      "\n",
      "0.870512574390478\n"
     ]
    }
   ],
   "source": [
    "kfold = StratifiedKFold(n_splits=5, random_state=42, shuffle=True)\n",
    "FEATURES = processor.data_features['features']\n",
    "categorical = processor.data_features['categorical_features']\n",
    "TARGET = 'label'\n",
    "\n",
    "\n",
    "models = []\n",
    "scores = []\n",
    "oofs = np.empty(df.shape[0], dtype='object')\n",
    "for i, (train_idx, valid_idx) in enumerate(kfold.split(new_df, df['label'])):\n",
    "    # Xy_train = new_df.iloc[train_idx]\n",
    "    # Xy_train['label'] = df.iloc[train_idx][TARGET]\n",
    "    # Xy_train_NORMAL = Xy_train[Xy_train.label.apply(lambda x: x == 'Malware')]\n",
    "    # Xy_train_NORMAL_sample = Xy_train_NORMAL.sample(frac=1, random_state=42)\n",
    "    # # print(Xy_train_NORMAL_sample['label'].value_counts())\n",
    "    # Xy_train_OTHER = Xy_train[Xy_train.label.apply(lambda x: x != 'Malware')]\n",
    "    # Xy_train_sample = pd.concat([Xy_train_OTHER,Xy_train_NORMAL_sample])\n",
    "    # Xy_train_sample = Xy_train_sample.sample(frac=1,random_state=123)\n",
    "    # print(Xy_train_sample['label'].value_counts())\n",
    "\n",
    "    X_train = new_df.iloc[train_idx]\n",
    "    y_train = df.iloc[train_idx][TARGET]\n",
    "    X_valid = new_df.iloc[valid_idx]\n",
    "    y_valid = df.iloc[valid_idx][TARGET]\n",
    "\n",
    "\n",
    "    print(X_train.shape, X_valid.shape)\n",
    "    print(y_train.shape, y_valid.shape)\n",
    "    model = LGBMClassifier(**hyper_parameters)\n",
    "    model.fit(X_train, y_train,\n",
    "              eval_set=[(X_train, y_train), (X_valid, y_valid)],\n",
    "              eval_metric=[\"logloss\"],\n",
    "              categorical_feature=categorical,\n",
    "              early_stopping_rounds=50,\n",
    "              verbose=50)\n",
    "    # model = CatBoostClassifier(iterations=100, learning_rate=0.05, max_depth=7, subsample=0.8, random_state=42,eval_metric='AUC',class_weights={1:1.5,0:1})\n",
    "    # model.fit(X_train, y_train,\n",
    "    #           cat_features=categorical,\n",
    "    #           eval_set=[(X_train, y_train), (X_valid, y_valid)])\n",
    "    models.append(model)\n",
    "    y_pred = model.predict(X_valid)\n",
    "    oofs[valid_idx] = y_pred\n",
    "\n",
    "    print(f\"fold {i} : {accuracy_score(y_valid, y_pred)}\")\n",
    "    print(classification_report(y_valid, y_pred))\n",
    "    scores.append(accuracy_score(y_valid, y_pred))\n",
    "\n",
    "print(np.mean(scores), np.std(scores))\n",
    "print(classification_report(df[TARGET], oofs))\n",
    "print(accuracy_score(df[TARGET], oofs))"
   ]
  },
  {
   "cell_type": "code",
   "execution_count": 10,
   "metadata": {
    "collapsed": false,
    "jupyter": {
     "outputs_hidden": false
    }
   },
   "outputs": [],
   "source": [
    "disp = ConfusionMatrixDisplay(confusion_matrix=confusion_matrix(df[TARGET],oofs,labels=models[0].classes_), display_labels=models[0].classes_)"
   ]
  },
  {
   "cell_type": "code",
   "execution_count": 11,
   "metadata": {
    "collapsed": false,
    "jupyter": {
     "outputs_hidden": false
    }
   },
   "outputs": [
    {
     "data": {
      "text/plain": [
       "array([[ 3166,   678,    21,    52,  1877,    17],\n",
       "       [  269,  6058,   163,    54,   209,    25],\n",
       "       [   25,   251,  1968,     5,   120,     0],\n",
       "       [   75,    91,     7,   276,    41,     4],\n",
       "       [ 1009,   156,    20,    12, 20278,     5],\n",
       "       [   57,   133,     0,     6,    14,  4530]], dtype=int64)"
      ]
     },
     "execution_count": 11,
     "metadata": {},
     "output_type": "execute_result"
    }
   ],
   "source": [
    "confusion_matrix(df[TARGET],oofs,labels=models[0].classes_)"
   ]
  },
  {
   "cell_type": "code",
   "execution_count": 12,
   "metadata": {
    "collapsed": false,
    "jupyter": {
     "outputs_hidden": false
    }
   },
   "outputs": [
    {
     "data": {
      "text/plain": [
       "<sklearn.metrics._plot.confusion_matrix.ConfusionMatrixDisplay at 0x186d897ffd0>"
      ]
     },
     "execution_count": 12,
     "metadata": {},
     "output_type": "execute_result"
    },
    {
     "data": {
      "image/png": "[encoded data removed]",
      "text/plain": [
       "<Figure size 1000x1000 with 2 Axes>"
      ]
     },
     "metadata": {},
     "output_type": "display_data"
    }
   ],
   "source": [
    "import matplotlib.pyplot as plt\n",
    "fig, ax = plt.subplots(1, 1, figsize=(10,10))\n",
    "disp.plot(ax=ax)"
   ]
  },
  {
   "cell_type": "code",
   "execution_count": 13,
   "metadata": {
    "collapsed": false,
    "jupyter": {
     "outputs_hidden": false
    }
   },
   "outputs": [
    {
     "name": "stdout",
     "output_type": "stream",
     "text": [
      "[50]\tvalid_0's multi_logloss: 0.260995\n",
      "[100]\tvalid_0's multi_logloss: 0.210903\n"
     ]
    }
   ],
   "source": [
    "gmodel = LGBMClassifier(**models[0].get_params())\n",
    "gmodel.fit(new_df[FEATURES], df[TARGET],\n",
    "           eval_set=[(new_df[FEATURES],df[TARGET])],\n",
    "           eval_metric=[\"logloss\"],\n",
    "           categorical_feature=categorical,\n",
    "           verbose=50)\n",
    "\n",
    "with open(f'../checkpoints/phase-2/prob-2/v1.pkl','wb') as file:\n",
    "    pickle.dump(gmodel, file)"
   ]
  },
  {
   "cell_type": "code",
   "execution_count": 17,
   "metadata": {
    "collapsed": false,
    "jupyter": {
     "outputs_hidden": false
    }
   },
   "outputs": [],
   "source": [
    "x = df.groupby(['feature1', 'feature2', 'feature3', 'feature4', 'feature5', 'feature6',\n",
    "            'feature7', 'feature8', 'feature9', 'feature10', 'feature11',\n",
    "            'feature12', 'feature13', 'feature14', 'feature15', 'feature16',\n",
    "            'feature17', 'feature18', 'feature19', 'feature20', 'feature21',\n",
    "            'feature22', 'feature23', 'feature24', 'feature25', 'feature26',\n",
    "            'feature27', 'feature28', 'feature29', 'feature30', 'feature31',\n",
    "            'feature32', 'feature33', 'feature34', 'feature35', 'feature36',\n",
    "            'feature37', 'feature38', 'feature39', 'feature40', 'feature41']).apply(lambda x : list(x.index)).reset_index()\n",
    "a = x[x[0].apply(lambda x: len(x)>1)]\n",
    "blacklist = []\n",
    "for t in a[0].values:\n",
    "    blacklist.extend(t)\n",
    "    index = np.array(blacklist)\n",
    "not_index = np.setdiff1d(df.index.to_numpy(), index)\n",
    "df = df.iloc[not_index]\n"
   ]
  },
  {
   "cell_type": "code",
   "execution_count": null,
   "metadata": {
    "collapsed": false,
    "jupyter": {
     "outputs_hidden": false
    }
   },
   "outputs": [],
   "source": [
    "a = x[x[0].apply(lambda x: len(x)>1)]"
   ]
  },
  {
   "cell_type": "code",
   "execution_count": null,
   "metadata": {
    "collapsed": false,
    "jupyter": {
     "outputs_hidden": false
    }
   },
   "outputs": [],
   "source": [
    "blacklist = []\n",
    "for t in a[0].values:\n",
    "    blacklist.extend(t)"
   ]
  },
  {
   "cell_type": "code",
   "execution_count": null,
   "metadata": {
    "collapsed": false,
    "jupyter": {
     "outputs_hidden": false
    }
   },
   "outputs": [],
   "source": [
    "index = np.array(blacklist)\n",
    "not_index = np.setdiff1d(df.index.to_numpy(), index)"
   ]
  },
  {
   "cell_type": "code",
   "execution_count": null,
   "metadata": {
    "collapsed": false,
    "jupyter": {
     "outputs_hidden": false
    }
   },
   "outputs": [],
   "source": [
    "df = df.iloc[not_index]"
   ]
  },
  {
   "cell_type": "code",
   "execution_count": null,
   "metadata": {
    "collapsed": false,
    "jupyter": {
     "outputs_hidden": false
    }
   },
   "outputs": [],
   "source": [
    "df.reset_index(drop=True, inplace=True)"
   ]
  },
  {
   "cell_type": "code",
   "execution_count": null,
   "metadata": {
    "collapsed": false,
    "jupyter": {
     "outputs_hidden": false
    }
   },
   "outputs": [],
   "source": [
    "df[df.label=='Normal']"
   ]
  },
  {
   "cell_type": "code",
   "execution_count": null,
   "metadata": {
    "collapsed": false,
    "jupyter": {
     "outputs_hidden": false
    }
   },
   "outputs": [],
   "source": [
    "df.sor"
   ]
  },
  {
   "cell_type": "code",
   "execution_count": null,
   "metadata": {
    "collapsed": false,
    "jupyter": {
     "outputs_hidden": false
    }
   },
   "outputs": [],
   "source": [
    "df.max()"
   ]
  },
  {
   "cell_type": "code",
   "execution_count": null,
   "metadata": {
    "collapsed": false,
    "jupyter": {
     "outputs_hidden": false
    }
   },
   "outputs": [],
   "source": [
    "df['9_10'] = df['feature9'].astype('int').astype('str') +'.' + df['feature10'].astype('int').astype('str')"
   ]
  },
  {
   "cell_type": "code",
   "execution_count": null,
   "metadata": {
    "collapsed": false,
    "jupyter": {
     "outputs_hidden": false
    }
   },
   "outputs": [],
   "source": [
    "df['9_10'].value_counts()"
   ]
  },
  {
   "cell_type": "code",
   "execution_count": null,
   "metadata": {
    "collapsed": false,
    "jupyter": {
     "outputs_hidden": false
    }
   },
   "outputs": [],
   "source": [
    "df[df['9_10']=='254.0']['label'].value_counts()"
   ]
  },
  {
   "cell_type": "code",
   "execution_count": null,
   "metadata": {
    "collapsed": false,
    "jupyter": {
     "outputs_hidden": false
    }
   },
   "outputs": [],
   "source": [
    "print(df[df['feature9']==254]['label'].value_counts())"
   ]
  },
  {
   "cell_type": "code",
   "execution_count": null,
   "metadata": {
    "collapsed": false,
    "jupyter": {
     "outputs_hidden": false
    }
   },
   "outputs": [],
   "source": [
    "print(df[df['feature10']==0]['label'].value_counts())\n"
   ]
  },
  {
   "cell_type": "code",
   "execution_count": null,
   "metadata": {
    "collapsed": false,
    "jupyter": {
     "outputs_hidden": false
    }
   },
   "outputs": [],
   "source": [
    "df[['feature9','feature10','feature11']]"
   ]
  },
  {
   "cell_type": "code",
   "execution_count": null,
   "metadata": {
    "collapsed": false,
    "jupyter": {
     "outputs_hidden": false
    }
   },
   "outputs": [],
   "source": [
    "df[['feature19','feature22']].corr()"
   ]
  },
  {
   "cell_type": "code",
   "execution_count": null,
   "metadata": {
    "collapsed": false,
    "jupyter": {
     "outputs_hidden": false
    }
   },
   "outputs": [],
   "source": [
    "df[df['feature19']!=df['feature22']].groupby(['feature19','feature22']).size()"
   ]
  },
  {
   "cell_type": "code",
   "execution_count": null,
   "metadata": {
    "collapsed": false,
    "jupyter": {
     "outputs_hidden": false
    }
   },
   "outputs": [],
   "source": [
    "df['label'].value_counts()"
   ]
  },
  {
   "cell_type": "code",
   "execution_count": null,
   "metadata": {
    "collapsed": false,
    "jupyter": {
     "outputs_hidden": false
    }
   },
   "outputs": [],
   "source": [
    "from sklearn.decomposition import PCA"
   ]
  },
  {
   "cell_type": "code",
   "execution_count": 16,
   "metadata": {
    "collapsed": false,
    "jupyter": {
     "outputs_hidden": false
    }
   },
   "outputs": [
    {
     "data": {
      "text/plain": [
       "0.0    35619\n",
       "1.0     6029\n",
       "2.0       20\n",
       "4.0        2\n",
       "3.0        1\n",
       "5.0        1\n",
       "Name: feature28, dtype: int64"
      ]
     },
     "execution_count": 16,
     "metadata": {},
     "output_type": "execute_result"
    }
   ],
   "source": [
    "df['feature28'].value_counts()"
   ]
  },
  {
   "cell_type": "code",
   "execution_count": 51,
   "metadata": {
    "collapsed": false,
    "jupyter": {
     "outputs_hidden": false
    }
   },
   "outputs": [
    {
     "data": {
      "text/html": [
       "<div>\n",
       "<style scoped>\n",
       "    .dataframe tbody tr th:only-of-type {\n",
       "        vertical-align: middle;\n",
       "    }\n",
       "\n",
       "    .dataframe tbody tr th {\n",
       "        vertical-align: top;\n",
       "    }\n",
       "\n",
       "    .dataframe thead th {\n",
       "        text-align: right;\n",
       "    }\n",
       "</style>\n",
       "<table border=\"1\" class=\"dataframe\">\n",
       "  <thead>\n",
       "    <tr style=\"text-align: right;\">\n",
       "      <th></th>\n",
       "      <th>feature</th>\n",
       "      <th>score</th>\n",
       "    </tr>\n",
       "  </thead>\n",
       "  <tbody>\n",
       "    <tr>\n",
       "      <th>38</th>\n",
       "      <td>feature41</td>\n",
       "      <td>2</td>\n",
       "    </tr>\n",
       "    <tr>\n",
       "      <th>34</th>\n",
       "      <td>feature36</td>\n",
       "      <td>7</td>\n",
       "    </tr>\n",
       "    <tr>\n",
       "      <th>3</th>\n",
       "      <td>feature4</td>\n",
       "      <td>10</td>\n",
       "    </tr>\n",
       "    <tr>\n",
       "      <th>18</th>\n",
       "      <td>feature19</td>\n",
       "      <td>13</td>\n",
       "    </tr>\n",
       "    <tr>\n",
       "      <th>9</th>\n",
       "      <td>feature10</td>\n",
       "      <td>53</td>\n",
       "    </tr>\n",
       "    <tr>\n",
       "      <th>1</th>\n",
       "      <td>feature2</td>\n",
       "      <td>64</td>\n",
       "    </tr>\n",
       "    <tr>\n",
       "      <th>39</th>\n",
       "      <td>9_10</td>\n",
       "      <td>84</td>\n",
       "    </tr>\n",
       "    <tr>\n",
       "      <th>26</th>\n",
       "      <td>feature28</td>\n",
       "      <td>121</td>\n",
       "    </tr>\n",
       "    <tr>\n",
       "      <th>29</th>\n",
       "      <td>feature31</td>\n",
       "      <td>123</td>\n",
       "    </tr>\n",
       "    <tr>\n",
       "      <th>35</th>\n",
       "      <td>feature38</td>\n",
       "      <td>162</td>\n",
       "    </tr>\n",
       "    <tr>\n",
       "      <th>32</th>\n",
       "      <td>feature34</td>\n",
       "      <td>174</td>\n",
       "    </tr>\n",
       "    <tr>\n",
       "      <th>31</th>\n",
       "      <td>feature33</td>\n",
       "      <td>211</td>\n",
       "    </tr>\n",
       "    <tr>\n",
       "      <th>2</th>\n",
       "      <td>feature3</td>\n",
       "      <td>222</td>\n",
       "    </tr>\n",
       "    <tr>\n",
       "      <th>13</th>\n",
       "      <td>feature14</td>\n",
       "      <td>240</td>\n",
       "    </tr>\n",
       "    <tr>\n",
       "      <th>5</th>\n",
       "      <td>feature6</td>\n",
       "      <td>257</td>\n",
       "    </tr>\n",
       "    <tr>\n",
       "      <th>12</th>\n",
       "      <td>feature13</td>\n",
       "      <td>275</td>\n",
       "    </tr>\n",
       "    <tr>\n",
       "      <th>8</th>\n",
       "      <td>feature9</td>\n",
       "      <td>283</td>\n",
       "    </tr>\n",
       "    <tr>\n",
       "      <th>27</th>\n",
       "      <td>feature29</td>\n",
       "      <td>290</td>\n",
       "    </tr>\n",
       "    <tr>\n",
       "      <th>4</th>\n",
       "      <td>feature5</td>\n",
       "      <td>292</td>\n",
       "    </tr>\n",
       "    <tr>\n",
       "      <th>30</th>\n",
       "      <td>feature32</td>\n",
       "      <td>334</td>\n",
       "    </tr>\n",
       "    <tr>\n",
       "      <th>36</th>\n",
       "      <td>feature39</td>\n",
       "      <td>406</td>\n",
       "    </tr>\n",
       "    <tr>\n",
       "      <th>16</th>\n",
       "      <td>feature17</td>\n",
       "      <td>468</td>\n",
       "    </tr>\n",
       "    <tr>\n",
       "      <th>15</th>\n",
       "      <td>feature16</td>\n",
       "      <td>497</td>\n",
       "    </tr>\n",
       "    <tr>\n",
       "      <th>17</th>\n",
       "      <td>feature18</td>\n",
       "      <td>500</td>\n",
       "    </tr>\n",
       "    <tr>\n",
       "      <th>37</th>\n",
       "      <td>feature40</td>\n",
       "      <td>512</td>\n",
       "    </tr>\n",
       "    <tr>\n",
       "      <th>11</th>\n",
       "      <td>feature12</td>\n",
       "      <td>540</td>\n",
       "    </tr>\n",
       "    <tr>\n",
       "      <th>19</th>\n",
       "      <td>feature20</td>\n",
       "      <td>548</td>\n",
       "    </tr>\n",
       "    <tr>\n",
       "      <th>14</th>\n",
       "      <td>feature15</td>\n",
       "      <td>548</td>\n",
       "    </tr>\n",
       "    <tr>\n",
       "      <th>21</th>\n",
       "      <td>feature23</td>\n",
       "      <td>586</td>\n",
       "    </tr>\n",
       "    <tr>\n",
       "      <th>23</th>\n",
       "      <td>feature25</td>\n",
       "      <td>588</td>\n",
       "    </tr>\n",
       "    <tr>\n",
       "      <th>22</th>\n",
       "      <td>feature24</td>\n",
       "      <td>591</td>\n",
       "    </tr>\n",
       "    <tr>\n",
       "      <th>33</th>\n",
       "      <td>feature35</td>\n",
       "      <td>595</td>\n",
       "    </tr>\n",
       "    <tr>\n",
       "      <th>20</th>\n",
       "      <td>feature21</td>\n",
       "      <td>622</td>\n",
       "    </tr>\n",
       "    <tr>\n",
       "      <th>28</th>\n",
       "      <td>feature30</td>\n",
       "      <td>644</td>\n",
       "    </tr>\n",
       "    <tr>\n",
       "      <th>0</th>\n",
       "      <td>feature1</td>\n",
       "      <td>668</td>\n",
       "    </tr>\n",
       "    <tr>\n",
       "      <th>25</th>\n",
       "      <td>feature27</td>\n",
       "      <td>693</td>\n",
       "    </tr>\n",
       "    <tr>\n",
       "      <th>7</th>\n",
       "      <td>feature8</td>\n",
       "      <td>698</td>\n",
       "    </tr>\n",
       "    <tr>\n",
       "      <th>10</th>\n",
       "      <td>feature11</td>\n",
       "      <td>844</td>\n",
       "    </tr>\n",
       "    <tr>\n",
       "      <th>6</th>\n",
       "      <td>feature7</td>\n",
       "      <td>1212</td>\n",
       "    </tr>\n",
       "    <tr>\n",
       "      <th>40</th>\n",
       "      <td>7+26</td>\n",
       "      <td>1243</td>\n",
       "    </tr>\n",
       "    <tr>\n",
       "      <th>24</th>\n",
       "      <td>feature26</td>\n",
       "      <td>1636</td>\n",
       "    </tr>\n",
       "  </tbody>\n",
       "</table>\n",
       "</div>"
      ],
      "text/plain": [
       "      feature  score\n",
       "38  feature41      2\n",
       "34  feature36      7\n",
       "3    feature4     10\n",
       "18  feature19     13\n",
       "9   feature10     53\n",
       "1    feature2     64\n",
       "39       9_10     84\n",
       "26  feature28    121\n",
       "29  feature31    123\n",
       "35  feature38    162\n",
       "32  feature34    174\n",
       "31  feature33    211\n",
       "2    feature3    222\n",
       "13  feature14    240\n",
       "5    feature6    257\n",
       "12  feature13    275\n",
       "8    feature9    283\n",
       "27  feature29    290\n",
       "4    feature5    292\n",
       "30  feature32    334\n",
       "36  feature39    406\n",
       "16  feature17    468\n",
       "15  feature16    497\n",
       "17  feature18    500\n",
       "37  feature40    512\n",
       "11  feature12    540\n",
       "19  feature20    548\n",
       "14  feature15    548\n",
       "21  feature23    586\n",
       "23  feature25    588\n",
       "22  feature24    591\n",
       "33  feature35    595\n",
       "20  feature21    622\n",
       "28  feature30    644\n",
       "0    feature1    668\n",
       "25  feature27    693\n",
       "7    feature8    698\n",
       "10  feature11    844\n",
       "6    feature7   1212\n",
       "40       7+26   1243\n",
       "24  feature26   1636"
      ]
     },
     "execution_count": 51,
     "metadata": {},
     "output_type": "execute_result"
    }
   ],
   "source": [
    "pd.DataFrame({'feature': gmodel.feature_name_, 'score':  gmodel.feature_importances_}).sort_values('score')"
   ]
  },
  {
   "cell_type": "code",
   "execution_count": 57,
   "metadata": {
    "collapsed": false,
    "jupyter": {
     "outputs_hidden": false
    }
   },
   "outputs": [
    {
     "data": {
      "text/html": [
       "<div>\n",
       "<style scoped>\n",
       "    .dataframe tbody tr th:only-of-type {\n",
       "        vertical-align: middle;\n",
       "    }\n",
       "\n",
       "    .dataframe tbody tr th {\n",
       "        vertical-align: top;\n",
       "    }\n",
       "\n",
       "    .dataframe thead th {\n",
       "        text-align: right;\n",
       "    }\n",
       "</style>\n",
       "<table border=\"1\" class=\"dataframe\">\n",
       "  <thead>\n",
       "    <tr style=\"text-align: right;\">\n",
       "      <th></th>\n",
       "      <th>feature26</th>\n",
       "      <th>feature7</th>\n",
       "      <th>feature11</th>\n",
       "      <th>feature8</th>\n",
       "      <th>feature27</th>\n",
       "      <th>label</th>\n",
       "    </tr>\n",
       "  </thead>\n",
       "  <tbody>\n",
       "    <tr>\n",
       "      <th>0</th>\n",
       "      <td>64.0</td>\n",
       "      <td>2438.0</td>\n",
       "      <td>4.538438e+05</td>\n",
       "      <td>19266.0</td>\n",
       "      <td>482.0</td>\n",
       "      <td>Normal</td>\n",
       "    </tr>\n",
       "    <tr>\n",
       "      <th>1</th>\n",
       "      <td>120.0</td>\n",
       "      <td>1684.0</td>\n",
       "      <td>1.148804e+04</td>\n",
       "      <td>10168.0</td>\n",
       "      <td>565.0</td>\n",
       "      <td>Normal</td>\n",
       "    </tr>\n",
       "    <tr>\n",
       "      <th>2</th>\n",
       "      <td>57.0</td>\n",
       "      <td>114.0</td>\n",
       "      <td>2.280000e+08</td>\n",
       "      <td>0.0</td>\n",
       "      <td>0.0</td>\n",
       "      <td>Other</td>\n",
       "    </tr>\n",
       "    <tr>\n",
       "      <th>3</th>\n",
       "      <td>218.0</td>\n",
       "      <td>2618.0</td>\n",
       "      <td>1.308574e+04</td>\n",
       "      <td>682.0</td>\n",
       "      <td>57.0</td>\n",
       "      <td>Denial of Service</td>\n",
       "    </tr>\n",
       "    <tr>\n",
       "      <th>4</th>\n",
       "      <td>65.0</td>\n",
       "      <td>130.0</td>\n",
       "      <td>5.609493e+05</td>\n",
       "      <td>162.0</td>\n",
       "      <td>81.0</td>\n",
       "      <td>Normal</td>\n",
       "    </tr>\n",
       "    <tr>\n",
       "      <th>...</th>\n",
       "      <td>...</td>\n",
       "      <td>...</td>\n",
       "      <td>...</td>\n",
       "      <td>...</td>\n",
       "      <td>...</td>\n",
       "      <td>...</td>\n",
       "    </tr>\n",
       "    <tr>\n",
       "      <th>41667</th>\n",
       "      <td>716.0</td>\n",
       "      <td>37230.0</td>\n",
       "      <td>8.528154e+05</td>\n",
       "      <td>3172.0</td>\n",
       "      <td>83.0</td>\n",
       "      <td>Normal</td>\n",
       "    </tr>\n",
       "    <tr>\n",
       "      <th>41668</th>\n",
       "      <td>45.0</td>\n",
       "      <td>270.0</td>\n",
       "      <td>1.549111e+02</td>\n",
       "      <td>0.0</td>\n",
       "      <td>0.0</td>\n",
       "      <td>Normal</td>\n",
       "    </tr>\n",
       "    <tr>\n",
       "      <th>41669</th>\n",
       "      <td>716.0</td>\n",
       "      <td>37232.0</td>\n",
       "      <td>1.667510e+05</td>\n",
       "      <td>3276.0</td>\n",
       "      <td>82.0</td>\n",
       "      <td>Normal</td>\n",
       "    </tr>\n",
       "    <tr>\n",
       "      <th>41670</th>\n",
       "      <td>61.0</td>\n",
       "      <td>608.0</td>\n",
       "      <td>4.716570e+03</td>\n",
       "      <td>646.0</td>\n",
       "      <td>65.0</td>\n",
       "      <td>Exploits</td>\n",
       "    </tr>\n",
       "    <tr>\n",
       "      <th>41671</th>\n",
       "      <td>57.0</td>\n",
       "      <td>114.0</td>\n",
       "      <td>6.514286e+07</td>\n",
       "      <td>0.0</td>\n",
       "      <td>0.0</td>\n",
       "      <td>Other</td>\n",
       "    </tr>\n",
       "  </tbody>\n",
       "</table>\n",
       "<p>41672 rows × 6 columns</p>\n",
       "</div>"
      ],
      "text/plain": [
       "       feature26  feature7     feature11  feature8  feature27  \\\n",
       "0           64.0    2438.0  4.538438e+05   19266.0      482.0   \n",
       "1          120.0    1684.0  1.148804e+04   10168.0      565.0   \n",
       "2           57.0     114.0  2.280000e+08       0.0        0.0   \n",
       "3          218.0    2618.0  1.308574e+04     682.0       57.0   \n",
       "4           65.0     130.0  5.609493e+05     162.0       81.0   \n",
       "...          ...       ...           ...       ...        ...   \n",
       "41667      716.0   37230.0  8.528154e+05    3172.0       83.0   \n",
       "41668       45.0     270.0  1.549111e+02       0.0        0.0   \n",
       "41669      716.0   37232.0  1.667510e+05    3276.0       82.0   \n",
       "41670       61.0     608.0  4.716570e+03     646.0       65.0   \n",
       "41671       57.0     114.0  6.514286e+07       0.0        0.0   \n",
       "\n",
       "                   label  \n",
       "0                 Normal  \n",
       "1                 Normal  \n",
       "2                  Other  \n",
       "3      Denial of Service  \n",
       "4                 Normal  \n",
       "...                  ...  \n",
       "41667             Normal  \n",
       "41668             Normal  \n",
       "41669             Normal  \n",
       "41670           Exploits  \n",
       "41671              Other  \n",
       "\n",
       "[41672 rows x 6 columns]"
      ]
     },
     "execution_count": 57,
     "metadata": {},
     "output_type": "execute_result"
    }
   ],
   "source": [
    "df[['feature26','feature7','feature11','feature8','feature27','label']]"
   ]
  },
  {
   "cell_type": "code",
   "execution_count": 59,
   "metadata": {
    "collapsed": false,
    "jupyter": {
     "outputs_hidden": false
    }
   },
   "outputs": [
    {
     "data": {
      "text/plain": [
       "7.53125"
      ]
     },
     "execution_count": 59,
     "metadata": {},
     "output_type": "execute_result"
    }
   ],
   "source": [
    "482/64"
   ]
  },
  {
   "cell_type": "code",
   "execution_count": 60,
   "metadata": {},
   "outputs": [
    {
     "data": {
      "text/plain": [
       "0.26146788990825687"
      ]
     },
     "execution_count": 60,
     "metadata": {},
     "output_type": "execute_result"
    }
   ],
   "source": [
    "57/218"
   ]
  },
  {
   "cell_type": "code",
   "execution_count": null,
   "metadata": {},
   "outputs": [],
   "source": []
  }
 ],
 "metadata": {
  "kernelspec": {
   "display_name": "Python 3 (ipykernel)",
   "language": "python",
   "name": "python3"
  },
  "language_info": {
   "codemirror_mode": {
    "name": "ipython",
    "version": 3
   },
   "file_extension": ".py",
   "mimetype": "text/x-python",
   "name": "python",
   "nbconvert_exporter": "python",
   "pygments_lexer": "ipython3",
   "version": "3.9.16"
  }
 },
 "nbformat": 4,
 "nbformat_minor": 4
}
