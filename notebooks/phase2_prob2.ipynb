{
 "cells": [
  {
   "cell_type": "code",
   "execution_count": 1,
   "metadata": {
    "tags": []
   },
   "outputs": [],
   "source": [
    "import os\n",
    "import sys\n",
    "module_path = os.path.abspath(os.path.join('../'))\n",
    "if module_path not in sys.path:\n",
    "    sys.path.append(module_path)"
   ]
  },
  {
   "cell_type": "code",
   "execution_count": 2,
   "metadata": {},
   "outputs": [],
   "source": [
    "import pandas as pd\n",
    "import warnings\n",
    "warnings.filterwarnings('ignore')\n",
    "\n",
    "import pickle\n",
    "from sklearn.model_selection import StratifiedKFold\n",
    "from sklearn.metrics import classification_report, roc_auc_score, f1_score, accuracy_score, multilabel_confusion_matrix, ConfusionMatrixDisplay, confusion_matrix\n",
    "from lightgbm import LGBMClassifier\n",
    "from catboost import CatBoostClassifier\n",
    "from src.data_processor.phase_2.prob2.v2 import  Phase2Prob2FeatureProcessor\n",
    "import numpy as np"
   ]
  },
  {
   "cell_type": "code",
   "execution_count": 3,
   "metadata": {
    "collapsed": false,
    "jupyter": {
     "outputs_hidden": false
    }
   },
   "outputs": [
    {
     "ename": "FileNotFoundError",
     "evalue": "[Errno 2] No such file or directory: 'D:/Data/MLOPS_2023/data_phase-2/phase-2/prob-2/raw_train.parquet'",
     "output_type": "error",
     "traceback": [
      "\u001b[1;31m---------------------------------------------------------------------------\u001b[0m",
      "\u001b[1;31mFileNotFoundError\u001b[0m                         Traceback (most recent call last)",
      "Cell \u001b[1;32mIn[3], line 1\u001b[0m\n\u001b[1;32m----> 1\u001b[0m df \u001b[39m=\u001b[39m pd\u001b[39m.\u001b[39;49mread_parquet(\u001b[39m\"\u001b[39;49m\u001b[39mD:/Data/MLOPS_2023/data_phase-2/phase-2/prob-2/raw_train.parquet\u001b[39;49m\u001b[39m\"\u001b[39;49m)\n\u001b[0;32m      2\u001b[0m df[\u001b[39m'\u001b[39m\u001b[39mlabel\u001b[39m\u001b[39m'\u001b[39m]\u001b[39m.\u001b[39mvalue_counts()\n",
      "File \u001b[1;32mc:\\Users\\duclh3\\.conda\\envs\\mlops\\lib\\site-packages\\pandas\\io\\parquet.py:503\u001b[0m, in \u001b[0;36mread_parquet\u001b[1;34m(path, engine, columns, storage_options, use_nullable_dtypes, **kwargs)\u001b[0m\n\u001b[0;32m    456\u001b[0m \u001b[39m\u001b[39m\u001b[39m\"\"\"\u001b[39;00m\n\u001b[0;32m    457\u001b[0m \u001b[39mLoad a parquet object from the file path, returning a DataFrame.\u001b[39;00m\n\u001b[0;32m    458\u001b[0m \n\u001b[1;32m   (...)\u001b[0m\n\u001b[0;32m    499\u001b[0m \u001b[39mDataFrame\u001b[39;00m\n\u001b[0;32m    500\u001b[0m \u001b[39m\"\"\"\u001b[39;00m\n\u001b[0;32m    501\u001b[0m impl \u001b[39m=\u001b[39m get_engine(engine)\n\u001b[1;32m--> 503\u001b[0m \u001b[39mreturn\u001b[39;00m impl\u001b[39m.\u001b[39mread(\n\u001b[0;32m    504\u001b[0m     path,\n\u001b[0;32m    505\u001b[0m     columns\u001b[39m=\u001b[39mcolumns,\n\u001b[0;32m    506\u001b[0m     storage_options\u001b[39m=\u001b[39mstorage_options,\n\u001b[0;32m    507\u001b[0m     use_nullable_dtypes\u001b[39m=\u001b[39muse_nullable_dtypes,\n\u001b[0;32m    508\u001b[0m     \u001b[39m*\u001b[39m\u001b[39m*\u001b[39mkwargs,\n\u001b[0;32m    509\u001b[0m )\n",
      "File \u001b[1;32mc:\\Users\\duclh3\\.conda\\envs\\mlops\\lib\\site-packages\\pandas\\io\\parquet.py:244\u001b[0m, in \u001b[0;36mPyArrowImpl.read\u001b[1;34m(self, path, columns, use_nullable_dtypes, storage_options, **kwargs)\u001b[0m\n\u001b[0;32m    241\u001b[0m \u001b[39mif\u001b[39;00m manager \u001b[39m==\u001b[39m \u001b[39m\"\u001b[39m\u001b[39marray\u001b[39m\u001b[39m\"\u001b[39m:\n\u001b[0;32m    242\u001b[0m     to_pandas_kwargs[\u001b[39m\"\u001b[39m\u001b[39msplit_blocks\u001b[39m\u001b[39m\"\u001b[39m] \u001b[39m=\u001b[39m \u001b[39mTrue\u001b[39;00m  \u001b[39m# type: ignore[assignment]\u001b[39;00m\n\u001b[1;32m--> 244\u001b[0m path_or_handle, handles, kwargs[\u001b[39m\"\u001b[39m\u001b[39mfilesystem\u001b[39m\u001b[39m\"\u001b[39m] \u001b[39m=\u001b[39m _get_path_or_handle(\n\u001b[0;32m    245\u001b[0m     path,\n\u001b[0;32m    246\u001b[0m     kwargs\u001b[39m.\u001b[39;49mpop(\u001b[39m\"\u001b[39;49m\u001b[39mfilesystem\u001b[39;49m\u001b[39m\"\u001b[39;49m, \u001b[39mNone\u001b[39;49;00m),\n\u001b[0;32m    247\u001b[0m     storage_options\u001b[39m=\u001b[39;49mstorage_options,\n\u001b[0;32m    248\u001b[0m     mode\u001b[39m=\u001b[39;49m\u001b[39m\"\u001b[39;49m\u001b[39mrb\u001b[39;49m\u001b[39m\"\u001b[39;49m,\n\u001b[0;32m    249\u001b[0m )\n\u001b[0;32m    250\u001b[0m \u001b[39mtry\u001b[39;00m:\n\u001b[0;32m    251\u001b[0m     result \u001b[39m=\u001b[39m \u001b[39mself\u001b[39m\u001b[39m.\u001b[39mapi\u001b[39m.\u001b[39mparquet\u001b[39m.\u001b[39mread_table(\n\u001b[0;32m    252\u001b[0m         path_or_handle, columns\u001b[39m=\u001b[39mcolumns, \u001b[39m*\u001b[39m\u001b[39m*\u001b[39mkwargs\n\u001b[0;32m    253\u001b[0m     )\u001b[39m.\u001b[39mto_pandas(\u001b[39m*\u001b[39m\u001b[39m*\u001b[39mto_pandas_kwargs)\n",
      "File \u001b[1;32mc:\\Users\\duclh3\\.conda\\envs\\mlops\\lib\\site-packages\\pandas\\io\\parquet.py:102\u001b[0m, in \u001b[0;36m_get_path_or_handle\u001b[1;34m(path, fs, storage_options, mode, is_dir)\u001b[0m\n\u001b[0;32m     92\u001b[0m handles \u001b[39m=\u001b[39m \u001b[39mNone\u001b[39;00m\n\u001b[0;32m     93\u001b[0m \u001b[39mif\u001b[39;00m (\n\u001b[0;32m     94\u001b[0m     \u001b[39mnot\u001b[39;00m fs\n\u001b[0;32m     95\u001b[0m     \u001b[39mand\u001b[39;00m \u001b[39mnot\u001b[39;00m is_dir\n\u001b[1;32m   (...)\u001b[0m\n\u001b[0;32m    100\u001b[0m     \u001b[39m# fsspec resources can also point to directories\u001b[39;00m\n\u001b[0;32m    101\u001b[0m     \u001b[39m# this branch is used for example when reading from non-fsspec URLs\u001b[39;00m\n\u001b[1;32m--> 102\u001b[0m     handles \u001b[39m=\u001b[39m get_handle(\n\u001b[0;32m    103\u001b[0m         path_or_handle, mode, is_text\u001b[39m=\u001b[39;49m\u001b[39mFalse\u001b[39;49;00m, storage_options\u001b[39m=\u001b[39;49mstorage_options\n\u001b[0;32m    104\u001b[0m     )\n\u001b[0;32m    105\u001b[0m     fs \u001b[39m=\u001b[39m \u001b[39mNone\u001b[39;00m\n\u001b[0;32m    106\u001b[0m     path_or_handle \u001b[39m=\u001b[39m handles\u001b[39m.\u001b[39mhandle\n",
      "File \u001b[1;32mc:\\Users\\duclh3\\.conda\\envs\\mlops\\lib\\site-packages\\pandas\\io\\common.py:865\u001b[0m, in \u001b[0;36mget_handle\u001b[1;34m(path_or_buf, mode, encoding, compression, memory_map, is_text, errors, storage_options)\u001b[0m\n\u001b[0;32m    856\u001b[0m         handle \u001b[39m=\u001b[39m \u001b[39mopen\u001b[39m(\n\u001b[0;32m    857\u001b[0m             handle,\n\u001b[0;32m    858\u001b[0m             ioargs\u001b[39m.\u001b[39mmode,\n\u001b[1;32m   (...)\u001b[0m\n\u001b[0;32m    861\u001b[0m             newline\u001b[39m=\u001b[39m\u001b[39m\"\u001b[39m\u001b[39m\"\u001b[39m,\n\u001b[0;32m    862\u001b[0m         )\n\u001b[0;32m    863\u001b[0m     \u001b[39melse\u001b[39;00m:\n\u001b[0;32m    864\u001b[0m         \u001b[39m# Binary mode\u001b[39;00m\n\u001b[1;32m--> 865\u001b[0m         handle \u001b[39m=\u001b[39m \u001b[39mopen\u001b[39;49m(handle, ioargs\u001b[39m.\u001b[39;49mmode)\n\u001b[0;32m    866\u001b[0m     handles\u001b[39m.\u001b[39mappend(handle)\n\u001b[0;32m    868\u001b[0m \u001b[39m# Convert BytesIO or file objects passed with an encoding\u001b[39;00m\n",
      "\u001b[1;31mFileNotFoundError\u001b[0m: [Errno 2] No such file or directory: 'D:/Data/MLOPS_2023/data_phase-2/phase-2/prob-2/raw_train.parquet'"
     ]
    }
   ],
   "source": [
    "df = pd.read_parquet(\"D:/Data/MLOPS_2023/data_phase-2/phase-2/prob-2/raw_train.parquet\")\n",
    "df['label'].value_counts()"
   ]
  },
  {
   "cell_type": "code",
   "execution_count": 5,
   "metadata": {
    "collapsed": false,
    "jupyter": {
     "outputs_hidden": false
    }
   },
   "outputs": [],
   "source": [
    "df.reset_index(drop=True, inplace=True)\n",
    "x = df.groupby(['feature1', 'feature2', 'feature3', 'feature4', 'feature5', 'feature6',\n",
    "                'feature7', 'feature8', 'feature9', 'feature10', 'feature11',\n",
    "                'feature12', 'feature13', 'feature14', 'feature15', 'feature16',\n",
    "                'feature17', 'feature18', 'feature19', 'feature20', 'feature21',\n",
    "                'feature22', 'feature23', 'feature24', 'feature25', 'feature26',\n",
    "                'feature27', 'feature28', 'feature29', 'feature30', 'feature31',\n",
    "                'feature32', 'feature33', 'feature34', 'feature35', 'feature36',\n",
    "                'feature37', 'feature38', 'feature39', 'feature40', 'feature41']).apply(lambda x : pd.Series({'list_index':list(x.index),'list_label':list(x['label'])})).reset_index()\n",
    "a = x[x['list_label'].apply(lambda x: len(x)>1)]\n",
    "blacklist = []\n",
    "for t in a['list_index'].values:\n",
    "    blacklist.extend(t)\n",
    "    index = np.array(blacklist)\n",
    "not_index = np.setdiff1d(df.index.to_numpy(), index)\n",
    "df = df.iloc[not_index]\n",
    "df.reset_index(inplace=True, drop=True)\n",
    "# df['label'].value_counts()"
   ]
  },
  {
   "cell_type": "code",
   "execution_count": 6,
   "metadata": {},
   "outputs": [
    {
     "data": {
      "text/plain": [
       "Normal                   21064\n",
       "Exploits                  6593\n",
       "Denial of Service         5609\n",
       "Information Gathering     2216\n",
       "Other                     1842\n",
       "Malware                    489\n",
       "Name: label, dtype: int64"
      ]
     },
     "execution_count": 6,
     "metadata": {},
     "output_type": "execute_result"
    }
   ],
   "source": [
    "df['label'].value_counts()"
   ]
  },
  {
   "cell_type": "code",
   "execution_count": 7,
   "metadata": {
    "collapsed": false,
    "jupyter": {
     "outputs_hidden": false
    }
   },
   "outputs": [],
   "source": [
    "HyperParameters={'objective': 'multiclass',\n",
    "                 'n_estimators':100,\n",
    "                 'learning_rate':0.1,\n",
    "                 'max_depth':11,\n",
    "                 'colsample_bytree':0.5,\n",
    "                 'subsample':0.8,\n",
    "                 'reg_alpha':1.2,\n",
    "                 'reg_lambda':10,\n",
    "                 'random_state':42}\n",
    "            \n",
    "hyper_parameters = HyperParameters.copy()"
   ]
  },
  {
   "cell_type": "code",
   "execution_count": 8,
   "metadata": {
    "collapsed": false,
    "jupyter": {
     "outputs_hidden": false
    }
   },
   "outputs": [],
   "source": [
    "processor = Phase2Prob2FeatureProcessor()\n",
    "new_df = processor.transform(df)"
   ]
  },
  {
   "cell_type": "code",
   "execution_count": 9,
   "metadata": {},
   "outputs": [],
   "source": [
    "kfold = StratifiedKFold(n_splits=5, random_state=42, shuffle=True)\n",
    "FEATURES = processor.data_features['features']\n",
    "categorical = processor.data_features['categorical_features']\n",
    "TARGET = 'label'"
   ]
  },
  {
   "cell_type": "code",
   "execution_count": 10,
   "metadata": {},
   "outputs": [],
   "source": [
    "from sklearn.ensemble import RandomForestClassifier"
   ]
  },
  {
   "cell_type": "code",
   "execution_count": 11,
   "metadata": {},
   "outputs": [],
   "source": [
    "# study = optuna.create_study()  # Create a new study.\n",
    "# study.optimize(run, n_trials=100)"
   ]
  },
  {
   "cell_type": "code",
   "execution_count": 12,
   "metadata": {},
   "outputs": [
    {
     "data": {
      "text/plain": [
       "{'objective': 'multiclass',\n",
       " 'n_estimators': 100,\n",
       " 'learning_rate': 0.1,\n",
       " 'max_depth': 11,\n",
       " 'colsample_bytree': 0.5,\n",
       " 'subsample': 0.8,\n",
       " 'reg_alpha': 1.2,\n",
       " 'reg_lambda': 10,\n",
       " 'random_state': 42}"
      ]
     },
     "execution_count": 12,
     "metadata": {},
     "output_type": "execute_result"
    }
   ],
   "source": [
    "hyper_parameters"
   ]
  },
  {
   "cell_type": "code",
   "execution_count": 13,
   "metadata": {
    "collapsed": false,
    "jupyter": {
     "outputs_hidden": false
    }
   },
   "outputs": [
    {
     "name": "stdout",
     "output_type": "stream",
     "text": [
      "(30250, 10) (7563, 10)\n",
      "(30250,) (7563,)\n",
      "[50]\ttraining's multi_logloss: 0.383361\tvalid_1's multi_logloss: 0.414723\n",
      "[100]\ttraining's multi_logloss: 0.340408\tvalid_1's multi_logloss: 0.403641\n",
      "fold 0 : 0.8281105381462383\n",
      "                       precision    recall  f1-score   support\n",
      "\n",
      "    Denial of Service       0.60      0.48      0.53      1122\n",
      "             Exploits       0.79      0.87      0.83      1319\n",
      "Information Gathering       0.85      0.81      0.83       443\n",
      "              Malware       0.52      0.22      0.31        98\n",
      "               Normal       0.88      0.92      0.90      4213\n",
      "                Other       0.99      0.85      0.92       368\n",
      "\n",
      "             accuracy                           0.83      7563\n",
      "            macro avg       0.77      0.69      0.72      7563\n",
      "         weighted avg       0.82      0.83      0.82      7563\n",
      "\n",
      "(30250, 10) (7563, 10)\n",
      "(30250,) (7563,)\n",
      "[50]\ttraining's multi_logloss: 0.379415\tvalid_1's multi_logloss: 0.431919\n",
      "[100]\ttraining's multi_logloss: 0.33674\tvalid_1's multi_logloss: 0.418986\n",
      "fold 1 : 0.8236149676054476\n",
      "                       precision    recall  f1-score   support\n",
      "\n",
      "    Denial of Service       0.59      0.51      0.55      1122\n",
      "             Exploits       0.77      0.84      0.80      1319\n",
      "Information Gathering       0.84      0.81      0.82       443\n",
      "              Malware       0.49      0.19      0.27        97\n",
      "               Normal       0.88      0.92      0.90      4213\n",
      "                Other       0.99      0.85      0.92       369\n",
      "\n",
      "             accuracy                           0.82      7563\n",
      "            macro avg       0.76      0.69      0.71      7563\n",
      "         weighted avg       0.82      0.82      0.82      7563\n",
      "\n",
      "(30250, 10) (7563, 10)\n",
      "(30250,) (7563,)\n",
      "[50]\ttraining's multi_logloss: 0.380193\tvalid_1's multi_logloss: 0.426339\n",
      "[100]\ttraining's multi_logloss: 0.337547\tvalid_1's multi_logloss: 0.414049\n",
      "fold 2 : 0.8296972101018114\n",
      "                       precision    recall  f1-score   support\n",
      "\n",
      "    Denial of Service       0.62      0.49      0.55      1122\n",
      "             Exploits       0.78      0.86      0.82      1318\n",
      "Information Gathering       0.86      0.79      0.83       443\n",
      "              Malware       0.39      0.19      0.26        98\n",
      "               Normal       0.88      0.93      0.90      4213\n",
      "                Other       0.97      0.87      0.92       369\n",
      "\n",
      "             accuracy                           0.83      7563\n",
      "            macro avg       0.75      0.69      0.71      7563\n",
      "         weighted avg       0.82      0.83      0.82      7563\n",
      "\n",
      "(30251, 10) (7562, 10)\n",
      "(30251,) (7562,)\n",
      "[50]\ttraining's multi_logloss: 0.381134\tvalid_1's multi_logloss: 0.423332\n",
      "[100]\ttraining's multi_logloss: 0.337843\tvalid_1's multi_logloss: 0.411394\n",
      "fold 3 : 0.8210790796085692\n",
      "                       precision    recall  f1-score   support\n",
      "\n",
      "    Denial of Service       0.58      0.48      0.52      1121\n",
      "             Exploits       0.78      0.86      0.82      1318\n",
      "Information Gathering       0.86      0.77      0.82       444\n",
      "              Malware       0.42      0.26      0.32        98\n",
      "               Normal       0.88      0.91      0.89      4213\n",
      "                Other       0.98      0.87      0.92       368\n",
      "\n",
      "             accuracy                           0.82      7562\n",
      "            macro avg       0.75      0.69      0.72      7562\n",
      "         weighted avg       0.81      0.82      0.82      7562\n",
      "\n",
      "(30251, 10) (7562, 10)\n",
      "(30251,) (7562,)\n",
      "[50]\ttraining's multi_logloss: 0.382274\tvalid_1's multi_logloss: 0.418819\n",
      "[100]\ttraining's multi_logloss: 0.33826\tvalid_1's multi_logloss: 0.406597\n",
      "fold 4 : 0.8308648505686327\n",
      "                       precision    recall  f1-score   support\n",
      "\n",
      "    Denial of Service       0.60      0.50      0.54      1122\n",
      "             Exploits       0.80      0.86      0.83      1319\n",
      "Information Gathering       0.87      0.82      0.84       443\n",
      "              Malware       0.62      0.30      0.40        98\n",
      "               Normal       0.88      0.93      0.90      4212\n",
      "                Other       0.99      0.84      0.91       368\n",
      "\n",
      "             accuracy                           0.83      7562\n",
      "            macro avg       0.79      0.71      0.74      7562\n",
      "         weighted avg       0.82      0.83      0.83      7562\n",
      "\n",
      "0.8266733292061398 0.0037263247518553276\n",
      "                       precision    recall  f1-score   support\n",
      "\n",
      "    Denial of Service       0.60      0.49      0.54      5609\n",
      "             Exploits       0.79      0.86      0.82      6593\n",
      "Information Gathering       0.86      0.80      0.83      2216\n",
      "              Malware       0.48      0.23      0.31       489\n",
      "               Normal       0.88      0.92      0.90     21064\n",
      "                Other       0.99      0.86      0.92      1842\n",
      "\n",
      "             accuracy                           0.83     37813\n",
      "            macro avg       0.76      0.69      0.72     37813\n",
      "         weighted avg       0.82      0.83      0.82     37813\n",
      "\n",
      "0.8266733663025944\n"
     ]
    }
   ],
   "source": [
    "TARGET = 'label'\n",
    "# hyper_parameters['objective'] = 'multiclass'\n",
    "models = []\n",
    "scores = []\n",
    "oofs = np.empty(df.shape[0], dtype='object')\n",
    "for i, (train_idx, valid_idx) in enumerate(kfold.split(new_df, df[TARGET])):\n",
    "    # Xy_train = new_df.iloc[train_idx]\n",
    "    # Xy_train['label'] = df.iloc[train_idx][TARGET]\n",
    "    # Xy_train_NORMAL = Xy_train[Xy_train.label.apply(lambda x: x == 'Malware')]\n",
    "    # Xy_train_NORMAL_sample = Xy_train_NORMAL.sample(frac=1, random_state=42)\n",
    "    # # print(Xy_train_NORMAL_sample['label'].value_counts())\n",
    "    # Xy_train_OTHER = Xy_train[Xy_train.label.apply(lambda x: x != 'Malware')]\n",
    "    # Xy_train_sample = pd.concat([Xy_train_OTHER,Xy_train_NORMAL_sample])\n",
    "    # Xy_train_sample = Xy_train_sample.sample(frac=1,random_state=123)\n",
    "    # print(Xy_train_sample['label'].value_counts())\n",
    "\n",
    "    X_train = new_df.iloc[train_idx]\n",
    "    y_train = df.iloc[train_idx][TARGET]\n",
    "    X_valid = new_df.iloc[valid_idx]\n",
    "    y_valid = df.iloc[valid_idx][TARGET]\n",
    "\n",
    "\n",
    "    print(X_train.shape, X_valid.shape)\n",
    "    print(y_train.shape, y_valid.shape)\n",
    "    model = LGBMClassifier(**hyper_parameters)\n",
    "    model.fit(X_train, y_train,\n",
    "              eval_set=[(X_train, y_train), (X_valid, y_valid)],\n",
    "              eval_metric=[\"logloss\"],\n",
    "              categorical_feature=categorical,\n",
    "              early_stopping_rounds=50,\n",
    "              verbose=50)\n",
    "    # model = CatBoostClassifier(iterations=100, learning_rate=0.05, max_depth=7, subsample=0.8, random_state=42,eval_metric='AUC',class_weights={1:1.5,0:1})\n",
    "    # model.fit(X_train, y_train,\n",
    "    #           cat_features=categorical,\n",
    "    #           eval_set=[(X_train, y_train), (X_valid, y_valid)])\n",
    "    models.append(model)\n",
    "    y_pred = model.predict(X_valid)\n",
    "    oofs[valid_idx] = y_pred\n",
    "\n",
    "    print(f\"fold {i} : {accuracy_score(y_valid, y_pred)}\")\n",
    "    print(classification_report(y_valid, y_pred))\n",
    "    scores.append(accuracy_score(y_valid, y_pred))\n",
    "\n",
    "print(np.mean(scores), np.std(scores))\n",
    "print(classification_report(df[TARGET], oofs))\n",
    "print(accuracy_score(df[TARGET], oofs))"
   ]
  },
  {
   "cell_type": "code",
   "execution_count": 14,
   "metadata": {
    "collapsed": false,
    "jupyter": {
     "outputs_hidden": false
    }
   },
   "outputs": [],
   "source": [
    "disp = ConfusionMatrixDisplay(confusion_matrix=confusion_matrix(df[TARGET],oofs,labels=models[0].classes_), display_labels=models[0].classes_)\n",
    "import matplotlib.pyplot as plt\n",
    "fig, ax = plt.subplots(1, 1, figsize=(10,10))\n",
    "disp.plot(ax=ax)"
   ]
  },
  {
   "cell_type": "code",
   "execution_count": 15,
   "metadata": {
    "collapsed": false,
    "jupyter": {
     "outputs_hidden": false
    }
   },
   "outputs": [
    {
     "data": {
      "text/plain": [
       "array([[ 2762,   757,    60,    55,  1965,    10],\n",
       "       [  330,  5646,   142,    30,   441,     4],\n",
       "       [   45,   241,  1773,     4,   153,     0],\n",
       "       [  150,    94,    18,   113,   107,     7],\n",
       "       [ 1287,   288,    75,    27, 19384,     3],\n",
       "       [   50,   165,     3,     6,    37,  1581]], dtype=int64)"
      ]
     },
     "execution_count": 15,
     "metadata": {},
     "output_type": "execute_result"
    }
   ],
   "source": [
    "confusion_matrix(df[TARGET],oofs,labels=models[0].classes_)"
   ]
  },
  {
   "cell_type": "code",
   "execution_count": 16,
   "metadata": {
    "collapsed": false,
    "jupyter": {
     "outputs_hidden": false
    }
   },
   "outputs": [
    {
     "data": {
      "text/plain": [
       "<sklearn.metrics._plot.confusion_matrix.ConfusionMatrixDisplay at 0x28fbec5c2b0>"
      ]
     },
     "execution_count": 16,
     "metadata": {},
     "output_type": "execute_result"
    },
    {
     "data": {
      "image/png": "[encoded data removed]",
      "text/plain": [
       "<Figure size 1000x1000 with 2 Axes>"
      ]
     },
     "metadata": {},
     "output_type": "display_data"
    }
   ],
   "source": []
  },
  {
   "cell_type": "code",
   "execution_count": 17,
   "metadata": {
    "collapsed": false,
    "jupyter": {
     "outputs_hidden": false
    }
   },
   "outputs": [
    {
     "name": "stdout",
     "output_type": "stream",
     "text": [
      "[50]\tvalid_0's multi_logloss: 0.383376\n",
      "[100]\tvalid_0's multi_logloss: 0.343543\n"
     ]
    }
   ],
   "source": [
    "gmodel = LGBMClassifier(**models[0].get_params())\n",
    "gmodel.fit(new_df[FEATURES], df[TARGET],\n",
    "           eval_set=[(new_df[FEATURES],df[TARGET])],\n",
    "           eval_metric=[\"logloss\"],\n",
    "           categorical_feature=categorical,\n",
    "           verbose=50)\n",
    "\n",
    "with open(f'../checkpoints/phase-2/prob-2/v1.pkl','wb') as file:\n",
    "    pickle.dump(gmodel, file)"
   ]
  },
  {
   "cell_type": "code",
   "execution_count": 18,
   "metadata": {},
   "outputs": [
    {
     "data": {
      "text/plain": [
       "['feature26',\n",
       " 'feature7',\n",
       " 'feature25',\n",
       " 'feature8',\n",
       " 'feature11',\n",
       " 'feature27',\n",
       " 'feature24',\n",
       " 'feature1',\n",
       " 'feature17',\n",
       " 'feature12']"
      ]
     },
     "execution_count": 18,
     "metadata": {},
     "output_type": "execute_result"
    }
   ],
   "source": [
    "gmodel.feature_name_"
   ]
  },
  {
   "cell_type": "code",
   "execution_count": 17,
   "metadata": {},
   "outputs": [
    {
     "data": {
      "text/plain": [
       "21"
      ]
     },
     "execution_count": 17,
     "metadata": {},
     "output_type": "execute_result"
    }
   ],
   "source": [
    "len(processor.FEATURES)"
   ]
  },
  {
   "cell_type": "code",
   "execution_count": 18,
   "metadata": {},
   "outputs": [],
   "source": [
    "feats = pd.DataFrame({'feature':gmodel.feature_name_, 'score':gmodel.feature_importances_}).sort_values('score',ascending=False)"
   ]
  },
  {
   "cell_type": "code",
   "execution_count": 19,
   "metadata": {},
   "outputs": [
    {
     "data": {
      "text/plain": [
       "array(['feature26', 'feature7', 'feature25', 'feature8', 'feature11',\n",
       "       'feature27', 'feature24', 'feature1', 'feature17', 'feature12',\n",
       "       'feature18', 'feature16', 'feature40', 'feature5', 'feature29',\n",
       "       'feature9', 'feature38', 'feature31', 'feature28', 'feature36',\n",
       "       'feature41'], dtype=object)"
      ]
     },
     "execution_count": 19,
     "metadata": {},
     "output_type": "execute_result"
    }
   ],
   "source": [
    "feats.feature.values"
   ]
  },
  {
   "cell_type": "code",
   "execution_count": null,
   "metadata": {},
   "outputs": [],
   "source": []
  }
 ],
 "metadata": {
  "kernelspec": {
   "display_name": "Python 3 (ipykernel)",
   "language": "python",
   "name": "python3"
  },
  "language_info": {
   "codemirror_mode": {
    "name": "ipython",
    "version": 3
   },
   "file_extension": ".py",
   "mimetype": "text/x-python",
   "name": "python",
   "nbconvert_exporter": "python",
   "pygments_lexer": "ipython3",
   "version": "3.10.12"
  }
 },
 "nbformat": 4,
 "nbformat_minor": 4
}
