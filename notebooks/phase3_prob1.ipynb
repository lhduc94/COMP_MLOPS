{
 "cells": [
  {
   "cell_type": "code",
   "execution_count": 1,
   "metadata": {},
   "outputs": [],
   "source": [
    "import os\n",
    "import sys\n",
    "module_path = os.path.abspath(os.path.join('..'))\n",
    "if module_path not in sys.path:\n",
    "    sys.path.append(module_path)"
   ]
  },
  {
   "cell_type": "code",
   "execution_count": 2,
   "metadata": {
    "collapsed": true
   },
   "outputs": [],
   "source": [
    "\n",
    "import pandas as pd\n",
    "import warnings\n",
    "warnings.filterwarnings('ignore')\n",
    "import pickle\n",
    "from sklearn.model_selection import StratifiedKFold\n",
    "from sklearn.metrics import classification_report, roc_auc_score, f1_score, accuracy_score, multilabel_confusion_matrix, ConfusionMatrixDisplay, confusion_matrix\n",
    "from lightgbm import LGBMClassifier\n",
    "from catboost import CatBoostClassifier\n",
    "from src.data_processor.phase_3.prob1.v1 import  Phase3Prob1FeatureProcessor\n",
    "import numpy as np\n",
    "import gc\n",
    "from collections import Counter"
   ]
  },
  {
   "cell_type": "code",
   "execution_count": 3,
   "metadata": {
    "collapsed": false
   },
   "outputs": [],
   "source": [
    "df = pd.read_parquet(\"F:/Data/MLOPS_2023/data_phase-3/phase-3/prob-1/raw_train.parquet\")"
   ]
  },
  {
   "cell_type": "code",
   "execution_count": 4,
   "metadata": {
    "collapsed": false
   },
   "outputs": [
    {
     "data": {
      "text/plain": [
       "(61748, 42)"
      ]
     },
     "execution_count": 4,
     "metadata": {},
     "output_type": "execute_result"
    }
   ],
   "source": [
    "df.drop_duplicates(inplace=True)\n",
    "df.reset_index(inplace=True, drop=True)\n",
    "df.shape"
   ]
  },
  {
   "cell_type": "code",
   "execution_count": 5,
   "metadata": {},
   "outputs": [
    {
     "data": {
      "text/plain": [
       "0"
      ]
     },
     "execution_count": 5,
     "metadata": {},
     "output_type": "execute_result"
    }
   ],
   "source": [
    "df2 = pd.read_csv(\"F:/Data/MLOPS_2023/UNSW_NB15_training-set.csv\")\n",
    "df3 = pd.read_csv(\"F:/Data/MLOPS_2023/UNSW_NB15_testing-set.csv\")\n",
    "df2 = pd.concat([df2, df3])\n",
    "del df3\n",
    "gc.collect()"
   ]
  },
  {
   "cell_type": "code",
   "execution_count": 6,
   "metadata": {},
   "outputs": [
    {
     "data": {
      "text/plain": [
       "(154098, 42)"
      ]
     },
     "execution_count": 6,
     "metadata": {},
     "output_type": "execute_result"
    }
   ],
   "source": [
    "df2.drop(columns=['id','rate','attack_cat'],inplace=True)\n",
    "df2.drop_duplicates(inplace=True)\n",
    "df2.shape"
   ]
  },
  {
   "cell_type": "code",
   "execution_count": 7,
   "metadata": {},
   "outputs": [
    {
     "data": {
      "text/plain": [
       "Index(['feature1', 'feature2', 'feature3', 'feature4', 'feature5', 'feature6',\n",
       "       'feature7', 'feature8', 'feature9', 'feature10', 'feature11',\n",
       "       'feature12', 'feature13', 'feature14', 'feature15', 'feature16',\n",
       "       'feature17', 'feature18', 'feature19', 'feature20', 'feature21',\n",
       "       'feature22', 'feature23', 'feature24', 'feature25', 'feature26',\n",
       "       'feature27', 'feature28', 'feature29', 'feature30', 'feature31',\n",
       "       'feature32', 'feature33', 'feature34', 'feature35', 'feature36',\n",
       "       'feature37', 'feature38', 'feature39', 'feature40', 'feature41',\n",
       "       'label'],\n",
       "      dtype='object')"
      ]
     },
     "execution_count": 7,
     "metadata": {},
     "output_type": "execute_result"
    }
   ],
   "source": [
    "feat_to_name = {k:v for k,v in zip(df.columns,df2.columns)}\n",
    "name_to_feat = {k:v for k,v in zip(df2.columns, df.columns)}\n",
    "df2.columns = [name_to_feat[c] for c in df2.columns]\n",
    "df2.columns"
   ]
  },
  {
   "cell_type": "code",
   "execution_count": 8,
   "metadata": {},
   "outputs": [],
   "source": [
    "df2 = df2.sample(frac=1, random_state=42, replace=False)"
   ]
  },
  {
   "cell_type": "code",
   "execution_count": 9,
   "metadata": {},
   "outputs": [],
   "source": [
    "# corr_matrix = df2.corr().abs()\n",
    "\n",
    "# # Select upper triangle of correlation matrix\n",
    "# upper = corr_matrix.where(np.triu(np.ones(corr_matrix.shape), k=1).astype(np.bool_))"
   ]
  },
  {
   "cell_type": "code",
   "execution_count": 10,
   "metadata": {},
   "outputs": [],
   "source": [
    "# to_drop = [column for column in upper.columns if any(upper[column] > 0.95)]\n",
    "# to_drop"
   ]
  },
  {
   "cell_type": "code",
   "execution_count": 11,
   "metadata": {},
   "outputs": [],
   "source": [
    "# # Utility function\n",
    "# def multi_corr(col1, col2=\"label\", df=df2):\n",
    "#     '''\n",
    "#     This function returns correlation between 2 given features.\n",
    "#     Also gives corr of the given features with \"label\" afetr applying log1p to it.\n",
    "#     '''\n",
    "#     corr = df[[col1, col2]].corr().iloc[0,1]\n",
    "#     log_corr = df[col1].apply(np.log1p).corr(df[col2])\n",
    "\n",
    "#     print(\"Correlation : {}\\nlog_Correlation: {}\".format(corr, log_corr))"
   ]
  },
  {
   "cell_type": "code",
   "execution_count": 12,
   "metadata": {},
   "outputs": [],
   "source": [
    "# col_unique_values = df2.nunique()\n",
    "# col = col_unique_values[col_unique_values>200].index\n",
    "# for column in col:\n",
    "#     print(\"{:-^30}\".format(column))\n",
    "#     multi_corr(column)"
   ]
  },
  {
   "cell_type": "code",
   "execution_count": 13,
   "metadata": {},
   "outputs": [],
   "source": [
    "# df2['network_bytes'] = df2['sbytes'] + df2['dbytes']\n",
    "# log1p_col = ['dur', 'sbytes', 'dbytes', 'sload', 'dload', 'spkts', 'stcpb', 'dtcpb', 'smean', 'dmean', 'sjit', 'djit']"
   ]
  },
  {
   "cell_type": "code",
   "execution_count": 14,
   "metadata": {},
   "outputs": [],
   "source": [
    "# mode_dict = df2.mode().iloc[0].to_dict()\n",
    "# mode_dict"
   ]
  },
  {
   "cell_type": "code",
   "execution_count": 15,
   "metadata": {},
   "outputs": [],
   "source": [
    "# for col in df2.columns:\n",
    "#     val = mode_dict[col]  # Mode value of the column in train data\n",
    "#     df2[col] = df2[col].fillna(value=val)\n",
    "#     df2[col] = df2[col].replace(' ', value=val)\n",
    "#     df2[col] = df2[col].apply(lambda x:\"None\" if x==\"-\" else x)"
   ]
  },
  {
   "cell_type": "code",
   "execution_count": 16,
   "metadata": {},
   "outputs": [],
   "source": [
    "# for col in log1p_col:\n",
    "    # df2[col] = np.log1p(df2[col])\n",
    "    "
   ]
  },
  {
   "cell_type": "code",
   "execution_count": null,
   "metadata": {},
   "outputs": [],
   "source": []
  },
  {
   "cell_type": "code",
   "execution_count": 17,
   "metadata": {},
   "outputs": [],
   "source": [
    "from sklearn.preprocessing import StandardScaler, OneHotEncoder"
   ]
  },
  {
   "cell_type": "code",
   "execution_count": 18,
   "metadata": {},
   "outputs": [],
   "source": [
    "# for col in df2[categorical_col]:\n",
    "#     for val in df2[col].unique():\n",
    "#         df2[col+'_'+ val] = df2[col].eq(val)"
   ]
  },
  {
   "cell_type": "code",
   "execution_count": 19,
   "metadata": {},
   "outputs": [],
   "source": [
    "# df2.drop(columns=categorical_col,inplace=True)"
   ]
  },
  {
   "cell_type": "code",
   "execution_count": 20,
   "metadata": {},
   "outputs": [],
   "source": [
    "from sklearn.tree import DecisionTreeClassifier\n",
    "from sklearn.linear_model import LogisticRegression, SGDClassifier  # LR\n"
   ]
  },
  {
   "cell_type": "code",
   "execution_count": 21,
   "metadata": {},
   "outputs": [],
   "source": [
    "HyperParameters={'n_estimators':300,\n",
    "                 'learning_rate':0.1,\n",
    "                 'max_depth':32,\n",
    "                 'colsample_bytree':0.8,\n",
    "                 'subsample':0.8,\n",
    "                 'reg_alpha':1,\n",
    "                 'reg_lambda':0,\n",
    "                 'random_state':42}\n",
    "\n",
    "hyper_parameters = HyperParameters.copy()"
   ]
  },
  {
   "cell_type": "code",
   "execution_count": 25,
   "metadata": {
    "collapsed": false
   },
   "outputs": [
    {
     "name": "stdout",
     "output_type": "stream",
     "text": [
      "0:\ttest: 0.9687628\ttest1: 0.9685764\tbest: 0.9685764 (0)\ttotal: 4.7s\tremaining: 7m 45s\n",
      "1:\ttest: 0.9720080\ttest1: 0.9718262\tbest: 0.9718262 (1)\ttotal: 9.41s\tremaining: 7m 41s\n",
      "2:\ttest: 0.9731615\ttest1: 0.9728545\tbest: 0.9728545 (2)\ttotal: 14.4s\tremaining: 7m 44s\n",
      "3:\ttest: 0.9749169\ttest1: 0.9741665\tbest: 0.9741665 (3)\ttotal: 19.4s\tremaining: 7m 44s\n",
      "4:\ttest: 0.9765356\ttest1: 0.9747870\tbest: 0.9747870 (4)\ttotal: 24.4s\tremaining: 7m 44s\n",
      "5:\ttest: 0.9773959\ttest1: 0.9757244\tbest: 0.9757244 (5)\ttotal: 29.6s\tremaining: 7m 43s\n",
      "6:\ttest: 0.9777437\ttest1: 0.9759345\tbest: 0.9759345 (6)\ttotal: 34.4s\tremaining: 7m 37s\n",
      "7:\ttest: 0.9782118\ttest1: 0.9763243\tbest: 0.9763243 (7)\ttotal: 39.2s\tremaining: 7m 31s\n",
      "8:\ttest: 0.9786753\ttest1: 0.9767227\tbest: 0.9767227 (8)\ttotal: 44.2s\tremaining: 7m 27s\n"
     ]
    }
   ],
   "source": [
    "processor = Phase3Prob1FeatureProcessor()\n",
    "new_df = processor.fit_transform(df2)\n",
    "kfold = StratifiedKFold(n_splits=5, random_state=42, shuffle=True)\n",
    "FEATURES = processor.data_features['features']\n",
    "categorical = processor.data_features['categorical_features']\n",
    "TARGET = 'label'\n",
    "kfold = StratifiedKFold(n_splits=5, random_state=42, shuffle=True)\n",
    "models = []\n",
    "scores = []\n",
    "oofs = np.zeros(df2.shape[0])\n",
    "for i, (train_idx, valid_idx) in enumerate(kfold.split(new_df, df2['label'])):\n",
    "    X_train = new_df.iloc[train_idx][FEATURES]\n",
    "    X_valid = new_df.iloc[valid_idx][FEATURES]\n",
    "    y_train = df2.iloc[train_idx][TARGET]\n",
    "    y_valid = df2.iloc[valid_idx][TARGET]\n",
    "    \n",
    "    # scaler = StandardScaler()\n",
    "    # scaler = scaler.fit(X_train[num_col])\n",
    "    # X_train[num_col] = scaler.transform(X_train[num_col])\n",
    "    # X_valid[num_col] = scaler.transform(X_valid[num_col])\n",
    "    # model = LogisticRegression(max_iter=7000)\n",
    "    # model.fit(X_train, y_train)\n",
    "    # model = LGBMClassifier(**hyper_parameters)\n",
    "    # model.fit(X_train, y_train,\n",
    "    #           eval_set=[(X_train, y_train), (X_valid, y_valid)],\n",
    "    #           categorical_feature=categorical,\n",
    "    #           eval_metric=[\"logloss\", \"auc\"],\n",
    "    #           early_stopping_rounds=50,\n",
    "    #           verbose=50)\n",
    "    # model = DecisionTreeClassifier(\n",
    "    #                    max_depth=15, \n",
    "    #                    min_samples_leaf=120, min_samples_split=6)\n",
    "    # model.fit(X_train, y_train)\n",
    "    # model = SGDClassifier(loss='log', penalty='l2')\n",
    "    # model.fit(X_train, y_train)\n",
    "    model = CatBoostClassifier(iterations=100, learning_rate=0.1, max_depth=16, subsample=0.8, random_state=42,eval_metric='AUC')\n",
    "    model.fit(X_train, y_train,\n",
    "              eval_set=[(X_train, y_train), (X_valid, y_valid)],\n",
    "              cat_features=categorical)\n",
    "    models.append(model)\n",
    "    y_pred_proba = model.predict_proba(X_valid)[:,1]\n",
    "    oofs[valid_idx] = y_pred_proba\n",
    "\n",
    "    print(f\"fold {i} : {roc_auc_score(y_valid, y_pred_proba)}\")\n",
    "    scores.append(roc_auc_score(y_valid, y_pred_proba))\n",
    "\n",
    "print(np.mean(scores), np.std(scores))"
   ]
  },
  {
   "cell_type": "code",
   "execution_count": 25,
   "metadata": {},
   "outputs": [],
   "source": [
    "oofs = (oofs>0.5).astype(int)"
   ]
  },
  {
   "cell_type": "code",
   "execution_count": 26,
   "metadata": {},
   "outputs": [
    {
     "data": {
      "text/plain": [
       "<sklearn.metrics._plot.confusion_matrix.ConfusionMatrixDisplay at 0x250bb4873a0>"
      ]
     },
     "execution_count": 26,
     "metadata": {},
     "output_type": "execute_result"
    },
    {
     "data": {
      "image/png": "[encoded data removed]",
      "text/plain": [
       "<Figure size 1000x1000 with 2 Axes>"
      ]
     },
     "metadata": {},
     "output_type": "display_data"
    }
   ],
   "source": [
    "disp = ConfusionMatrixDisplay(confusion_matrix=confusion_matrix(df2[TARGET],oofs,labels=models[0].classes_), display_labels=models[0].classes_)\n",
    "import matplotlib.pyplot as plt\n",
    "fig, ax = plt.subplots(1, 1, figsize=(10,10))\n",
    "disp.plot(ax=ax)"
   ]
  },
  {
   "cell_type": "code",
   "execution_count": 30,
   "metadata": {
    "collapsed": false
   },
   "outputs": [
    {
     "name": "stdout",
     "output_type": "stream",
     "text": [
      "[50]\tvalid_0's binary_logloss: 0.181005\tvalid_0's auc: 0.97938\n",
      "[100]\tvalid_0's binary_logloss: 0.166651\tvalid_0's auc: 0.982207\n",
      "[150]\tvalid_0's binary_logloss: 0.158834\tvalid_0's auc: 0.984031\n",
      "[200]\tvalid_0's binary_logloss: 0.152734\tvalid_0's auc: 0.985523\n",
      "[250]\tvalid_0's binary_logloss: 0.147937\tvalid_0's auc: 0.986683\n",
      "[300]\tvalid_0's binary_logloss: 0.143503\tvalid_0's auc: 0.987732\n"
     ]
    }
   ],
   "source": [
    "gmodel = LGBMClassifier(**models[0].get_params())\n",
    "gmodel.fit(new_df[FEATURES], df2[TARGET],\n",
    "           eval_set=[(new_df[FEATURES],df2[TARGET])],\n",
    "           eval_metric=[\"logloss\", \"auc\"],\n",
    "           categorical_feature=categorical,\n",
    "           verbose=50)\n",
    "\n",
    "with open(f'../checkpoints/phase-3/prob-1/v1.pkl','wb') as file:\n",
    "    pickle.dump(gmodel, file)"
   ]
  },
  {
   "cell_type": "code",
   "execution_count": 31,
   "metadata": {},
   "outputs": [],
   "source": [
    "feats = pd.DataFrame({'feature':gmodel.feature_name_, 'score':gmodel.feature_importances_}).sort_values('score',ascending=False)"
   ]
  },
  {
   "cell_type": "code",
   "execution_count": 32,
   "metadata": {},
   "outputs": [
    {
     "data": {
      "text/plain": [
       "array(['feature7', 'feature26', 'feature30', 'feature35', 'feature40',\n",
       "       'feature21', 'feature25', 'feature20', 'feature24', 'feature12'],\n",
       "      dtype=object)"
      ]
     },
     "execution_count": 32,
     "metadata": {},
     "output_type": "execute_result"
    }
   ],
   "source": [
    "feats.feature[:10].values"
   ]
  },
  {
   "cell_type": "code",
   "execution_count": null,
   "metadata": {},
   "outputs": [],
   "source": []
  }
 ],
 "metadata": {
  "kernelspec": {
   "display_name": "Python 3",
   "language": "python",
   "name": "python3"
  },
  "language_info": {
   "codemirror_mode": {
    "name": "ipython",
    "version": 3
   },
   "file_extension": ".py",
   "mimetype": "text/x-python",
   "name": "python",
   "nbconvert_exporter": "python",
   "pygments_lexer": "ipython3",
   "version": "3.10.12"
  }
 },
 "nbformat": 4,
 "nbformat_minor": 0
}
