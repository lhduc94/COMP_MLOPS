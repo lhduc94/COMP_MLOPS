{
 "cells": [
  {
   "cell_type": "code",
   "execution_count": 6,
   "outputs": [],
   "source": [
    "import pandas as pd\n",
    "import os\n",
    "\n",
    "import numpy as np\n",
    "\n",
    "from sklearn.datasets import fetch_california_housing\n",
    "\n",
    "from evidently import ColumnMapping\n",
    "\n",
    "from evidently.report import Report\n",
    "from evidently.metrics.base_metric import generate_column_metrics\n",
    "from evidently.metric_preset import DataDriftPreset, TargetDriftPreset, DataQualityPreset\n",
    "from evidently.metrics import *\n",
    "\n",
    "from evidently.test_suite import TestSuite;\n",
    "from evidently.tests.base_test import generate_column_tests\n",
    "from evidently.test_preset import DataStabilityTestPreset, NoTargetPerformanceTestPreset\n",
    "from evidently.tests import *"
   ],
   "metadata": {
    "collapsed": false
   }
  },
  {
   "cell_type": "code",
   "execution_count": 61,
   "outputs": [],
   "source": [
    "DIR_NAME = '/home/duclh3/Workspace/test_phase1_prob2/'"
   ],
   "metadata": {
    "collapsed": false
   }
  },
  {
   "cell_type": "code",
   "execution_count": 62,
   "outputs": [],
   "source": [
    "files = os.listdir(DIR_NAME)"
   ],
   "metadata": {
    "collapsed": false
   }
  },
  {
   "cell_type": "code",
   "execution_count": 63,
   "outputs": [],
   "source": [
    "df = pd.read_parquet(\"/mnt/f/Data/MLOPS_2023/data_phase-1/phase-1/prob-2/raw_train.parquet\")\n"
   ],
   "metadata": {
    "collapsed": false
   }
  },
  {
   "cell_type": "code",
   "execution_count": 64,
   "outputs": [],
   "source": [
    "from src.data_processor.phase_1.prob1 import Phase1Prob1FeatureProcessorV1\n",
    "from src.data_processor.phase_1.prob2 import Phase1Prob2FeatureProcessorV1\n",
    "from src.model_predictor import Phase1Prob1ModelPredictor, Phase1Prob2ModelPredictor"
   ],
   "metadata": {
    "collapsed": false
   }
  },
  {
   "cell_type": "code",
   "execution_count": 65,
   "outputs": [],
   "source": [
    "DEFAULT_CONFIG_CHECKPOINTS = '../checkpoints'\n",
    "\n",
    "phase1_prob1_pretrained_model = Phase1Prob1ModelPredictor(DEFAULT_CONFIG_CHECKPOINTS + '/phase-1/prob-1/v1.pkl')\n",
    "phase1_prob1_feature_processor = Phase1Prob1FeatureProcessorV1()\n",
    "phase1_prob2_pretrained_model = Phase1Prob2ModelPredictor(DEFAULT_CONFIG_CHECKPOINTS + '/phase-1/prob-2/v1.pkl')\n",
    "phase1_prob2_feature_processor = Phase1Prob2FeatureProcessorV1()"
   ],
   "metadata": {
    "collapsed": false
   }
  },
  {
   "cell_type": "code",
   "execution_count": 67,
   "outputs": [
    {
     "name": "stdout",
     "output_type": "stream",
     "text": [
      "0\n",
      "0.018573234177763343 False\n",
      "label\n",
      "0    0.672\n",
      "1    0.328\n",
      "Name: proportion, dtype: float64\n",
      "1\n",
      "0.032774651282089846 False\n",
      "label\n",
      "0    0.653\n",
      "1    0.347\n",
      "Name: proportion, dtype: float64\n",
      "2\n",
      "0.005683516686290919 False\n",
      "label\n",
      "0    0.689\n",
      "1    0.311\n",
      "Name: proportion, dtype: float64\n",
      "3\n",
      "0.005683516686290919 False\n",
      "label\n",
      "0    0.689\n",
      "1    0.311\n",
      "Name: proportion, dtype: float64\n",
      "4\n",
      "0.026072881307957936 False\n",
      "label\n",
      "0    0.662\n",
      "1    0.338\n",
      "Name: proportion, dtype: float64\n",
      "5\n",
      "0.0010885896415525618 False\n",
      "label\n",
      "0    0.695\n",
      "1    0.305\n",
      "Name: proportion, dtype: float64\n",
      "6\n",
      "0.0140448735051809 False\n",
      "label\n",
      "0    0.678\n",
      "1    0.322\n",
      "Name: proportion, dtype: float64\n",
      "7\n",
      "0.040171493831861346 False\n",
      "label\n",
      "0    0.643\n",
      "1    0.357\n",
      "Name: proportion, dtype: float64\n",
      "8\n",
      "0.019325832505604053 False\n",
      "label\n",
      "0    0.671\n",
      "1    0.329\n",
      "Name: proportion, dtype: float64\n",
      "9\n",
      "0.019325832505604053 False\n",
      "label\n",
      "0    0.671\n",
      "1    0.329\n",
      "Name: proportion, dtype: float64\n",
      "10\n",
      "0.014801142516888157 False\n",
      "label\n",
      "0    0.677\n",
      "1    0.323\n",
      "Name: proportion, dtype: float64\n",
      "11\n",
      "0.007971760764315161 False\n",
      "label\n",
      "0    0.686\n",
      "1    0.314\n",
      "Name: proportion, dtype: float64\n",
      "12\n",
      "0.013287977256465255 False\n",
      "label\n",
      "0    0.679\n",
      "1    0.321\n",
      "Name: proportion, dtype: float64\n",
      "13\n",
      "0.03425808001792172 False\n",
      "label\n",
      "0    0.651\n",
      "1    0.349\n",
      "Name: proportion, dtype: float64\n",
      "14\n",
      "0.012530449285721185 False\n",
      "label\n",
      "0    0.68\n",
      "1    0.32\n",
      "Name: proportion, dtype: float64\n",
      "15\n",
      "0.019325832505604053 False\n",
      "label\n",
      "0    0.671\n",
      "1    0.329\n",
      "Name: proportion, dtype: float64\n",
      "16\n",
      "0.015556788750379458 False\n",
      "label\n",
      "0    0.676\n",
      "1    0.324\n",
      "Name: proportion, dtype: float64\n",
      "17\n",
      "0.012530449285721185 False\n",
      "label\n",
      "0    0.68\n",
      "1    0.32\n",
      "Name: proportion, dtype: float64\n",
      "18\n",
      "0.007036541671617991 False\n",
      "label\n",
      "0    0.687227\n",
      "1    0.312773\n",
      "Name: proportion, dtype: float64\n",
      "19\n",
      "0.02158006524151984 False\n",
      "label\n",
      "0    0.668\n",
      "1    0.332\n",
      "Name: proportion, dtype: float64\n",
      "20\n",
      "0.011013480105448966 False\n",
      "label\n",
      "0    0.682\n",
      "1    0.318\n",
      "Name: proportion, dtype: float64\n",
      "21\n",
      "0.008733174756166851 False\n",
      "label\n",
      "0    0.685\n",
      "1    0.315\n",
      "Name: proportion, dtype: float64\n",
      "22\n",
      "0.004304420772833739 False\n",
      "label\n",
      "0    0.702\n",
      "1    0.298\n",
      "Name: proportion, dtype: float64\n",
      "23\n",
      "0.003389169723295921 False\n",
      "label\n",
      "0    0.692\n",
      "1    0.308\n",
      "Name: proportion, dtype: float64\n",
      "24\n",
      "0.025325499797538457 False\n",
      "label\n",
      "0    0.663\n",
      "1    0.337\n",
      "Name: proportion, dtype: float64\n",
      "25\n",
      "0.013287977256465255 False\n",
      "label\n",
      "0    0.679\n",
      "1    0.321\n",
      "Name: proportion, dtype: float64\n",
      "26\n",
      "0.011013480105448966 False\n",
      "label\n",
      "0    0.682\n",
      "1    0.318\n",
      "Name: proportion, dtype: float64\n",
      "27\n",
      "0.008785302224926189 False\n",
      "label\n",
      "0    0.684932\n",
      "1    0.315068\n",
      "Name: proportion, dtype: float64\n",
      "28\n",
      "0.0012183562741244335 False\n",
      "label\n",
      "0    0.698\n",
      "1    0.302\n",
      "Name: proportion, dtype: float64\n",
      "29\n",
      "0.023079961060929563 False\n",
      "label\n",
      "0    0.666\n",
      "1    0.334\n",
      "Name: proportion, dtype: float64\n",
      "30\n",
      "0.014801142516888157 False\n",
      "label\n",
      "0    0.677\n",
      "1    0.323\n",
      "Name: proportion, dtype: float64\n",
      "31\n"
     ]
    },
    {
     "ename": "IndexError",
     "evalue": "list index out of range",
     "output_type": "error",
     "traceback": [
      "\u001B[0;31m---------------------------------------------------------------------------\u001B[0m",
      "\u001B[0;31mIndexError\u001B[0m                                Traceback (most recent call last)",
      "Cell \u001B[0;32mIn[67], line 3\u001B[0m\n\u001B[1;32m      1\u001B[0m \u001B[38;5;28;01mfor\u001B[39;00m i \u001B[38;5;129;01min\u001B[39;00m \u001B[38;5;28mrange\u001B[39m(\u001B[38;5;241m100\u001B[39m):\n\u001B[1;32m      2\u001B[0m     \u001B[38;5;28mprint\u001B[39m(i)\n\u001B[0;32m----> 3\u001B[0m     test \u001B[38;5;241m=\u001B[39m pd\u001B[38;5;241m.\u001B[39mread_csv(DIR_NAME\u001B[38;5;241m+\u001B[39m\u001B[38;5;124m'\u001B[39m\u001B[38;5;124m/\u001B[39m\u001B[38;5;124m'\u001B[39m\u001B[38;5;241m+\u001B[39m\u001B[43mfiles\u001B[49m\u001B[43m[\u001B[49m\u001B[43mi\u001B[49m\u001B[43m]\u001B[49m)\n\u001B[1;32m      4\u001B[0m     data \u001B[38;5;241m=\u001B[39m phase1_prob2_feature_processor\u001B[38;5;241m.\u001B[39mprocess(test)\n\u001B[1;32m      5\u001B[0m     prediction \u001B[38;5;241m=\u001B[39m phase1_prob2_pretrained_model\u001B[38;5;241m.\u001B[39mpredict_proba(data)\n",
      "\u001B[0;31mIndexError\u001B[0m: list index out of range"
     ]
    }
   ],
   "source": [
    "for i in range(len(files)):\n",
    "    print(i)\n",
    "    test = pd.read_csv(DIR_NAME+'/'+files[i])\n",
    "    data = phase1_prob2_feature_processor.process(test)\n",
    "    prediction = phase1_prob2_pretrained_model.predict_proba(data)\n",
    "    test['label'] = [1 if i >= 0.48 else 0 for i in prediction]\n",
    "    report = Report(metrics=[\n",
    "        DataDriftPreset(),\n",
    "    ])\n",
    "    report.run(reference_data=df, current_data=test)\n",
    "    label_score = report.as_dict()['metrics'][1]['result']['drift_by_columns']['label']\n",
    "    report.save_html(f'../analyst/phase-1/prob-2/file_{i}.html')\n",
    "\n",
    "    print(label_score['drift_score'],label_score['drift_detected'])\n",
    "    print(test['label'].value_counts(normalize=True))"
   ],
   "metadata": {
    "collapsed": false
   }
  },
  {
   "cell_type": "code",
   "execution_count": 36,
   "outputs": [],
   "source": [],
   "metadata": {
    "collapsed": false
   }
  },
  {
   "cell_type": "code",
   "execution_count": 38,
   "outputs": [],
   "source": [
    "i=99\n",
    "report.run(reference_data=df, current_data=test)\n",
    "report.save_html(f'../analyst/phase-1/prob-1/file_{i}.html')"
   ],
   "metadata": {
    "collapsed": false
   }
  },
  {
   "cell_type": "code",
   "execution_count": 43,
   "outputs": [
    {
     "data": {
      "text/plain": "label\n0    0.963\n1    0.037\nName: proportion, dtype: float64"
     },
     "execution_count": 43,
     "metadata": {},
     "output_type": "execute_result"
    }
   ],
   "source": [
    "test['label'].value_counts(normalize=True)"
   ],
   "metadata": {
    "collapsed": false
   }
  },
  {
   "cell_type": "code",
   "execution_count": 46,
   "outputs": [
    {
     "data": {
      "text/plain": "label\n0    0.936685\n1    0.063315\nName: proportion, dtype: float64"
     },
     "execution_count": 46,
     "metadata": {},
     "output_type": "execute_result"
    }
   ],
   "source": [
    "df['label'].value_counts(normalize=True)"
   ],
   "metadata": {
    "collapsed": false
   }
  },
  {
   "cell_type": "code",
   "execution_count": 58,
   "outputs": [
    {
     "name": "stdout",
     "output_type": "stream",
     "text": [
      "0.04286388547269783 False\n"
     ]
    }
   ],
   "source": [
    "label_score = report.as_dict()['metrics'][1]['result']['drift_by_columns']['label']\n",
    "print(label_score['drift_score'],label_score['drift_detected'])"
   ],
   "metadata": {
    "collapsed": false
   }
  },
  {
   "cell_type": "code",
   "execution_count": 57,
   "outputs": [
    {
     "data": {
      "text/plain": "0      0\n1      0\n2      0\n3      0\n4      0\n      ..\n995    0\n996    0\n997    0\n998    0\n999    0\nName: label, Length: 1000, dtype: int64"
     },
     "execution_count": 57,
     "metadata": {},
     "output_type": "execute_result"
    }
   ],
   "source": [],
   "metadata": {
    "collapsed": false
   }
  },
  {
   "cell_type": "code",
   "execution_count": null,
   "outputs": [],
   "source": [],
   "metadata": {
    "collapsed": false
   }
  }
 ],
 "metadata": {
  "kernelspec": {
   "display_name": "Python 3",
   "language": "python",
   "name": "python3"
  },
  "language_info": {
   "codemirror_mode": {
    "name": "ipython",
    "version": 2
   },
   "file_extension": ".py",
   "mimetype": "text/x-python",
   "name": "python",
   "nbconvert_exporter": "python",
   "pygments_lexer": "ipython2",
   "version": "2.7.6"
  }
 },
 "nbformat": 4,
 "nbformat_minor": 0
}
