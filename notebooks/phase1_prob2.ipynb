{
 "cells": [
  {
   "cell_type": "code",
   "execution_count": 1,
   "metadata": {
    "collapsed": true
   },
   "outputs": [],
   "source": [
    "import pandas as pd\n",
    "import warnings\n",
    "warnings.filterwarnings('ignore')\n",
    "import pickle\n",
    "import numpy as np\n",
    "from sklearn.model_selection import StratifiedKFold\n",
    "from sklearn.metrics import classification_report, roc_auc_score\n",
    "from lightgbm import LGBMClassifier\n",
    "from src.data_processor.phase_1.prob2.v2 import Phase1Prob2FeatureProcessor\n",
    "from catboost import CatBoostClassifier"
   ]
  },
  {
   "cell_type": "code",
   "execution_count": 2,
   "outputs": [],
   "source": [
    "df = pd.read_parquet(\"/mnt/f/Data/MLOPS_2023/data_phase-1/phase-1/prob-2/raw_train.parquet\")\n",
    "test = pd.read_csv('/home/duclh3/Workspace/test_phase1_prob2/mlops_phase1_prob2_207c042d-7882-4831-b2bc-1740c5ed739e.csv')"
   ],
   "metadata": {
    "collapsed": false
   }
  },
  {
   "cell_type": "code",
   "execution_count": 3,
   "outputs": [
    {
     "name": "stdout",
     "output_type": "stream",
     "text": [
      "feature1\n",
      "feature1\n",
      "feature3\n",
      "feature3\n",
      "feature4\n",
      "feature4\n",
      "feature6\n",
      "feature6\n",
      "feature7\n",
      "feature7\n",
      "feature9\n",
      "feature9\n",
      "feature10\n",
      "feature10\n",
      "feature12\n",
      "feature12\n",
      "feature14\n",
      "feature14\n",
      "feature15\n",
      "feature15\n",
      "feature17\n",
      "feature17\n",
      "feature19\n",
      "feature19\n",
      "feature20\n",
      "feature20\n"
     ]
    }
   ],
   "source": [
    "processor = Phase1Prob2FeatureProcessor()\n",
    "new_df = processor.fit_transform(df)"
   ],
   "metadata": {
    "collapsed": false
   }
  },
  {
   "cell_type": "code",
   "execution_count": 4,
   "outputs": [],
   "source": [
    "kfold = StratifiedKFold(n_splits=5, random_state=42, shuffle=True)"
   ],
   "metadata": {
    "collapsed": false
   }
  },
  {
   "cell_type": "code",
   "execution_count": 5,
   "outputs": [],
   "source": [
    "FEATURES = processor.data_features['features']\n",
    "categorical = processor.data_features['categorical_features']\n",
    "TARGET = 'label'"
   ],
   "metadata": {
    "collapsed": false
   }
  },
  {
   "cell_type": "code",
   "execution_count": 6,
   "outputs": [
    {
     "data": {
      "text/plain": "((60000, 21), (60000, 21))"
     },
     "execution_count": 6,
     "metadata": {},
     "output_type": "execute_result"
    }
   ],
   "source": [
    "new_df.shape, df.shape"
   ],
   "metadata": {
    "collapsed": false
   }
  },
  {
   "cell_type": "code",
   "execution_count": 6,
   "outputs": [],
   "source": [],
   "metadata": {
    "collapsed": false
   }
  },
  {
   "cell_type": "code",
   "execution_count": 12,
   "outputs": [
    {
     "name": "stdout",
     "output_type": "stream",
     "text": [
      "[50]\ttraining's binary_logloss: 0.458734\ttraining's auc: 0.850615\tvalid_1's binary_logloss: 0.470642\tvalid_1's auc: 0.835687\n",
      "[100]\ttraining's binary_logloss: 0.426549\ttraining's auc: 0.869518\tvalid_1's binary_logloss: 0.444545\tvalid_1's auc: 0.851624\n",
      "fold 0 : 0.8516243678548585\n",
      "              precision    recall  f1-score   support\n",
      "\n",
      "           0       0.85      0.85      0.85      8357\n",
      "           1       0.65      0.67      0.66      3643\n",
      "\n",
      "    accuracy                           0.79     12000\n",
      "   macro avg       0.75      0.76      0.76     12000\n",
      "weighted avg       0.79      0.79      0.79     12000\n",
      "\n",
      "[50]\ttraining's binary_logloss: 0.460627\ttraining's auc: 0.848673\tvalid_1's binary_logloss: 0.467773\tvalid_1's auc: 0.840392\n",
      "[100]\ttraining's binary_logloss: 0.427837\ttraining's auc: 0.86861\tvalid_1's binary_logloss: 0.439783\tvalid_1's auc: 0.856707\n",
      "fold 1 : 0.8567069029856935\n",
      "              precision    recall  f1-score   support\n",
      "\n",
      "           0       0.86      0.86      0.86      8357\n",
      "           1       0.67      0.69      0.68      3643\n",
      "\n",
      "    accuracy                           0.80     12000\n",
      "   macro avg       0.77      0.77      0.77     12000\n",
      "weighted avg       0.81      0.80      0.80     12000\n",
      "\n",
      "[50]\ttraining's binary_logloss: 0.460439\ttraining's auc: 0.848779\tvalid_1's binary_logloss: 0.466218\tvalid_1's auc: 0.841369\n",
      "[100]\ttraining's binary_logloss: 0.427997\ttraining's auc: 0.868522\tvalid_1's binary_logloss: 0.439691\tvalid_1's auc: 0.856513\n",
      "fold 2 : 0.8565126646144329\n",
      "              precision    recall  f1-score   support\n",
      "\n",
      "           0       0.86      0.85      0.86      8357\n",
      "           1       0.67      0.68      0.67      3643\n",
      "\n",
      "    accuracy                           0.80     12000\n",
      "   macro avg       0.76      0.77      0.76     12000\n",
      "weighted avg       0.80      0.80      0.80     12000\n",
      "\n",
      "[50]\ttraining's binary_logloss: 0.460253\ttraining's auc: 0.849298\tvalid_1's binary_logloss: 0.465927\tvalid_1's auc: 0.841046\n",
      "[100]\ttraining's binary_logloss: 0.427685\ttraining's auc: 0.868693\tvalid_1's binary_logloss: 0.441254\tvalid_1's auc: 0.854752\n",
      "fold 3 : 0.8547520704115492\n",
      "              precision    recall  f1-score   support\n",
      "\n",
      "           0       0.86      0.86      0.86      8357\n",
      "           1       0.67      0.68      0.67      3643\n",
      "\n",
      "    accuracy                           0.80     12000\n",
      "   macro avg       0.76      0.77      0.77     12000\n",
      "weighted avg       0.80      0.80      0.80     12000\n",
      "\n",
      "[50]\ttraining's binary_logloss: 0.459558\ttraining's auc: 0.849706\tvalid_1's binary_logloss: 0.468824\tvalid_1's auc: 0.83901\n",
      "[100]\ttraining's binary_logloss: 0.427908\ttraining's auc: 0.868493\tvalid_1's binary_logloss: 0.442649\tvalid_1's auc: 0.854727\n",
      "fold 4 : 0.8547267949525681\n",
      "              precision    recall  f1-score   support\n",
      "\n",
      "           0       0.86      0.85      0.85      8357\n",
      "           1       0.66      0.68      0.67      3643\n",
      "\n",
      "    accuracy                           0.80     12000\n",
      "   macro avg       0.76      0.76      0.76     12000\n",
      "weighted avg       0.80      0.80      0.80     12000\n",
      "\n"
     ]
    }
   ],
   "source": [
    "models = []\n",
    "scores = []\n",
    "oofs = np.zeros(df.shape[0])\n",
    "for i, (train_idx, valid_idx) in enumerate(kfold.split(new_df, df['label'])):\n",
    "    X_train = new_df.iloc[train_idx][FEATURES]\n",
    "    X_valid = new_df.iloc[valid_idx][FEATURES]\n",
    "    y_train = df.iloc[train_idx][TARGET]\n",
    "    y_valid = df.iloc[valid_idx][TARGET]\n",
    "    model = LGBMClassifier(n_estimators=100,\n",
    "                           learning_rate=0.05,\n",
    "                           max_depth=7,\n",
    "                           colsample_bytree=0.8,\n",
    "                           # reg_alpha=8,\n",
    "                           # reg_lambda=32,\n",
    "                           subsample=0.8,\n",
    "                           # device=\"gpu\",\n",
    "                           scale_pos_weight=1.5,\n",
    "                           random_state=42)\n",
    "    model.fit(X_train, y_train,\n",
    "              eval_set=[(X_train, y_train), (X_valid, y_valid)],\n",
    "              eval_metric=[\"logloss\", \"auc\"],\n",
    "              categorical_feature=categorical,\n",
    "              early_stopping_rounds=50,\n",
    "              verbose=50)\n",
    "    # model = CatBoostClassifier(iterations=100, learning_rate=0.05, max_depth=7, subsample=0.8, random_state=42,eval_metric='AUC',class_weights={1:1.5,0:1})\n",
    "    # model.fit(X_train, y_train,\n",
    "    #           cat_features=categorical,\n",
    "    #           eval_set=[(X_train, y_train), (X_valid, y_valid)])\n",
    "    models.append(model)\n",
    "    y_pred_proba = model.predict_proba(X_valid)[:,1]\n",
    "    y_pred = (y_pred_proba>0.5).astype(int)\n",
    "    oofs[valid_idx] = y_pred_proba\n",
    "\n",
    "    print(f\"fold {i} : {roc_auc_score(y_valid, y_pred_proba)}\")\n",
    "    print(classification_report(y_valid, y_pred))\n",
    "    scores.append(roc_auc_score(y_valid, y_pred_proba))"
   ],
   "metadata": {
    "collapsed": false
   }
  },
  {
   "cell_type": "code",
   "execution_count": 13,
   "outputs": [
    {
     "name": "stdout",
     "output_type": "stream",
     "text": [
      "0.8548645601638205 0.00182433301512028\n"
     ]
    }
   ],
   "source": [
    "print(np.mean(scores), np.std(scores))"
   ],
   "metadata": {
    "collapsed": false
   }
  },
  {
   "cell_type": "code",
   "execution_count": 14,
   "outputs": [],
   "source": [
    "X_train['feature8'] = X_train['feature8'].astype(int)"
   ],
   "metadata": {
    "collapsed": false
   }
  },
  {
   "cell_type": "code",
   "execution_count": 15,
   "outputs": [
    {
     "name": "stdout",
     "output_type": "stream",
     "text": [
      "0.30, 0.31, 0.32, 0.33, 0.34, 0.35, 0.36, 0.37, 0.38, 0.39, 0.40, 0.41, 0.42, 0.43, 0.44, 0.45, 0.46, 0.47, 0.48, 0.49, 0.50, 0.51, 0.52, 0.53, 0.54, 0.55, 0.56, 0.57, 0.58, 0.59, 0.60, 0.61, 0.62, 0.63, 0.64, 0.65, 0.66, 0.67, 0.68, 0.69, 0.70, 0.71, 0.72, 0.73, 0.74, 0.75, 0.76, 0.77, 0.78, 0.79, 0.80, 0.81, 0.82, 0.83, 0.84, 0.85, 0.86, 0.87, 0.88, 0.89, 0.90, "
     ]
    }
   ],
   "source": [
    "from sklearn.metrics import f1_score, accuracy_score\n",
    "scores = []; thresholds = []\n",
    "best_score = 0; best_threshold = 0\n",
    "train_labels = df['label']\n",
    "for threshold in np.arange(0.3,0.9,0.01):\n",
    "    print(f'{threshold:.02f}, ',end='')\n",
    "    preds = (oofs>=threshold).astype('int')\n",
    "    m = f1_score(train_labels, preds, average='macro')\n",
    "    scores.append(m)\n",
    "    thresholds.append(threshold)\n",
    "    if m>best_score:\n",
    "        best_score = m\n",
    "        best_threshold = threshold"
   ],
   "metadata": {
    "collapsed": false
   }
  },
  {
   "cell_type": "code",
   "execution_count": 16,
   "outputs": [
    {
     "data": {
      "text/plain": "<Figure size 2000x500 with 1 Axes>",
      "image/png": "[encoded data removed]"
     },
     "metadata": {},
     "output_type": "display_data"
    }
   ],
   "source": [
    "import matplotlib.pyplot as plt\n",
    "\n",
    "# PLOT THRESHOLD VS. F1_SCORE\n",
    "plt.figure(figsize=(20,5))\n",
    "plt.plot(thresholds,scores,'-o',color='blue')\n",
    "plt.scatter([best_threshold], [best_score], color='blue', s=300, alpha=1)\n",
    "plt.xlabel('Threshold',size=14)\n",
    "plt.ylabel('Validation F1 Score',size=14)\n",
    "plt.title(f'Threshold vs. Score with Best Score = {best_score:.4f} at Best Threshold = {best_threshold:.3}',size=18)\n",
    "plt.show()"
   ],
   "metadata": {
    "collapsed": false
   }
  },
  {
   "cell_type": "code",
   "execution_count": 17,
   "outputs": [
    {
     "data": {
      "text/plain": "(0.6850571983484981, 0.09504120578173625)"
     },
     "execution_count": 17,
     "metadata": {},
     "output_type": "execute_result"
    }
   ],
   "source": [
    "np.mean(scores), np.std(scores)"
   ],
   "metadata": {
    "collapsed": false
   }
  },
  {
   "cell_type": "code",
   "execution_count": 18,
   "outputs": [],
   "source": [
    "feats = pd.DataFrame({'features': models[4].feature_name_, 'score': models[4].feature_importances_})"
   ],
   "metadata": {
    "collapsed": false
   }
  },
  {
   "cell_type": "code",
   "execution_count": 19,
   "outputs": [
    {
     "data": {
      "text/plain": "     features  score\n1    feature2    355\n4    feature5    323\n12  feature13    304\n6    feature7    231\n2    feature3    201\n3    feature4    200\n11  feature12    184\n14  feature15    162\n13  feature14    150\n5    feature6    123\n0    feature1    122\n9   feature10    101\n7    feature8    100\n8    feature9     96\n19  feature20     90\n10  feature11     75\n18  feature19     65\n16  feature17     61\n15  feature16     33\n20  feature21     13\n17  feature18     11",
      "text/html": "<div>\n<style scoped>\n    .dataframe tbody tr th:only-of-type {\n        vertical-align: middle;\n    }\n\n    .dataframe tbody tr th {\n        vertical-align: top;\n    }\n\n    .dataframe thead th {\n        text-align: right;\n    }\n</style>\n<table border=\"1\" class=\"dataframe\">\n  <thead>\n    <tr style=\"text-align: right;\">\n      <th></th>\n      <th>features</th>\n      <th>score</th>\n    </tr>\n  </thead>\n  <tbody>\n    <tr>\n      <th>1</th>\n      <td>feature2</td>\n      <td>355</td>\n    </tr>\n    <tr>\n      <th>4</th>\n      <td>feature5</td>\n      <td>323</td>\n    </tr>\n    <tr>\n      <th>12</th>\n      <td>feature13</td>\n      <td>304</td>\n    </tr>\n    <tr>\n      <th>6</th>\n      <td>feature7</td>\n      <td>231</td>\n    </tr>\n    <tr>\n      <th>2</th>\n      <td>feature3</td>\n      <td>201</td>\n    </tr>\n    <tr>\n      <th>3</th>\n      <td>feature4</td>\n      <td>200</td>\n    </tr>\n    <tr>\n      <th>11</th>\n      <td>feature12</td>\n      <td>184</td>\n    </tr>\n    <tr>\n      <th>14</th>\n      <td>feature15</td>\n      <td>162</td>\n    </tr>\n    <tr>\n      <th>13</th>\n      <td>feature14</td>\n      <td>150</td>\n    </tr>\n    <tr>\n      <th>5</th>\n      <td>feature6</td>\n      <td>123</td>\n    </tr>\n    <tr>\n      <th>0</th>\n      <td>feature1</td>\n      <td>122</td>\n    </tr>\n    <tr>\n      <th>9</th>\n      <td>feature10</td>\n      <td>101</td>\n    </tr>\n    <tr>\n      <th>7</th>\n      <td>feature8</td>\n      <td>100</td>\n    </tr>\n    <tr>\n      <th>8</th>\n      <td>feature9</td>\n      <td>96</td>\n    </tr>\n    <tr>\n      <th>19</th>\n      <td>feature20</td>\n      <td>90</td>\n    </tr>\n    <tr>\n      <th>10</th>\n      <td>feature11</td>\n      <td>75</td>\n    </tr>\n    <tr>\n      <th>18</th>\n      <td>feature19</td>\n      <td>65</td>\n    </tr>\n    <tr>\n      <th>16</th>\n      <td>feature17</td>\n      <td>61</td>\n    </tr>\n    <tr>\n      <th>15</th>\n      <td>feature16</td>\n      <td>33</td>\n    </tr>\n    <tr>\n      <th>20</th>\n      <td>feature21</td>\n      <td>13</td>\n    </tr>\n    <tr>\n      <th>17</th>\n      <td>feature18</td>\n      <td>11</td>\n    </tr>\n  </tbody>\n</table>\n</div>"
     },
     "execution_count": 19,
     "metadata": {},
     "output_type": "execute_result"
    }
   ],
   "source": [
    "feats.sort_values('score', ascending=False, inplace=True)\n",
    "feats"
   ],
   "metadata": {
    "collapsed": false
   }
  },
  {
   "cell_type": "code",
   "execution_count": 29,
   "outputs": [
    {
     "name": "stdout",
     "output_type": "stream",
     "text": [
      "[50]\tvalid_0's binary_logloss: 0.430323\tvalid_0's auc: 0.865894\n",
      "[100]\tvalid_0's binary_logloss: 0.398707\tvalid_0's auc: 0.88555\n"
     ]
    },
    {
     "data": {
      "text/plain": "LGBMClassifier(colsample_bytree=0.8, max_depth=7, random_state=42,\n               scale_pos_weight=1.5, subsample=0.8)",
      "text/html": "<style>#sk-container-id-2 {color: black;background-color: white;}#sk-container-id-2 pre{padding: 0;}#sk-container-id-2 div.sk-toggleable {background-color: white;}#sk-container-id-2 label.sk-toggleable__label {cursor: pointer;display: block;width: 100%;margin-bottom: 0;padding: 0.3em;box-sizing: border-box;text-align: center;}#sk-container-id-2 label.sk-toggleable__label-arrow:before {content: \"▸\";float: left;margin-right: 0.25em;color: #696969;}#sk-container-id-2 label.sk-toggleable__label-arrow:hover:before {color: black;}#sk-container-id-2 div.sk-estimator:hover label.sk-toggleable__label-arrow:before {color: black;}#sk-container-id-2 div.sk-toggleable__content {max-height: 0;max-width: 0;overflow: hidden;text-align: left;background-color: #f0f8ff;}#sk-container-id-2 div.sk-toggleable__content pre {margin: 0.2em;color: black;border-radius: 0.25em;background-color: #f0f8ff;}#sk-container-id-2 input.sk-toggleable__control:checked~div.sk-toggleable__content {max-height: 200px;max-width: 100%;overflow: auto;}#sk-container-id-2 input.sk-toggleable__control:checked~label.sk-toggleable__label-arrow:before {content: \"▾\";}#sk-container-id-2 div.sk-estimator input.sk-toggleable__control:checked~label.sk-toggleable__label {background-color: #d4ebff;}#sk-container-id-2 div.sk-label input.sk-toggleable__control:checked~label.sk-toggleable__label {background-color: #d4ebff;}#sk-container-id-2 input.sk-hidden--visually {border: 0;clip: rect(1px 1px 1px 1px);clip: rect(1px, 1px, 1px, 1px);height: 1px;margin: -1px;overflow: hidden;padding: 0;position: absolute;width: 1px;}#sk-container-id-2 div.sk-estimator {font-family: monospace;background-color: #f0f8ff;border: 1px dotted black;border-radius: 0.25em;box-sizing: border-box;margin-bottom: 0.5em;}#sk-container-id-2 div.sk-estimator:hover {background-color: #d4ebff;}#sk-container-id-2 div.sk-parallel-item::after {content: \"\";width: 100%;border-bottom: 1px solid gray;flex-grow: 1;}#sk-container-id-2 div.sk-label:hover label.sk-toggleable__label {background-color: #d4ebff;}#sk-container-id-2 div.sk-serial::before {content: \"\";position: absolute;border-left: 1px solid gray;box-sizing: border-box;top: 0;bottom: 0;left: 50%;z-index: 0;}#sk-container-id-2 div.sk-serial {display: flex;flex-direction: column;align-items: center;background-color: white;padding-right: 0.2em;padding-left: 0.2em;position: relative;}#sk-container-id-2 div.sk-item {position: relative;z-index: 1;}#sk-container-id-2 div.sk-parallel {display: flex;align-items: stretch;justify-content: center;background-color: white;position: relative;}#sk-container-id-2 div.sk-item::before, #sk-container-id-2 div.sk-parallel-item::before {content: \"\";position: absolute;border-left: 1px solid gray;box-sizing: border-box;top: 0;bottom: 0;left: 50%;z-index: -1;}#sk-container-id-2 div.sk-parallel-item {display: flex;flex-direction: column;z-index: 1;position: relative;background-color: white;}#sk-container-id-2 div.sk-parallel-item:first-child::after {align-self: flex-end;width: 50%;}#sk-container-id-2 div.sk-parallel-item:last-child::after {align-self: flex-start;width: 50%;}#sk-container-id-2 div.sk-parallel-item:only-child::after {width: 0;}#sk-container-id-2 div.sk-dashed-wrapped {border: 1px dashed gray;margin: 0 0.4em 0.5em 0.4em;box-sizing: border-box;padding-bottom: 0.4em;background-color: white;}#sk-container-id-2 div.sk-label label {font-family: monospace;font-weight: bold;display: inline-block;line-height: 1.2em;}#sk-container-id-2 div.sk-label-container {text-align: center;}#sk-container-id-2 div.sk-container {/* jupyter's `normalize.less` sets `[hidden] { display: none; }` but bootstrap.min.css set `[hidden] { display: none !important; }` so we also need the `!important` here to be able to override the default hidden behavior on the sphinx rendered scikit-learn.org. See: https://github.com/scikit-learn/scikit-learn/issues/21755 */display: inline-block !important;position: relative;}#sk-container-id-2 div.sk-text-repr-fallback {display: none;}</style><div id=\"sk-container-id-2\" class=\"sk-top-container\"><div class=\"sk-text-repr-fallback\"><pre>LGBMClassifier(colsample_bytree=0.8, max_depth=7, random_state=42,\n               scale_pos_weight=1.5, subsample=0.8)</pre><b>In a Jupyter environment, please rerun this cell to show the HTML representation or trust the notebook. <br />On GitHub, the HTML representation is unable to render, please try loading this page with nbviewer.org.</b></div><div class=\"sk-container\" hidden><div class=\"sk-item\"><div class=\"sk-estimator sk-toggleable\"><input class=\"sk-toggleable__control sk-hidden--visually\" id=\"sk-estimator-id-2\" type=\"checkbox\" checked><label for=\"sk-estimator-id-2\" class=\"sk-toggleable__label sk-toggleable__label-arrow\">LGBMClassifier</label><div class=\"sk-toggleable__content\"><pre>LGBMClassifier(colsample_bytree=0.8, max_depth=7, random_state=42,\n               scale_pos_weight=1.5, subsample=0.8)</pre></div></div></div></div></div>"
     },
     "execution_count": 29,
     "metadata": {},
     "output_type": "execute_result"
    }
   ],
   "source": [
    "gmodel = LGBMClassifier(**models[0].get_params())\n",
    "gmodel.fit(new_df[FEATURES], df[TARGET],\n",
    "           eval_set=[(new_df[FEATURES],df[TARGET])],\n",
    "           eval_metric=[\"logloss\", \"auc\"],\n",
    "           categorical_feature=categorical,\n",
    "           verbose=50)"
   ],
   "metadata": {
    "collapsed": false
   }
  },
  {
   "cell_type": "code",
   "execution_count": 30,
   "outputs": [],
   "source": [
    "with open('../checkpoints/phase-1/prob-2/v1.pkl','wb') as file:\n",
    "    pickle.dump(gmodel, file)"
   ],
   "metadata": {
    "collapsed": false
   }
  },
  {
   "cell_type": "code",
   "execution_count": 17,
   "outputs": [
    {
     "data": {
      "text/plain": "['feature1',\n 'feature2',\n 'feature3',\n 'feature4',\n 'feature5',\n 'feature6',\n 'feature7',\n 'feature8',\n 'feature9',\n 'feature10',\n 'feature11',\n 'feature12',\n 'feature13',\n 'feature14',\n 'feature15',\n 'feature16',\n 'feature17',\n 'feature18',\n 'feature19',\n 'feature20']"
     },
     "execution_count": 17,
     "metadata": {},
     "output_type": "execute_result"
    }
   ],
   "source": [
    "FEATURES"
   ],
   "metadata": {
    "collapsed": false
   }
  },
  {
   "cell_type": "code",
   "execution_count": 42,
   "outputs": [
    {
     "name": "stdout",
     "output_type": "stream",
     "text": [
      "Collecting autogluon\r\n",
      "  Downloading autogluon-0.8.0-py3-none-any.whl (9.7 kB)\r\n",
      "Collecting autogluon.multimodal==0.8.0\r\n",
      "  Downloading autogluon.multimodal-0.8.0-py3-none-any.whl (372 kB)\r\n",
      "\u001B[2K     \u001B[90m━━━━━━━━━━━━━━━━━━━━━━━━━━━━━━━━━━━━━━━\u001B[0m \u001B[32m372.2/372.2 kB\u001B[0m \u001B[31m1.7 MB/s\u001B[0m eta \u001B[36m0:00:00\u001B[0ma \u001B[36m0:00:01\u001B[0m\r\n",
      "\u001B[?25hCollecting autogluon.core[all]==0.8.0\r\n",
      "  Downloading autogluon.core-0.8.0-py3-none-any.whl (224 kB)\r\n",
      "\u001B[2K     \u001B[90m━━━━━━━━━━━━━━━━━━━━━━━━━━━━━━━━━━━━━━\u001B[0m \u001B[32m224.2/224.2 kB\u001B[0m \u001B[31m10.8 MB/s\u001B[0m eta \u001B[36m0:00:00\u001B[0m\r\n",
      "\u001B[?25hCollecting autogluon.features==0.8.0\r\n",
      "  Downloading autogluon.features-0.8.0-py3-none-any.whl (61 kB)\r\n",
      "\u001B[2K     \u001B[90m━━━━━━━━━━━━━━━━━━━━━━━━━━━━━━━━━━━━━━━━\u001B[0m \u001B[32m61.9/61.9 kB\u001B[0m \u001B[31m10.3 MB/s\u001B[0m eta \u001B[36m0:00:00\u001B[0m\r\n",
      "\u001B[?25hCollecting autogluon.timeseries[all]==0.8.0\r\n",
      "  Downloading autogluon.timeseries-0.8.0-py3-none-any.whl (116 kB)\r\n",
      "\u001B[2K     \u001B[90m━━━━━━━━━━━━━━━━━━━━━━━━━━━━━━━━━━━━━━━\u001B[0m \u001B[32m116.2/116.2 kB\u001B[0m \u001B[31m9.1 MB/s\u001B[0m eta \u001B[36m0:00:00\u001B[0m\r\n",
      "\u001B[?25hCollecting autogluon.tabular[all]==0.8.0\r\n",
      "  Downloading autogluon.tabular-0.8.0-py3-none-any.whl (285 kB)\r\n",
      "\u001B[2K     \u001B[90m━━━━━━━━━━━━━━━━━━━━━━━━━━━━━━━━━━━━━━\u001B[0m \u001B[32m285.6/285.6 kB\u001B[0m \u001B[31m12.1 MB/s\u001B[0m eta \u001B[36m0:00:00\u001B[0m\r\n",
      "\u001B[?25hRequirement already satisfied: requests in /home/duclh3/.conda/envs/mlops/lib/python3.9/site-packages (from autogluon.core[all]==0.8.0->autogluon) (2.31.0)\r\n",
      "Requirement already satisfied: scipy<1.12,>=1.5.4 in /home/duclh3/.conda/envs/mlops/lib/python3.9/site-packages (from autogluon.core[all]==0.8.0->autogluon) (1.10.1)\r\n",
      "Collecting pandas<1.6,>=1.4.1\r\n",
      "  Downloading pandas-1.5.3-cp39-cp39-manylinux_2_17_x86_64.manylinux2014_x86_64.whl (12.2 MB)\r\n",
      "\u001B[2K     \u001B[90m━━━━━━━━━━━━━━━━━━━━━━━━━━━━━━━━━━━━━━━━\u001B[0m \u001B[32m12.2/12.2 MB\u001B[0m \u001B[31m3.0 MB/s\u001B[0m eta \u001B[36m0:00:00\u001B[0m00:01\u001B[0m00:01\u001B[0m\r\n",
      "\u001B[?25hRequirement already satisfied: matplotlib in /home/duclh3/.conda/envs/mlops/lib/python3.9/site-packages (from autogluon.core[all]==0.8.0->autogluon) (3.7.1)\r\n",
      "Collecting networkx<4,>=3.0\r\n",
      "  Downloading networkx-3.1-py3-none-any.whl (2.1 MB)\r\n",
      "\u001B[2K     \u001B[90m━━━━━━━━━━━━━━━━━━━━━━━━━━━━━━━━━━━━━━━━\u001B[0m \u001B[32m2.1/2.1 MB\u001B[0m \u001B[31m3.2 MB/s\u001B[0m eta \u001B[36m0:00:00\u001B[0ma \u001B[36m0:00:01\u001B[0m\r\n",
      "\u001B[?25hRequirement already satisfied: scikit-learn<1.3,>=1.0 in /home/duclh3/.conda/envs/mlops/lib/python3.9/site-packages (from autogluon.core[all]==0.8.0->autogluon) (1.2.2)\r\n",
      "Collecting boto3<2,>=1.10\r\n",
      "  Downloading boto3-1.26.160-py3-none-any.whl (135 kB)\r\n",
      "\u001B[2K     \u001B[90m━━━━━━━━━━━━━━━━━━━━━━━━━━━━━━━━━━━━━━━\u001B[0m \u001B[32m135.9/135.9 kB\u001B[0m \u001B[31m2.7 MB/s\u001B[0m eta \u001B[36m0:00:00\u001B[0ma \u001B[36m0:00:01\u001B[0m\r\n",
      "\u001B[?25hRequirement already satisfied: tqdm<5,>=4.38 in /home/duclh3/.conda/envs/mlops/lib/python3.9/site-packages (from autogluon.core[all]==0.8.0->autogluon) (4.65.0)\r\n",
      "Requirement already satisfied: numpy<1.27,>=1.21 in /home/duclh3/.conda/envs/mlops/lib/python3.9/site-packages (from autogluon.core[all]==0.8.0->autogluon) (1.24.3)\r\n",
      "Collecting autogluon.common==0.8.0\r\n",
      "  Downloading autogluon.common-0.8.0-py3-none-any.whl (61 kB)\r\n",
      "\u001B[2K     \u001B[90m━━━━━━━━━━━━━━━━━━━━━━━━━━━━━━━━━━━━━━━━\u001B[0m \u001B[32m61.1/61.1 kB\u001B[0m \u001B[31m3.8 MB/s\u001B[0m eta \u001B[36m0:00:00\u001B[0m\r\n",
      "\u001B[?25hCollecting hyperopt<0.2.8,>=0.2.7\r\n",
      "  Downloading hyperopt-0.2.7-py2.py3-none-any.whl (1.6 MB)\r\n",
      "\u001B[2K     \u001B[90m━━━━━━━━━━━━━━━━━━━━━━━━━━━━━━━━━━━━━━━━\u001B[0m \u001B[32m1.6/1.6 MB\u001B[0m \u001B[31m3.4 MB/s\u001B[0m eta \u001B[36m0:00:00\u001B[0m00:01\u001B[0m00:01\u001B[0m\r\n",
      "\u001B[?25hCollecting ray[default]<2.4,>=2.3\r\n",
      "  Downloading ray-2.3.1-cp39-cp39-manylinux2014_x86_64.whl (58.6 MB)\r\n",
      "\u001B[2K     \u001B[90m━━━━━━━━━━━━━━━━━━━━━━━━━━━━━━━━━━━━━━━━\u001B[0m \u001B[32m58.6/58.6 MB\u001B[0m \u001B[31m1.6 MB/s\u001B[0m eta \u001B[36m0:00:00\u001B[0m00:01\u001B[0m00:01\u001B[0mm\r\n",
      "\u001B[?25hCollecting transformers<4.27.0,>=4.23.0\r\n",
      "  Downloading transformers-4.26.1-py3-none-any.whl (6.3 MB)\r\n",
      "\u001B[2K     \u001B[90m━━━━━━━━━━━━━━━━━━━━━━━━━━━━━━━━━━━━━━━━\u001B[0m \u001B[32m6.3/6.3 MB\u001B[0m \u001B[31m2.2 MB/s\u001B[0m eta \u001B[36m0:00:00\u001B[0m00:01\u001B[0m00:01\u001B[0m\r\n",
      "\u001B[?25hCollecting openmim<0.4.0,>=0.3.7\r\n",
      "  Downloading openmim-0.3.7-py2.py3-none-any.whl (51 kB)\r\n",
      "\u001B[2K     \u001B[90m━━━━━━━━━━━━━━━━━━━━━━━━━━━━━━━━━━━━━━━━\u001B[0m \u001B[32m51.3/51.3 kB\u001B[0m \u001B[31m2.8 MB/s\u001B[0m eta \u001B[36m0:00:00\u001B[0m\r\n",
      "\u001B[?25hRequirement already satisfied: jsonschema<4.18,>=4.14 in /home/duclh3/.conda/envs/mlops/lib/python3.9/site-packages (from autogluon.multimodal==0.8.0->autogluon) (4.17.3)\r\n",
      "Requirement already satisfied: nltk<4.0.0,>=3.4.5 in /home/duclh3/.conda/envs/mlops/lib/python3.9/site-packages (from autogluon.multimodal==0.8.0->autogluon) (3.8.1)\r\n",
      "Collecting evaluate<0.4.0,>=0.2.2\r\n",
      "  Downloading evaluate-0.3.0-py3-none-any.whl (72 kB)\r\n",
      "\u001B[2K     \u001B[90m━━━━━━━━━━━━━━━━━━━━━━━━━━━━━━━━━━━━━━━━\u001B[0m \u001B[32m72.9/72.9 kB\u001B[0m \u001B[31m2.8 MB/s\u001B[0m eta \u001B[36m0:00:00\u001B[0m\r\n",
      "\u001B[?25hCollecting seqeval<1.3.0,>=1.2.2\r\n",
      "  Downloading seqeval-1.2.2.tar.gz (43 kB)\r\n",
      "\u001B[2K     \u001B[90m━━━━━━━━━━━━━━━━━━━━━━━━━━━━━━━━━━━━━━━━\u001B[0m \u001B[32m43.6/43.6 kB\u001B[0m \u001B[31m2.6 MB/s\u001B[0m eta \u001B[36m0:00:00\u001B[0m\r\n",
      "\u001B[?25h  Preparing metadata (setup.py) ... \u001B[?25ldone\r\n",
      "\u001B[?25hCollecting fairscale<0.4.14,>=0.4.5\r\n",
      "  Downloading fairscale-0.4.13.tar.gz (266 kB)\r\n",
      "\u001B[2K     \u001B[90m━━━━━━━━━━━━━━━━━━━━━━━━━━━━━━━━━━━━━━━\u001B[0m \u001B[32m266.3/266.3 kB\u001B[0m \u001B[31m2.4 MB/s\u001B[0m eta \u001B[36m0:00:00\u001B[0m00:01\u001B[0m00:01\u001B[0m\r\n",
      "\u001B[?25h  Installing build dependencies ... \u001B[?25ldone\r\n",
      "\u001B[?25h  Getting requirements to build wheel ... \u001B[?25ldone\r\n",
      "\u001B[?25h  Installing backend dependencies ... \u001B[?25ldone\r\n",
      "\u001B[?25h  Preparing metadata (pyproject.toml) ... \u001B[?25ldone\r\n",
      "\u001B[?25hCollecting timm<0.10.0,>=0.9.2\r\n",
      "  Downloading timm-0.9.2-py3-none-any.whl (2.2 MB)\r\n",
      "\u001B[2K     \u001B[90m━━━━━━━━━━━━━━━━━━━━━━━━━━━━━━━━━━━━━━━━\u001B[0m \u001B[32m2.2/2.2 MB\u001B[0m \u001B[31m1.9 MB/s\u001B[0m eta \u001B[36m0:00:00\u001B[0m00:01\u001B[0m00:01\u001B[0m\r\n",
      "\u001B[?25hCollecting PyMuPDF<=1.21.1\r\n",
      "  Downloading PyMuPDF-1.21.1-cp39-cp39-manylinux_2_17_x86_64.manylinux2014_x86_64.whl (14.0 MB)\r\n",
      "\u001B[2K     \u001B[90m━━━━━━━━━━━━━━━━━━━━━━━━━━━━━━━━━━━━━━━━\u001B[0m \u001B[32m14.0/14.0 MB\u001B[0m \u001B[31m1.5 MB/s\u001B[0m eta \u001B[36m0:00:00\u001B[0m00:01\u001B[0m00:01\u001B[0m\r\n",
      "\u001B[?25hCollecting sentencepiece<0.2.0,>=0.1.95\r\n",
      "  Downloading sentencepiece-0.1.99-cp39-cp39-manylinux_2_17_x86_64.manylinux2014_x86_64.whl (1.3 MB)\r\n",
      "\u001B[2K     \u001B[90m━━━━━━━━━━━━━━━━━━━━━━━━━━━━━━━━━━━━━━━━\u001B[0m \u001B[32m1.3/1.3 MB\u001B[0m \u001B[31m1.3 MB/s\u001B[0m eta \u001B[36m0:00:00\u001B[0ma \u001B[36m0:00:01\u001B[0m\r\n",
      "\u001B[?25hCollecting nptyping<2.5.0,>=1.4.4\r\n",
      "  Downloading nptyping-2.4.1-py3-none-any.whl (36 kB)\r\n",
      "Collecting torchmetrics<0.12.0,>=0.11.0\r\n",
      "  Downloading torchmetrics-0.11.4-py3-none-any.whl (519 kB)\r\n",
      "\u001B[2K     \u001B[90m━━━━━━━━━━━━━━━━━━━━━━━━━━━━━━━━━━━━━━━\u001B[0m \u001B[32m519.2/519.2 kB\u001B[0m \u001B[31m1.1 MB/s\u001B[0m eta \u001B[36m0:00:00\u001B[0m00:01\u001B[0m00:01\u001B[0m\r\n",
      "\u001B[?25hCollecting omegaconf<2.3.0,>=2.1.1\r\n",
      "  Downloading omegaconf-2.2.3-py3-none-any.whl (79 kB)\r\n",
      "\u001B[2K     \u001B[90m━━━━━━━━━━━━━━━━━━━━━━━━━━━━━━━━━━━━━━━━\u001B[0m \u001B[32m79.3/79.3 kB\u001B[0m \u001B[31m1.0 MB/s\u001B[0m eta \u001B[36m0:00:00\u001B[0ma \u001B[36m0:00:01\u001B[0m\r\n",
      "\u001B[?25hCollecting text-unidecode<1.4,>=1.3\r\n",
      "  Using cached text_unidecode-1.3-py2.py3-none-any.whl (78 kB)\r\n",
      "Collecting torch<1.14,>=1.9\r\n",
      "  Downloading torch-1.13.1-cp39-cp39-manylinux1_x86_64.whl (887.4 MB)\r\n",
      "\u001B[2K     \u001B[91m━━━━━━━━━━━━━━━━━━━━━━━━━━━━━━━━━━\u001B[0m\u001B[91m╸\u001B[0m\u001B[90m━━━━\u001B[0m \u001B[32m789.1/887.4 MB\u001B[0m \u001B[31m2.1 MB/s\u001B[0m eta \u001B[36m0:00:47\u001B[0m"
     ]
    }
   ],
   "source": [
    "!pip install autogluon"
   ],
   "metadata": {
    "collapsed": false
   }
  },
  {
   "cell_type": "code",
   "execution_count": 43,
   "outputs": [],
   "source": [],
   "metadata": {
    "collapsed": false
   }
  },
  {
   "cell_type": "code",
   "execution_count": 44,
   "outputs": [],
   "source": [],
   "metadata": {
    "collapsed": false
   }
  },
  {
   "cell_type": "code",
   "execution_count": 45,
   "outputs": [],
   "source": [
    "train_data"
   ],
   "metadata": {
    "collapsed": false
   }
  },
  {
   "cell_type": "code",
   "execution_count": null,
   "outputs": [],
   "source": [],
   "metadata": {
    "collapsed": false
   }
  }
 ],
 "metadata": {
  "kernelspec": {
   "display_name": "Python 3",
   "language": "python",
   "name": "python3"
  },
  "language_info": {
   "codemirror_mode": {
    "name": "ipython",
    "version": 2
   },
   "file_extension": ".py",
   "mimetype": "text/x-python",
   "name": "python",
   "nbconvert_exporter": "python",
   "pygments_lexer": "ipython2",
   "version": "2.7.6"
  }
 },
 "nbformat": 4,
 "nbformat_minor": 0
}
