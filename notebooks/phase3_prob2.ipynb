{
 "cells": [
  {
   "cell_type": "code",
   "execution_count": 3,
   "metadata": {},
   "outputs": [],
   "source": [
    "import os\n",
    "import sys\n",
    "module_path = os.path.abspath(os.path.join('..'))\n",
    "if module_path not in sys.path:\n",
    "    sys.path.append(module_path)"
   ]
  },
  {
   "cell_type": "code",
   "execution_count": 4,
   "metadata": {},
   "outputs": [],
   "source": [
    "\n",
    "import pandas as pd\n",
    "import warnings\n",
    "warnings.filterwarnings('ignore')\n",
    "import pickle\n",
    "from sklearn.model_selection import StratifiedKFold\n",
    "from sklearn.metrics import classification_report, roc_auc_score, f1_score, accuracy_score, multilabel_confusion_matrix, ConfusionMatrixDisplay, confusion_matrix\n",
    "from lightgbm import LGBMClassifier\n",
    "from catboost import CatBoostClassifier\n",
    "from src.data_processor.phase_3.prob2.v1 import  Phase3Prob2FeatureProcessor\n",
    "import numpy as np\n",
    "import gc\n",
    "from collections import Counter"
   ]
  },
  {
   "cell_type": "code",
   "execution_count": null,
   "metadata": {},
   "outputs": [],
   "source": [
    "feat_to_name = {'feature1': 'dur', 'feature2': 'proto', 'feature3': 'service', 'feature4': 'state', 'feature5': 'spkts', 'feature6': 'dpkts', 'feature7': 'sbytes', 'feature8': 'dbytes', 'feature9': 'sttl', 'feature10': 'dttl', 'feature11': 'sload', 'feature12': 'dload', 'feature13': 'sloss', 'feature14': 'dloss', 'feature15': 'sinpkt', 'feature16': 'dinpkt', 'feature17': 'sjit', 'feature18': 'djit', 'feature19': 'swin', 'feature20': 'stcpb', 'feature21': 'dtcpb', 'feature22': 'dwin', 'feature23': 'tcprtt', 'feature24': 'synack', 'feature25': 'ackdat', 'feature26': 'smean', 'feature27': 'dmean', 'feature28': 'trans_depth', 'feature29': 'response_body_len', 'feature30': 'ct_srv_src', 'feature31': 'ct_state_ttl', 'feature32': 'ct_dst_ltm', 'feature33': 'ct_src_dport_ltm', 'feature34': 'ct_dst_sport_ltm', 'feature35': 'ct_dst_src_ltm', 'feature36': 'is_ftp_login', 'feature37': 'ct_ftp_cmd', 'feature38': 'ct_flw_http_mthd', 'feature39': 'ct_src_ltm', 'feature40': 'ct_srv_dst', 'feature41': 'is_sm_ips_ports', 'label': 'label'}\n",
    "name_to_feat = {v:k for k, v in feat_to_name.items()}"
   ]
  },
  {
   "cell_type": "code",
   "execution_count": 5,
   "metadata": {},
   "outputs": [],
   "source": [
    "df = pd.read_parquet(\"F:/Data/MLOPS_2023/data_phase-3/phase-3/prob-2/raw_train.parquet\")\n",
    "print(df.shape)\n",
    "df.drop_duplicates(inplace=True)\n",
    "df.reset_index(inplace=True, drop=True)\n",
    "print(df.shape)\n",
    "df.drop_duplicates(df.columns[:-1], keep=False, inplace=True)\n",
    "print(df.shape)"
   ]
  },
  {
   "cell_type": "code",
   "execution_count": 9,
   "metadata": {},
   "outputs": [
    {
     "name": "stdout",
     "output_type": "stream",
     "text": [
      "Normal                   93000\n",
      "Other                    58871\n",
      "Exploits                 44525\n",
      "Denial of Service        40599\n",
      "Information Gathering    16664\n",
      "Malware                   4014\n",
      "Name: label, dtype: int64\n",
      "(257673, 45)\n",
      "Normal                   85722\n",
      "Exploits                 27434\n",
      "Denial of Service        24718\n",
      "Information Gathering    10686\n",
      "Other                     7599\n",
      "Malware                   3507\n",
      "Name: label, dtype: int64\n",
      "(159666, 42)\n",
      "(151246, 42)\n"
     ]
    }
   ],
   "source": [
    "df2 = pd.read_csv(\"F:/Data/MLOPS_2023/UNSW_NB15_training-set.csv\")\n",
    "df3 = pd.read_csv(\"F:/Data/MLOPS_2023/UNSW_NB15_testing-set.csv\")\n",
    "df2 = pd.concat([df2, df3])\n",
    "del df3\n",
    "gc.collect()\n",
    "df2['label'] = df2['attack_cat']\n",
    "mapping = {\n",
    "            \"Normal\": \"Normal\",\n",
    "            \"DoS\":\"Denial of Service\",\n",
    "            \"Reconnaissance\":\"Information Gathering\",\n",
    "            \"Analysis\": \"Information Gathering\",\n",
    "            \"Exploits\": \"Exploits\",\n",
    "            \"Shellcode\": \"Malware\",\n",
    "            \"Worms\": \"Malware\",\n",
    "            \"Backdoor\":\"Malware\",\n",
    "            \"Generic\": \"Other\",\n",
    "            \"Fuzzers\": \"Denial of Service\"\n",
    "            }\n",
    "df2[\"label\"] = df2[\"label\"].map(mapping)\n",
    "print(df2[\"label\"].value_counts(dropna=False))\n",
    "print(df2.shape)\n",
    "df2.drop(columns=['id','rate','attack_cat'],inplace=True)\n",
    "df2.drop_duplicates(inplace=True)\n",
    "print(df2[\"label\"].value_counts(dropna=False))\n",
    "print(df2.shape)\n",
    "df2.drop_duplicates(df2.columns[:-1], keep=False, inplace=True)\n",
    "print(df2.shape)\n",
    "df2.columns = [name_to_feat[c] for c in df2.columns]\n"
   ]
  },
  {
   "cell_type": "code",
   "execution_count": 11,
   "metadata": {},
   "outputs": [],
   "source": [
    "df3 = pd.concat([df, df2])\n",
    "df3.drop_duplicates(inplace=True)\n",
    "print(df3.shape)\n",
    "df3.reset_index(drop=True, inplace=True)"
   ]
  },
  {
   "cell_type": "code",
   "execution_count": 21,
   "metadata": {},
   "outputs": [],
   "source": [
    "HyperParameters={'objective': 'multiclass',\n",
    "                 'n_estimators':200,\n",
    "                 'learning_rate':0.7,\n",
    "                 'max_depth':32,\n",
    "                 'colsample_bytree':0.8,\n",
    "                 'subsample':0.8,\n",
    "                 'reg_alpha':1.2,\n",
    "                 'reg_lambda':10,\n",
    "                 'random_state':42}\n",
    "            \n",
    "hyper_parameters = HyperParameters.copy()"
   ]
  },
  {
   "cell_type": "code",
   "execution_count": 22,
   "metadata": {},
   "outputs": [
    {
     "name": "stdout",
     "output_type": "stream",
     "text": [
      "(121291, 41) (30323, 41)\n",
      "(121291,) (30323,)\n",
      "[50]\ttraining's multi_logloss: 0.21735\tvalid_1's multi_logloss: 0.33339\n",
      "[100]\ttraining's multi_logloss: 0.162366\tvalid_1's multi_logloss: 0.335468\n",
      "[150]\ttraining's multi_logloss: 0.12765\tvalid_1's multi_logloss: 0.340573\n",
      "[200]\ttraining's multi_logloss: 0.10338\tvalid_1's multi_logloss: 0.345302\n",
      "['Normal' 'Exploits' 'Normal' ... 'Information Gathering'\n",
      " 'Denial of Service' 'Exploits']\n",
      "fold 0 : 0.8709230617023381\n",
      "                       precision    recall  f1-score   support\n",
      "\n",
      "    Denial of Service       0.69      0.64      0.66      4505\n",
      "             Exploits       0.84      0.89      0.86      5109\n",
      "Information Gathering       0.86      0.83      0.84      1778\n",
      "              Malware       0.68      0.62      0.65       392\n",
      "               Normal       0.92      0.93      0.93     17082\n",
      "                Other       0.97      0.91      0.94      1457\n",
      "\n",
      "             accuracy                           0.87     30323\n",
      "            macro avg       0.83      0.80      0.81     30323\n",
      "         weighted avg       0.87      0.87      0.87     30323\n",
      "\n",
      "(121291, 41) (30323, 41)\n",
      "(121291,) (30323,)\n",
      "[50]\ttraining's multi_logloss: 0.215254\tvalid_1's multi_logloss: 0.330291\n",
      "[100]\ttraining's multi_logloss: 0.159186\tvalid_1's multi_logloss: 0.333879\n",
      "[150]\ttraining's multi_logloss: 0.124688\tvalid_1's multi_logloss: 0.340527\n",
      "[200]\ttraining's multi_logloss: 0.10186\tvalid_1's multi_logloss: 0.344714\n",
      "['Exploits' 'Other' 'Normal' ... 'Exploits' 'Denial of Service' 'Exploits']\n",
      "fold 1 : 0.8667348217524651\n",
      "                       precision    recall  f1-score   support\n",
      "\n",
      "    Denial of Service       0.68      0.63      0.66      4505\n",
      "             Exploits       0.83      0.88      0.86      5109\n",
      "Information Gathering       0.87      0.82      0.84      1778\n",
      "              Malware       0.64      0.56      0.60       392\n",
      "               Normal       0.92      0.93      0.92     17082\n",
      "                Other       0.96      0.93      0.94      1457\n",
      "\n",
      "             accuracy                           0.87     30323\n",
      "            macro avg       0.82      0.79      0.80     30323\n",
      "         weighted avg       0.86      0.87      0.87     30323\n",
      "\n",
      "(121291, 41) (30323, 41)\n",
      "(121291,) (30323,)\n",
      "[50]\ttraining's multi_logloss: 0.214902\tvalid_1's multi_logloss: 0.324303\n",
      "[100]\ttraining's multi_logloss: 0.159779\tvalid_1's multi_logloss: 0.32435\n",
      "[150]\ttraining's multi_logloss: 0.125166\tvalid_1's multi_logloss: 0.331193\n",
      "[200]\ttraining's multi_logloss: 0.102808\tvalid_1's multi_logloss: 0.334505\n",
      "['Exploits' 'Normal' 'Other' ... 'Exploits' 'Exploits' 'Exploits']\n",
      "fold 2 : 0.8751772581868549\n",
      "                       precision    recall  f1-score   support\n",
      "\n",
      "    Denial of Service       0.71      0.64      0.67      4504\n",
      "             Exploits       0.85      0.89      0.87      5108\n",
      "Information Gathering       0.88      0.85      0.86      1779\n",
      "              Malware       0.66      0.60      0.62       392\n",
      "               Normal       0.92      0.94      0.93     17082\n",
      "                Other       0.96      0.91      0.94      1458\n",
      "\n",
      "             accuracy                           0.88     30323\n",
      "            macro avg       0.83      0.80      0.82     30323\n",
      "         weighted avg       0.87      0.88      0.87     30323\n",
      "\n",
      "(121291, 41) (30323, 41)\n",
      "(121291,) (30323,)\n",
      "[50]\ttraining's multi_logloss: 0.24746\tvalid_1's multi_logloss: 0.363346\n",
      "[100]\ttraining's multi_logloss: 0.181877\tvalid_1's multi_logloss: 0.35822\n",
      "[150]\ttraining's multi_logloss: 0.139311\tvalid_1's multi_logloss: 0.355708\n",
      "[200]\ttraining's multi_logloss: 0.113103\tvalid_1's multi_logloss: 0.358567\n",
      "['Other' 'Normal' 'Normal' ... 'Normal' 'Exploits' 'Malware']\n",
      "fold 3 : 0.8731655838802229\n",
      "                       precision    recall  f1-score   support\n",
      "\n",
      "    Denial of Service       0.70      0.64      0.67      4504\n",
      "             Exploits       0.85      0.89      0.87      5108\n",
      "Information Gathering       0.88      0.85      0.86      1778\n",
      "              Malware       0.61      0.59      0.60       393\n",
      "               Normal       0.92      0.94      0.93     17082\n",
      "                Other       0.97      0.91      0.94      1458\n",
      "\n",
      "             accuracy                           0.87     30323\n",
      "            macro avg       0.82      0.80      0.81     30323\n",
      "         weighted avg       0.87      0.87      0.87     30323\n",
      "\n",
      "(121292, 41) (30322, 41)\n",
      "(121292,) (30322,)\n",
      "[50]\ttraining's multi_logloss: 0.219444\tvalid_1's multi_logloss: 0.331042\n",
      "[100]\ttraining's multi_logloss: 0.161322\tvalid_1's multi_logloss: 0.331198\n",
      "[150]\ttraining's multi_logloss: 0.127445\tvalid_1's multi_logloss: 0.337353\n",
      "[200]\ttraining's multi_logloss: 0.103613\tvalid_1's multi_logloss: 0.344349\n",
      "['Exploits' 'Normal' 'Other' ... 'Exploits' 'Exploits' 'Exploits']\n",
      "fold 4 : 0.8694677132115296\n",
      "                       precision    recall  f1-score   support\n",
      "\n",
      "    Denial of Service       0.69      0.62      0.65      4504\n",
      "             Exploits       0.84      0.89      0.87      5108\n",
      "Information Gathering       0.88      0.82      0.85      1778\n",
      "              Malware       0.65      0.57      0.60       392\n",
      "               Normal       0.91      0.94      0.93     17082\n",
      "                Other       0.96      0.91      0.93      1458\n",
      "\n",
      "             accuracy                           0.87     30322\n",
      "            macro avg       0.82      0.79      0.81     30322\n",
      "         weighted avg       0.87      0.87      0.87     30322\n",
      "\n",
      "0.8710936877466822 0.002920305474416972\n",
      "                       precision    recall  f1-score   support\n",
      "\n",
      "    Denial of Service       0.69      0.63      0.66     22522\n",
      "             Exploits       0.84      0.89      0.86     25542\n",
      "Information Gathering       0.87      0.83      0.85      8891\n",
      "              Malware       0.65      0.59      0.62      1961\n",
      "               Normal       0.92      0.94      0.93     85410\n",
      "                Other       0.96      0.91      0.94      7288\n",
      "\n",
      "             accuracy                           0.87    151614\n",
      "            macro avg       0.82      0.80      0.81    151614\n",
      "         weighted avg       0.87      0.87      0.87    151614\n",
      "\n",
      "0.8710936984711174\n"
     ]
    }
   ],
   "source": [
    "TARGET = 'label'\n",
    "processor = Phase3Prob2FeatureProcessor()\n",
    "new_df = processor.transform(df3)\n",
    "kfold = StratifiedKFold(n_splits=5, random_state=42, shuffle=True)\n",
    "FEATURES = processor.data_features['features']\n",
    "categorical = processor.data_features['categorical_features']\n",
    "models = []\n",
    "scores = []\n",
    "oofs = np.empty(df3.shape[0], dtype='object')\n",
    "    X_train = new_df.iloc[train_idx]\n",
    "    y_train = df3.iloc[train_idx][TARGET]\n",
    "    X_valid = new_df.iloc[valid_idx]\n",
    "    y_valid = df3.iloc[valid_idx][TARGET]\n",
    "\n",
    "\n",
    "    print(X_train.shape, X_valid.shape)\n",
    "    print(y_train.shape, y_valid.shape)\n",
    "    model = LGBMClassifier(**hyper_parameters)\n",
    "    model.fit(X_train, y_train,\n",
    "              eval_set=[(X_train, y_train), (X_valid, y_valid)],\n",
    "              eval_metric=[\"logloss\"],\n",
    "              categorical_feature=categorical,\n",
    "              \n",
    "              verbose=50)\n",
    "    # model = CatBoostClassifier(iterations=500, \n",
    "    #                            learning_rate=0.1, max_depth=8, \n",
    "    #                             random_state=42,eval_metric='Accuracy', thread_count=-1,\n",
    "    #                             )\n",
    "    # model.fit(X_train, y_train,\n",
    "    #           cat_features=categorical,\n",
    "    #           eval_set=[(X_train, y_train), (X_valid, y_valid)]\n",
    "    #           )\n",
    "    models.append(model)\n",
    "    y_pred = model.predict(X_valid)\n",
    "    print(y_pred)\n",
    "    oofs[valid_idx] = y_pred\n",
    "\n",
    "    print(f\"fold {i} : {accuracy_score(y_valid, y_pred)}\")\n",
    "    print(classification_report(y_valid, y_pred))\n",
    "    scores.append(accuracy_score(y_valid, y_pred))\n",
    "\n",
    "print(np.mean(scores), np.std(scores))\n",
    "print(classification_report(df3[TARGET], oofs))\n",
    "print(accuracy_score(df3[TARGET], oofs))"
   ]
  },
  {
   "cell_type": "code",
   "execution_count": 24,
   "metadata": {},
   "outputs": [
    {
     "name": "stdout",
     "output_type": "stream",
     "text": [
      "[50]\ttraining's multi_logloss: 0.233132\n",
      "[100]\ttraining's multi_logloss: 0.174968\n",
      "[150]\ttraining's multi_logloss: 0.139594\n",
      "[200]\ttraining's multi_logloss: 0.116658\n"
     ]
    }
   ],
   "source": [
    "gmodel = LGBMClassifier(**hyper_parameters)\n",
    "gmodel.fit(new_df, df3[TARGET],\n",
    "           eval_set=[(new_df,df3[TARGET])],\n",
    "           eval_metric=[\"logloss\"],\n",
    "           verbose=50)\n",
    "\n",
    "with open(f'../checkpoints/phase-3/prob-2/v1.pkl','wb') as file:\n",
    "    pickle.dump(gmodel, file)"
   ]
  },
  {
   "cell_type": "code",
   "execution_count": 25,
   "metadata": {},
   "outputs": [],
   "source": [
    "y_pred = gmodel.predict(new_df)"
   ]
  },
  {
   "cell_type": "code",
   "execution_count": 26,
   "metadata": {},
   "outputs": [
    {
     "name": "stdout",
     "output_type": "stream",
     "text": [
      "                       precision    recall  f1-score   support\n",
      "\n",
      "    Denial of Service       0.92      0.87      0.89     22522\n",
      "             Exploits       0.97      0.99      0.98     25542\n",
      "Information Gathering       0.99      0.99      0.99      8891\n",
      "              Malware       0.94      0.97      0.96      1961\n",
      "               Normal       0.97      0.98      0.98     85410\n",
      "                Other       0.99      1.00      0.99      7288\n",
      "\n",
      "             accuracy                           0.97    151614\n",
      "            macro avg       0.97      0.97      0.97    151614\n",
      "         weighted avg       0.97      0.97      0.97    151614\n",
      "\n"
     ]
    }
   ],
   "source": [
    "print(classification_report(df3[TARGET],y_pred))"
   ]
  },
  {
   "cell_type": "code",
   "execution_count": 18,
   "metadata": {},
   "outputs": [],
   "source": [
    "feats = pd.DataFrame({'feature':gmodel.feature_name_, 'score':gmodel.feature_importances_}).sort_values('score',ascending=False)"
   ]
  },
  {
   "cell_type": "code",
   "execution_count": 19,
   "metadata": {},
   "outputs": [
    {
     "data": {
      "text/plain": [
       "array(['feature26', 'feature7', 'feature1', 'feature11', 'feature21',\n",
       "       'feature20', 'feature18', 'feature25', 'feature24', 'feature23'],\n",
       "      dtype=object)"
      ]
     },
     "execution_count": 19,
     "metadata": {},
     "output_type": "execute_result"
    }
   ],
   "source": [
    "feats['feature'].values[:15]"
   ]
  }
 ],
 "metadata": {
  "kernelspec": {
   "display_name": "mlops",
   "language": "python",
   "name": "python3"
  },
  "language_info": {
   "codemirror_mode": {
    "name": "ipython",
    "version": 3
   },
   "file_extension": ".py",
   "mimetype": "text/x-python",
   "name": "python",
   "nbconvert_exporter": "python",
   "pygments_lexer": "ipython3",
   "version": "3.10.12"
  },
  "orig_nbformat": 4
 },
 "nbformat": 4,
 "nbformat_minor": 2
}
