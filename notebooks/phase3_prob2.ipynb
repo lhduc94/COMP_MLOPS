{
 "cells": [
  {
   "cell_type": "code",
   "execution_count": null,
   "metadata": {},
   "outputs": [],
   "source": [
    "import os\n",
    "import sys\n",
    "module_path = os.path.abspath(os.path.join('..'))\n",
    "if module_path not in sys.path:\n",
    "    sys.path.append(module_path)"
   ]
  },
  {
   "cell_type": "code",
   "execution_count": null,
   "metadata": {},
   "outputs": [],
   "source": [
    "\n",
    "import pandas as pd\n",
    "import warnings\n",
    "warnings.filterwarnings('ignore')\n",
    "import pickle\n",
    "from sklearn.model_selection import StratifiedKFold\n",
    "from sklearn.metrics import classification_report, roc_auc_score, f1_score, accuracy_score, multilabel_confusion_matrix, ConfusionMatrixDisplay, confusion_matrix\n",
    "from lightgbm import LGBMClassifier\n",
    "from catboost import CatBoostClassifier\n",
    "from src.data_processor.phase_3.prob2.v1 import  Phase3Prob2FeatureProcessor\n",
    "import numpy as np\n",
    "import gc\n",
    "from collections import Counter"
   ]
  },
  {
   "cell_type": "code",
   "execution_count": 3,
   "metadata": {},
   "outputs": [],
   "source": [
    "df = pd.read_parquet(\"F:/Data/MLOPS_2023/data_phase-3/phase-3/prob-2/raw_train.parquet\")"
   ]
  },
  {
   "cell_type": "code",
   "execution_count": 4,
   "metadata": {},
   "outputs": [
    {
     "name": "stdout",
     "output_type": "stream",
     "text": [
      "(92762, 42)\n"
     ]
    },
    {
     "data": {
      "text/plain": [
       "(65191, 42)"
      ]
     },
     "execution_count": 4,
     "metadata": {},
     "output_type": "execute_result"
    }
   ],
   "source": [
    "print(df.shape)\n",
    "df.drop_duplicates(inplace=True)\n",
    "df.reset_index(inplace=True, drop=True)\n",
    "df.shape"
   ]
  },
  {
   "cell_type": "code",
   "execution_count": 11,
   "metadata": {},
   "outputs": [
    {
     "data": {
      "text/plain": [
       "0"
      ]
     },
     "execution_count": 11,
     "metadata": {},
     "output_type": "execute_result"
    }
   ],
   "source": [
    "df2 = pd.read_csv(\"F:/Data/MLOPS_2023/UNSW_NB15_training-set.csv\")\n",
    "df3 = pd.read_csv(\"F:/Data/MLOPS_2023/UNSW_NB15_testing-set.csv\")\n",
    "df2 = pd.concat([df2, df3])\n",
    "del df3\n",
    "gc.collect()"
   ]
  },
  {
   "cell_type": "code",
   "execution_count": 12,
   "metadata": {},
   "outputs": [
    {
     "name": "stdout",
     "output_type": "stream",
     "text": [
      "Normal                   93000\n",
      "Other                    83117\n",
      "Exploits                 44525\n",
      "Information Gathering    16664\n",
      "Denial of Service        16353\n",
      "Malware                   4014\n",
      "Name: label, dtype: int64\n",
      "(257673, 45)\n",
      "Normal                   85722\n",
      "Other                    28281\n",
      "Exploits                 27434\n",
      "Information Gathering    10686\n",
      "Denial of Service         5500\n",
      "Malware                   3507\n",
      "Name: label, dtype: int64\n"
     ]
    },
    {
     "data": {
      "text/plain": [
       "(161130, 42)"
      ]
     },
     "execution_count": 12,
     "metadata": {},
     "output_type": "execute_result"
    }
   ],
   "source": [
    "df2['label'] = df2['attack_cat']\n",
    "mapping = {\n",
    "            \"Normal\": \"Normal\",\n",
    "            \"DoS\":\"Denial of Service\",\n",
    "            \"Reconnaissance\":\"Information Gathering\",\n",
    "            \"Analysis\": \"Information Gathering\",\n",
    "            \"Exploits\": \"Exploits\",\n",
    "            \"Shellcode\": \"Malware\",\n",
    "            \"Worms\": \"Malware\",\n",
    "            \"Backdoor\":\"Malware\",\n",
    "            \"Generic\": \"Other\",\n",
    "            \"Fuzzers\": \"Other\"\n",
    "            }\n",
    "df2[\"label\"] = df2[\"label\"].map(mapping)\n",
    "print(df2[\"label\"].value_counts(dropna=False))\n",
    "print(df2.shape)\n",
    "df2.drop(columns=['id','rate','attack_cat'],inplace=True)\n",
    "df2.drop_duplicates(inplace=True)\n",
    "print(df2[\"label\"].value_counts(dropna=False))\n",
    "df2.shape"
   ]
  },
  {
   "cell_type": "code",
   "execution_count": 14,
   "metadata": {},
   "outputs": [
    {
     "data": {
      "text/plain": [
       "Index(['feature1', 'feature2', 'feature3', 'feature4', 'feature5', 'feature6',\n",
       "       'feature7', 'feature8', 'feature9', 'feature10', 'feature11',\n",
       "       'feature12', 'feature13', 'feature14', 'feature15', 'feature16',\n",
       "       'feature17', 'feature18', 'feature19', 'feature20', 'feature21',\n",
       "       'feature22', 'feature23', 'feature24', 'feature25', 'feature26',\n",
       "       'feature27', 'feature28', 'feature29', 'feature30', 'feature31',\n",
       "       'feature32', 'feature33', 'feature34', 'feature35', 'feature36',\n",
       "       'feature37', 'feature38', 'feature39', 'feature40', 'feature41',\n",
       "       'label'],\n",
       "      dtype='object')"
      ]
     },
     "execution_count": 14,
     "metadata": {},
     "output_type": "execute_result"
    }
   ],
   "source": [
    "feat_to_name = {k:v for k,v in zip(df.columns,df2.columns)}\n",
    "name_to_feat = {k:v for k,v in zip(df2.columns, df.columns)}\n",
    "df2.columns = [name_to_feat[c] for c in df2.columns]\n",
    "df2.columns"
   ]
  },
  {
   "cell_type": "code",
   "execution_count": 15,
   "metadata": {},
   "outputs": [],
   "source": [
    "a = df.merge(df2, how='left', on=list(df2.columns[:-1]))"
   ]
  },
  {
   "cell_type": "code",
   "execution_count": 16,
   "metadata": {},
   "outputs": [],
   "source": [
    "# df2.drop_duplicates(df2.columns[:-1],keep=False, inplace=True)\n",
    "# print(df2[\"label\"].value_counts(dropna=False))\n",
    "# df2.shape"
   ]
  },
  {
   "cell_type": "code",
   "execution_count": 24,
   "metadata": {},
   "outputs": [
    {
     "data": {
      "text/plain": [
       "<pandas.core.groupby.generic.SeriesGroupBy object at 0x000001EBAAF93490>"
      ]
     },
     "execution_count": 24,
     "metadata": {},
     "output_type": "execute_result"
    }
   ],
   "source": [
    "df.groupby(list(df.columns[:-1]))"
   ]
  },
  {
   "cell_type": "code",
   "execution_count": 9,
   "metadata": {},
   "outputs": [],
   "source": [
    "df3 = pd.concat([df, df2])"
   ]
  },
  {
   "cell_type": "code",
   "execution_count": 11,
   "metadata": {},
   "outputs": [
    {
     "name": "stdout",
     "output_type": "stream",
     "text": [
      "(168446, 42)\n"
     ]
    }
   ],
   "source": [
    "df3.drop_duplicates(inplace=True)\n",
    "print(df3.shape)"
   ]
  },
  {
   "cell_type": "code",
   "execution_count": 12,
   "metadata": {},
   "outputs": [
    {
     "data": {
      "text/plain": [
       "133"
      ]
     },
     "execution_count": 12,
     "metadata": {},
     "output_type": "execute_result"
    }
   ],
   "source": [
    "df3['feature2'].nunique()"
   ]
  },
  {
   "cell_type": "code",
   "execution_count": 13,
   "metadata": {},
   "outputs": [],
   "source": [
    "HyperParameters={'objective': 'multiclass',\n",
    "                 'n_estimators':300,\n",
    "                 'learning_rate':0.1,\n",
    "                 'max_depth':32,\n",
    "                 'colsample_bytree':0.5,\n",
    "                 'subsample':0.8,\n",
    "                 'reg_alpha':1.2,\n",
    "                 'reg_lambda':10,\n",
    "                 'random_state':42}\n",
    "            \n",
    "hyper_parameters = HyperParameters.copy()"
   ]
  },
  {
   "cell_type": "code",
   "execution_count": 14,
   "metadata": {},
   "outputs": [
    {
     "name": "stdout",
     "output_type": "stream",
     "text": [
      "(52152, 41) (13039, 41)\n",
      "(52152,) (13039,)\n",
      "[50]\ttraining's multi_logloss: 0.379524\tvalid_1's multi_logloss: 0.412456\n",
      "[100]\ttraining's multi_logloss: 0.339806\tvalid_1's multi_logloss: 0.401632\n",
      "[150]\ttraining's multi_logloss: 0.314727\tvalid_1's multi_logloss: 0.400694\n",
      "fold 0 : 0.8179308229158678\n",
      "                       precision    recall  f1-score   support\n",
      "\n",
      "    Denial of Service       0.57      0.54      0.55      2063\n",
      "             Exploits       0.72      0.80      0.76      2314\n",
      "Information Gathering       0.81      0.67      0.73       901\n",
      "              Malware       0.64      0.30      0.41       264\n",
      "               Normal       0.91      0.94      0.92      6365\n",
      "                Other       0.99      0.93      0.96      1132\n",
      "\n",
      "             accuracy                           0.82     13039\n",
      "            macro avg       0.77      0.70      0.72     13039\n",
      "         weighted avg       0.82      0.82      0.81     13039\n",
      "\n",
      "(52153, 41) (13038, 41)\n",
      "(52153,) (13038,)\n",
      "[50]\ttraining's multi_logloss: 0.378797\tvalid_1's multi_logloss: 0.413281\n",
      "[100]\ttraining's multi_logloss: 0.338682\tvalid_1's multi_logloss: 0.401434\n",
      "[150]\ttraining's multi_logloss: 0.3141\tvalid_1's multi_logloss: 0.39925\n",
      "fold 1 : 0.8184537505752416\n",
      "                       precision    recall  f1-score   support\n",
      "\n",
      "    Denial of Service       0.58      0.51      0.54      2063\n",
      "             Exploits       0.70      0.83      0.76      2314\n",
      "Information Gathering       0.83      0.62      0.71       901\n",
      "              Malware       0.70      0.29      0.41       263\n",
      "               Normal       0.90      0.94      0.92      6365\n",
      "                Other       0.98      0.94      0.96      1132\n",
      "\n",
      "             accuracy                           0.82     13038\n",
      "            macro avg       0.78      0.69      0.72     13038\n",
      "         weighted avg       0.81      0.82      0.81     13038\n",
      "\n",
      "(52153, 41) (13038, 41)\n",
      "(52153,) (13038,)\n",
      "[50]\ttraining's multi_logloss: 0.377675\tvalid_1's multi_logloss: 0.418288\n",
      "[100]\ttraining's multi_logloss: 0.33748\tvalid_1's multi_logloss: 0.40772\n",
      "[150]\ttraining's multi_logloss: 0.312749\tvalid_1's multi_logloss: 0.406453\n",
      "[200]\ttraining's multi_logloss: 0.293567\tvalid_1's multi_logloss: 0.407239\n",
      "fold 2 : 0.8201411259395612\n",
      "                       precision    recall  f1-score   support\n",
      "\n",
      "    Denial of Service       0.57      0.54      0.56      2063\n",
      "             Exploits       0.72      0.82      0.77      2314\n",
      "Information Gathering       0.85      0.65      0.73       901\n",
      "              Malware       0.61      0.29      0.39       263\n",
      "               Normal       0.91      0.94      0.92      6365\n",
      "                Other       0.98      0.93      0.96      1132\n",
      "\n",
      "             accuracy                           0.82     13038\n",
      "            macro avg       0.77      0.69      0.72     13038\n",
      "         weighted avg       0.82      0.82      0.82     13038\n",
      "\n",
      "(52153, 41) (13038, 41)\n",
      "(52153,) (13038,)\n",
      "[50]\ttraining's multi_logloss: 0.377575\tvalid_1's multi_logloss: 0.418222\n",
      "[100]\ttraining's multi_logloss: 0.338286\tvalid_1's multi_logloss: 0.407683\n",
      "[150]\ttraining's multi_logloss: 0.313602\tvalid_1's multi_logloss: 0.406546\n",
      "fold 3 : 0.815232397606995\n",
      "                       precision    recall  f1-score   support\n",
      "\n",
      "    Denial of Service       0.56      0.54      0.55      2063\n",
      "             Exploits       0.71      0.83      0.76      2314\n",
      "Information Gathering       0.82      0.62      0.71       901\n",
      "              Malware       0.64      0.25      0.36       263\n",
      "               Normal       0.91      0.93      0.92      6365\n",
      "                Other       0.99      0.92      0.95      1132\n",
      "\n",
      "             accuracy                           0.82     13038\n",
      "            macro avg       0.77      0.68      0.71     13038\n",
      "         weighted avg       0.81      0.82      0.81     13038\n",
      "\n",
      "(52153, 41) (13038, 41)\n",
      "(52153,) (13038,)\n",
      "[50]\ttraining's multi_logloss: 0.376552\tvalid_1's multi_logloss: 0.420338\n",
      "[100]\ttraining's multi_logloss: 0.336552\tvalid_1's multi_logloss: 0.409489\n",
      "[150]\ttraining's multi_logloss: 0.312278\tvalid_1's multi_logloss: 0.409236\n",
      "fold 4 : 0.8176100628930818\n",
      "                       precision    recall  f1-score   support\n",
      "\n",
      "    Denial of Service       0.55      0.57      0.56      2063\n",
      "             Exploits       0.74      0.79      0.77      2314\n",
      "Information Gathering       0.84      0.64      0.72       901\n",
      "              Malware       0.61      0.33      0.42       264\n",
      "               Normal       0.91      0.94      0.92      6364\n",
      "                Other       0.99      0.91      0.95      1132\n",
      "\n",
      "             accuracy                           0.82     13038\n",
      "            macro avg       0.77      0.70      0.72     13038\n",
      "         weighted avg       0.82      0.82      0.82     13038\n",
      "\n",
      "0.8178736319861495 0.0015828407955988172\n",
      "                       precision    recall  f1-score   support\n",
      "\n",
      "    Denial of Service       0.57      0.54      0.55     10315\n",
      "             Exploits       0.72      0.81      0.76     11570\n",
      "Information Gathering       0.83      0.64      0.72      4505\n",
      "              Malware       0.64      0.29      0.40      1317\n",
      "               Normal       0.91      0.94      0.92     31824\n",
      "                Other       0.99      0.93      0.95      5660\n",
      "\n",
      "             accuracy                           0.82     65191\n",
      "            macro avg       0.77      0.69      0.72     65191\n",
      "         weighted avg       0.82      0.82      0.81     65191\n",
      "\n",
      "0.8178736328634321\n"
     ]
    }
   ],
   "source": [
    "TARGET = 'label'\n",
    "processor = Phase3Prob2FeatureProcessor()\n",
    "new_df = processor.transform(df)\n",
    "kfold = StratifiedKFold(n_splits=5, random_state=42, shuffle=True)\n",
    "FEATURES = processor.data_features['features']\n",
    "categorical = processor.data_features['categorical_features']\n",
    "# hyper_parameters['objective'] = 'multiclass'\n",
    "models = []\n",
    "scores = []\n",
    "oofs = np.empty(df.shape[0], dtype='object')\n",
    "for i, (train_idx, valid_idx) in enumerate(kfold.split(new_df, df[TARGET])):\n",
    "    # Xy_train = new_df.iloc[train_idx]\n",
    "    # Xy_train['label'] = df.iloc[train_idx][TARGET]\n",
    "    # Xy_train_NORMAL = Xy_train[Xy_train.label.apply(lambda x: x == 'Malware')]\n",
    "    # Xy_train_NORMAL_sample = Xy_train_NORMAL.sample(frac=1, random_state=42)\n",
    "    # # print(Xy_train_NORMAL_sample['label'].value_counts())\n",
    "    # Xy_train_OTHER = Xy_train[Xy_train.label.apply(lambda x: x != 'Malware')]\n",
    "    # Xy_train_sample = pd.concat([Xy_train_OTHER,Xy_train_NORMAL_sample])\n",
    "    # Xy_train_sample = Xy_train_sample.sample(frac=1,random_state=123)\n",
    "    # print(Xy_train_sample['label'].value_counts())\n",
    "\n",
    "    X_train = new_df.iloc[train_idx]\n",
    "    y_train = df.iloc[train_idx][TARGET]\n",
    "    X_valid = new_df.iloc[valid_idx]\n",
    "    y_valid = df.iloc[valid_idx][TARGET]\n",
    "\n",
    "\n",
    "    print(X_train.shape, X_valid.shape)\n",
    "    print(y_train.shape, y_valid.shape)\n",
    "    model = LGBMClassifier(**hyper_parameters)\n",
    "    model.fit(X_train, y_train,\n",
    "              eval_set=[(X_train, y_train), (X_valid, y_valid)],\n",
    "              eval_metric=[\"logloss\"],\n",
    "              categorical_feature=categorical,\n",
    "              early_stopping_rounds=50,\n",
    "              verbose=50)\n",
    "    # model = CatBoostClassifier(iterations=100, learning_rate=0.05, max_depth=7, subsample=0.8, random_state=42,eval_metric='AUC',class_weights={1:1.5,0:1})\n",
    "    # model.fit(X_train, y_train,\n",
    "    #           cat_features=categorical,\n",
    "    #           eval_set=[(X_train, y_train), (X_valid, y_valid)])\n",
    "    models.append(model)\n",
    "    y_pred = model.predict(X_valid)\n",
    "    oofs[valid_idx] = y_pred\n",
    "\n",
    "    print(f\"fold {i} : {accuracy_score(y_valid, y_pred)}\")\n",
    "    print(classification_report(y_valid, y_pred))\n",
    "    scores.append(accuracy_score(y_valid, y_pred))\n",
    "\n",
    "print(np.mean(scores), np.std(scores))\n",
    "print(classification_report(df[TARGET], oofs))\n",
    "print(accuracy_score(df[TARGET], oofs))"
   ]
  },
  {
   "cell_type": "code",
   "execution_count": 17,
   "metadata": {},
   "outputs": [
    {
     "data": {
      "text/plain": [
       "<sklearn.metrics._plot.confusion_matrix.ConfusionMatrixDisplay at 0x1424ec88ac0>"
      ]
     },
     "execution_count": 17,
     "metadata": {},
     "output_type": "execute_result"
    },
    {
     "data": {
      "image/png": "[encoded data removed]",
      "text/plain": [
       "<Figure size 1000x1000 with 2 Axes>"
      ]
     },
     "metadata": {},
     "output_type": "display_data"
    }
   ],
   "source": [
    "disp = ConfusionMatrixDisplay(confusion_matrix=confusion_matrix(df[TARGET],oofs,labels=models[0].classes_), display_labels=models[0].classes_)\n",
    "import matplotlib.pyplot as plt\n",
    "fig, ax = plt.subplots(1, 1, figsize=(10,10))\n",
    "disp.plot(ax=ax)"
   ]
  },
  {
   "cell_type": "code",
   "execution_count": 16,
   "metadata": {},
   "outputs": [
    {
     "name": "stdout",
     "output_type": "stream",
     "text": [
      "[50]\tvalid_0's multi_logloss: 0.38065\n",
      "[100]\tvalid_0's multi_logloss: 0.343761\n",
      "[150]\tvalid_0's multi_logloss: 0.322023\n",
      "[200]\tvalid_0's multi_logloss: 0.304625\n",
      "[250]\tvalid_0's multi_logloss: 0.29016\n",
      "[300]\tvalid_0's multi_logloss: 0.277982\n"
     ]
    }
   ],
   "source": [
    "gmodel = LGBMClassifier(**models[0].get_params())\n",
    "gmodel.fit(new_df[FEATURES], df[TARGET],\n",
    "           eval_set=[(new_df[FEATURES],df[TARGET])],\n",
    "           eval_metric=[\"logloss\"],\n",
    "           categorical_feature=categorical,\n",
    "           verbose=50)\n",
    "\n",
    "with open(f'../checkpoints/phase-3/prob-2/v1.pkl','wb') as file:\n",
    "    pickle.dump(gmodel, file)"
   ]
  },
  {
   "cell_type": "code",
   "execution_count": 27,
   "metadata": {},
   "outputs": [],
   "source": [
    "files = os.listdir(\"F:/Data/MLOPS_2023/data_phase-3/test-stage-1/prob-2/\")"
   ]
  },
  {
   "cell_type": "code",
   "execution_count": 28,
   "metadata": {},
   "outputs": [],
   "source": [
    "dfs = []\n",
    "for file in files:\n",
    "    x = pd.read_csv(\"F:/Data/MLOPS_2023/data_phase-3/test-stage-1/prob-2/\"+file)\n",
    "    dfs.append(x)"
   ]
  },
  {
   "cell_type": "code",
   "execution_count": 29,
   "metadata": {},
   "outputs": [],
   "source": [
    "dfs = pd.concat(dfs)"
   ]
  },
  {
   "cell_type": "code",
   "execution_count": 30,
   "metadata": {},
   "outputs": [
    {
     "name": "stdout",
     "output_type": "stream",
     "text": [
      "(112312, 41)\n",
      "(11048, 41)\n"
     ]
    }
   ],
   "source": [
    "print(dfs.shape)\n",
    "dfs.drop_duplicates(inplace=True)\n",
    "print(dfs.shape)"
   ]
  },
  {
   "cell_type": "code",
   "execution_count": 31,
   "metadata": {},
   "outputs": [],
   "source": []
  },
  {
   "cell_type": "code",
   "execution_count": 32,
   "metadata": {},
   "outputs": [],
   "source": [
    "dfs = dfs[df.columns[:-1]]"
   ]
  },
  {
   "cell_type": "code",
   "execution_count": 33,
   "metadata": {},
   "outputs": [
    {
     "data": {
      "text/plain": [
       "(11011, 41)"
      ]
     },
     "execution_count": 33,
     "metadata": {},
     "output_type": "execute_result"
    }
   ],
   "source": [
    "dfs.drop_duplicates().shape"
   ]
  },
  {
   "cell_type": "code",
   "execution_count": 48,
   "metadata": {},
   "outputs": [],
   "source": [
    "aaa = dfs.merge(df3, how='left', on = ['feature1', 'feature2', 'feature3', 'feature4', 'feature5', 'feature6',\n",
    "       'feature7', 'feature8', 'feature9', 'feature10', 'feature11',\n",
    "       'feature12', 'feature13', 'feature14', 'feature15', 'feature16',\n",
    "       'feature17', 'feature18', 'feature19', 'feature20', 'feature21',\n",
    "       'feature22', 'feature23', 'feature24', 'feature25', 'feature26',\n",
    "       'feature27', 'feature28', 'feature29', 'feature30', 'feature31',\n",
    "       'feature32', 'feature33', 'feature34', 'feature35', 'feature36',\n",
    "       'feature37', 'feature38', 'feature39', 'feature40', 'feature41'])"
   ]
  },
  {
   "cell_type": "code",
   "execution_count": 49,
   "metadata": {},
   "outputs": [
    {
     "data": {
      "text/plain": [
       "Normal                   4035\n",
       "Other                    3734\n",
       "Exploits                 2250\n",
       "Information Gathering    1483\n",
       "NaN                      1391\n",
       "Denial of Service        1301\n",
       "Malware                   989\n",
       "Name: label, dtype: int64"
      ]
     },
     "execution_count": 49,
     "metadata": {},
     "output_type": "execute_result"
    }
   ],
   "source": [
    "aaa['label'].value_counts(dropna=False)"
   ]
  },
  {
   "cell_type": "code",
   "execution_count": 50,
   "metadata": {},
   "outputs": [],
   "source": [
    "feat = processor.transform(aaa)"
   ]
  },
  {
   "cell_type": "code",
   "execution_count": 51,
   "metadata": {},
   "outputs": [],
   "source": [
    "aaa['predict'] = gmodel.predict(feat)"
   ]
  },
  {
   "cell_type": "code",
   "execution_count": 52,
   "metadata": {},
   "outputs": [
    {
     "data": {
      "text/plain": [
       "NaN                      1391\n",
       "Denial of Service        1129\n",
       "Other                    1110\n",
       "Information Gathering     956\n",
       "Malware                   825\n",
       "Exploits                  654\n",
       "Normal                    149\n",
       "Name: label, dtype: int64"
      ]
     },
     "execution_count": 52,
     "metadata": {},
     "output_type": "execute_result"
    }
   ],
   "source": [
    "aaa[aaa['label'] != aaa['predict']]['label'].value_counts(dropna=False)"
   ]
  },
  {
   "cell_type": "code",
   "execution_count": 53,
   "metadata": {},
   "outputs": [],
   "source": [
    "bbb = aaa.dropna(subset=['label'])"
   ]
  },
  {
   "cell_type": "code",
   "execution_count": 54,
   "metadata": {},
   "outputs": [
    {
     "name": "stdout",
     "output_type": "stream",
     "text": [
      "0.650304524361949\n"
     ]
    }
   ],
   "source": [
    "print(accuracy_score(bbb['label'],bbb['predict']))"
   ]
  },
  {
   "cell_type": "code",
   "execution_count": 55,
   "metadata": {},
   "outputs": [
    {
     "data": {
      "text/html": [
       "<div>\n",
       "<style scoped>\n",
       "    .dataframe tbody tr th:only-of-type {\n",
       "        vertical-align: middle;\n",
       "    }\n",
       "\n",
       "    .dataframe tbody tr th {\n",
       "        vertical-align: top;\n",
       "    }\n",
       "\n",
       "    .dataframe thead th {\n",
       "        text-align: right;\n",
       "    }\n",
       "</style>\n",
       "<table border=\"1\" class=\"dataframe\">\n",
       "  <thead>\n",
       "    <tr style=\"text-align: right;\">\n",
       "      <th></th>\n",
       "      <th>feature1</th>\n",
       "      <th>feature2</th>\n",
       "      <th>feature3</th>\n",
       "      <th>feature4</th>\n",
       "      <th>feature5</th>\n",
       "      <th>feature6</th>\n",
       "      <th>feature7</th>\n",
       "      <th>feature8</th>\n",
       "      <th>feature9</th>\n",
       "      <th>feature10</th>\n",
       "      <th>...</th>\n",
       "      <th>feature34</th>\n",
       "      <th>feature35</th>\n",
       "      <th>feature36</th>\n",
       "      <th>feature37</th>\n",
       "      <th>feature38</th>\n",
       "      <th>feature39</th>\n",
       "      <th>feature40</th>\n",
       "      <th>feature41</th>\n",
       "      <th>label</th>\n",
       "      <th>predict</th>\n",
       "    </tr>\n",
       "  </thead>\n",
       "  <tbody>\n",
       "    <tr>\n",
       "      <th>0</th>\n",
       "      <td>0.622748</td>\n",
       "      <td>tcp</td>\n",
       "      <td>-</td>\n",
       "      <td>FIN</td>\n",
       "      <td>10.0</td>\n",
       "      <td>8.0</td>\n",
       "      <td>564.0</td>\n",
       "      <td>354.0</td>\n",
       "      <td>254.0</td>\n",
       "      <td>252.0</td>\n",
       "      <td>...</td>\n",
       "      <td>1.0</td>\n",
       "      <td>1.0</td>\n",
       "      <td>0.0</td>\n",
       "      <td>0.0</td>\n",
       "      <td>0.0</td>\n",
       "      <td>1.0</td>\n",
       "      <td>1.0</td>\n",
       "      <td>0.0</td>\n",
       "      <td>Information Gathering</td>\n",
       "      <td>Information Gathering</td>\n",
       "    </tr>\n",
       "    <tr>\n",
       "      <th>1</th>\n",
       "      <td>0.419288</td>\n",
       "      <td>tcp</td>\n",
       "      <td>smtp</td>\n",
       "      <td>FIN</td>\n",
       "      <td>52.0</td>\n",
       "      <td>42.0</td>\n",
       "      <td>37372.0</td>\n",
       "      <td>3380.0</td>\n",
       "      <td>31.0</td>\n",
       "      <td>29.0</td>\n",
       "      <td>...</td>\n",
       "      <td>1.0</td>\n",
       "      <td>1.0</td>\n",
       "      <td>0.0</td>\n",
       "      <td>0.0</td>\n",
       "      <td>0.0</td>\n",
       "      <td>2.0</td>\n",
       "      <td>1.0</td>\n",
       "      <td>0.0</td>\n",
       "      <td>Normal</td>\n",
       "      <td>Normal</td>\n",
       "    </tr>\n",
       "    <tr>\n",
       "      <th>2</th>\n",
       "      <td>23.268108</td>\n",
       "      <td>sctp</td>\n",
       "      <td>-</td>\n",
       "      <td>CON</td>\n",
       "      <td>250.0</td>\n",
       "      <td>24.0</td>\n",
       "      <td>248562.0</td>\n",
       "      <td>1652.0</td>\n",
       "      <td>254.0</td>\n",
       "      <td>60.0</td>\n",
       "      <td>...</td>\n",
       "      <td>1.0</td>\n",
       "      <td>1.0</td>\n",
       "      <td>0.0</td>\n",
       "      <td>0.0</td>\n",
       "      <td>0.0</td>\n",
       "      <td>1.0</td>\n",
       "      <td>1.0</td>\n",
       "      <td>0.0</td>\n",
       "      <td>Denial of Service</td>\n",
       "      <td>Other</td>\n",
       "    </tr>\n",
       "    <tr>\n",
       "      <th>3</th>\n",
       "      <td>23.268108</td>\n",
       "      <td>sctp</td>\n",
       "      <td>-</td>\n",
       "      <td>CON</td>\n",
       "      <td>250.0</td>\n",
       "      <td>24.0</td>\n",
       "      <td>248562.0</td>\n",
       "      <td>1652.0</td>\n",
       "      <td>254.0</td>\n",
       "      <td>60.0</td>\n",
       "      <td>...</td>\n",
       "      <td>1.0</td>\n",
       "      <td>1.0</td>\n",
       "      <td>0.0</td>\n",
       "      <td>0.0</td>\n",
       "      <td>0.0</td>\n",
       "      <td>1.0</td>\n",
       "      <td>1.0</td>\n",
       "      <td>0.0</td>\n",
       "      <td>Exploits</td>\n",
       "      <td>Other</td>\n",
       "    </tr>\n",
       "    <tr>\n",
       "      <th>4</th>\n",
       "      <td>23.268108</td>\n",
       "      <td>sctp</td>\n",
       "      <td>-</td>\n",
       "      <td>CON</td>\n",
       "      <td>250.0</td>\n",
       "      <td>24.0</td>\n",
       "      <td>248562.0</td>\n",
       "      <td>1652.0</td>\n",
       "      <td>254.0</td>\n",
       "      <td>60.0</td>\n",
       "      <td>...</td>\n",
       "      <td>1.0</td>\n",
       "      <td>1.0</td>\n",
       "      <td>0.0</td>\n",
       "      <td>0.0</td>\n",
       "      <td>0.0</td>\n",
       "      <td>1.0</td>\n",
       "      <td>1.0</td>\n",
       "      <td>0.0</td>\n",
       "      <td>Information Gathering</td>\n",
       "      <td>Other</td>\n",
       "    </tr>\n",
       "    <tr>\n",
       "      <th>...</th>\n",
       "      <td>...</td>\n",
       "      <td>...</td>\n",
       "      <td>...</td>\n",
       "      <td>...</td>\n",
       "      <td>...</td>\n",
       "      <td>...</td>\n",
       "      <td>...</td>\n",
       "      <td>...</td>\n",
       "      <td>...</td>\n",
       "      <td>...</td>\n",
       "      <td>...</td>\n",
       "      <td>...</td>\n",
       "      <td>...</td>\n",
       "      <td>...</td>\n",
       "      <td>...</td>\n",
       "      <td>...</td>\n",
       "      <td>...</td>\n",
       "      <td>...</td>\n",
       "      <td>...</td>\n",
       "      <td>...</td>\n",
       "      <td>...</td>\n",
       "    </tr>\n",
       "    <tr>\n",
       "      <th>15173</th>\n",
       "      <td>6.036488</td>\n",
       "      <td>tcp</td>\n",
       "      <td>http</td>\n",
       "      <td>FIN</td>\n",
       "      <td>330.0</td>\n",
       "      <td>746.0</td>\n",
       "      <td>17642.0</td>\n",
       "      <td>1087890.0</td>\n",
       "      <td>31.0</td>\n",
       "      <td>29.0</td>\n",
       "      <td>...</td>\n",
       "      <td>1.0</td>\n",
       "      <td>1.0</td>\n",
       "      <td>0.0</td>\n",
       "      <td>0.0</td>\n",
       "      <td>1.0</td>\n",
       "      <td>3.0</td>\n",
       "      <td>4.0</td>\n",
       "      <td>0.0</td>\n",
       "      <td>Normal</td>\n",
       "      <td>Normal</td>\n",
       "    </tr>\n",
       "    <tr>\n",
       "      <th>15174</th>\n",
       "      <td>0.466848</td>\n",
       "      <td>tcp</td>\n",
       "      <td>-</td>\n",
       "      <td>FIN</td>\n",
       "      <td>10.0</td>\n",
       "      <td>6.0</td>\n",
       "      <td>612.0</td>\n",
       "      <td>268.0</td>\n",
       "      <td>254.0</td>\n",
       "      <td>252.0</td>\n",
       "      <td>...</td>\n",
       "      <td>1.0</td>\n",
       "      <td>4.0</td>\n",
       "      <td>0.0</td>\n",
       "      <td>0.0</td>\n",
       "      <td>0.0</td>\n",
       "      <td>2.0</td>\n",
       "      <td>6.0</td>\n",
       "      <td>0.0</td>\n",
       "      <td>Normal</td>\n",
       "      <td>Normal</td>\n",
       "    </tr>\n",
       "    <tr>\n",
       "      <th>15177</th>\n",
       "      <td>0.856529</td>\n",
       "      <td>tcp</td>\n",
       "      <td>ftp</td>\n",
       "      <td>FIN</td>\n",
       "      <td>52.0</td>\n",
       "      <td>54.0</td>\n",
       "      <td>2934.0</td>\n",
       "      <td>3742.0</td>\n",
       "      <td>31.0</td>\n",
       "      <td>29.0</td>\n",
       "      <td>...</td>\n",
       "      <td>1.0</td>\n",
       "      <td>4.0</td>\n",
       "      <td>1.0</td>\n",
       "      <td>1.0</td>\n",
       "      <td>0.0</td>\n",
       "      <td>13.0</td>\n",
       "      <td>1.0</td>\n",
       "      <td>0.0</td>\n",
       "      <td>Normal</td>\n",
       "      <td>Normal</td>\n",
       "    </tr>\n",
       "    <tr>\n",
       "      <th>15180</th>\n",
       "      <td>0.019142</td>\n",
       "      <td>tcp</td>\n",
       "      <td>-</td>\n",
       "      <td>FIN</td>\n",
       "      <td>16.0</td>\n",
       "      <td>18.0</td>\n",
       "      <td>1540.0</td>\n",
       "      <td>1644.0</td>\n",
       "      <td>31.0</td>\n",
       "      <td>29.0</td>\n",
       "      <td>...</td>\n",
       "      <td>1.0</td>\n",
       "      <td>6.0</td>\n",
       "      <td>0.0</td>\n",
       "      <td>0.0</td>\n",
       "      <td>0.0</td>\n",
       "      <td>11.0</td>\n",
       "      <td>6.0</td>\n",
       "      <td>0.0</td>\n",
       "      <td>Normal</td>\n",
       "      <td>Normal</td>\n",
       "    </tr>\n",
       "    <tr>\n",
       "      <th>15182</th>\n",
       "      <td>0.058705</td>\n",
       "      <td>tcp</td>\n",
       "      <td>-</td>\n",
       "      <td>FIN</td>\n",
       "      <td>86.0</td>\n",
       "      <td>84.0</td>\n",
       "      <td>4966.0</td>\n",
       "      <td>75496.0</td>\n",
       "      <td>31.0</td>\n",
       "      <td>29.0</td>\n",
       "      <td>...</td>\n",
       "      <td>1.0</td>\n",
       "      <td>1.0</td>\n",
       "      <td>0.0</td>\n",
       "      <td>0.0</td>\n",
       "      <td>0.0</td>\n",
       "      <td>7.0</td>\n",
       "      <td>3.0</td>\n",
       "      <td>0.0</td>\n",
       "      <td>Normal</td>\n",
       "      <td>Normal</td>\n",
       "    </tr>\n",
       "  </tbody>\n",
       "</table>\n",
       "<p>13792 rows × 43 columns</p>\n",
       "</div>"
      ],
      "text/plain": [
       "        feature1 feature2 feature3 feature4  feature5  feature6  feature7  \\\n",
       "0       0.622748      tcp        -      FIN      10.0       8.0     564.0   \n",
       "1       0.419288      tcp     smtp      FIN      52.0      42.0   37372.0   \n",
       "2      23.268108     sctp        -      CON     250.0      24.0  248562.0   \n",
       "3      23.268108     sctp        -      CON     250.0      24.0  248562.0   \n",
       "4      23.268108     sctp        -      CON     250.0      24.0  248562.0   \n",
       "...          ...      ...      ...      ...       ...       ...       ...   \n",
       "15173   6.036488      tcp     http      FIN     330.0     746.0   17642.0   \n",
       "15174   0.466848      tcp        -      FIN      10.0       6.0     612.0   \n",
       "15177   0.856529      tcp      ftp      FIN      52.0      54.0    2934.0   \n",
       "15180   0.019142      tcp        -      FIN      16.0      18.0    1540.0   \n",
       "15182   0.058705      tcp        -      FIN      86.0      84.0    4966.0   \n",
       "\n",
       "        feature8  feature9  feature10  ...  feature34  feature35  feature36  \\\n",
       "0          354.0     254.0      252.0  ...        1.0        1.0        0.0   \n",
       "1         3380.0      31.0       29.0  ...        1.0        1.0        0.0   \n",
       "2         1652.0     254.0       60.0  ...        1.0        1.0        0.0   \n",
       "3         1652.0     254.0       60.0  ...        1.0        1.0        0.0   \n",
       "4         1652.0     254.0       60.0  ...        1.0        1.0        0.0   \n",
       "...          ...       ...        ...  ...        ...        ...        ...   \n",
       "15173  1087890.0      31.0       29.0  ...        1.0        1.0        0.0   \n",
       "15174      268.0     254.0      252.0  ...        1.0        4.0        0.0   \n",
       "15177     3742.0      31.0       29.0  ...        1.0        4.0        1.0   \n",
       "15180     1644.0      31.0       29.0  ...        1.0        6.0        0.0   \n",
       "15182    75496.0      31.0       29.0  ...        1.0        1.0        0.0   \n",
       "\n",
       "       feature37  feature38  feature39  feature40  feature41  \\\n",
       "0            0.0        0.0        1.0        1.0        0.0   \n",
       "1            0.0        0.0        2.0        1.0        0.0   \n",
       "2            0.0        0.0        1.0        1.0        0.0   \n",
       "3            0.0        0.0        1.0        1.0        0.0   \n",
       "4            0.0        0.0        1.0        1.0        0.0   \n",
       "...          ...        ...        ...        ...        ...   \n",
       "15173        0.0        1.0        3.0        4.0        0.0   \n",
       "15174        0.0        0.0        2.0        6.0        0.0   \n",
       "15177        1.0        0.0       13.0        1.0        0.0   \n",
       "15180        0.0        0.0       11.0        6.0        0.0   \n",
       "15182        0.0        0.0        7.0        3.0        0.0   \n",
       "\n",
       "                       label                predict  \n",
       "0      Information Gathering  Information Gathering  \n",
       "1                     Normal                 Normal  \n",
       "2          Denial of Service                  Other  \n",
       "3                   Exploits                  Other  \n",
       "4      Information Gathering                  Other  \n",
       "...                      ...                    ...  \n",
       "15173                 Normal                 Normal  \n",
       "15174                 Normal                 Normal  \n",
       "15177                 Normal                 Normal  \n",
       "15180                 Normal                 Normal  \n",
       "15182                 Normal                 Normal  \n",
       "\n",
       "[13792 rows x 43 columns]"
      ]
     },
     "execution_count": 55,
     "metadata": {},
     "output_type": "execute_result"
    }
   ],
   "source": [
    "bbb"
   ]
  },
  {
   "cell_type": "code",
   "execution_count": null,
   "metadata": {},
   "outputs": [],
   "source": []
  }
 ],
 "metadata": {
  "kernelspec": {
   "display_name": "mlops",
   "language": "python",
   "name": "python3"
  },
  "language_info": {
   "codemirror_mode": {
    "name": "ipython",
    "version": 3
   },
   "file_extension": ".py",
   "mimetype": "text/x-python",
   "name": "python",
   "nbconvert_exporter": "python",
   "pygments_lexer": "ipython3",
   "version": "3.10.12"
  },
  "orig_nbformat": 4
 },
 "nbformat": 4,
 "nbformat_minor": 2
}
