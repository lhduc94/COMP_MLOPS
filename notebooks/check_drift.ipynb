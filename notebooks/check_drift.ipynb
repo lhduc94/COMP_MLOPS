{
 "cells": [
  {
   "cell_type": "code",
   "execution_count": 3,
   "metadata": {
    "collapsed": true
   },
   "outputs": [],
   "source": [
    "import pandas as pd\n",
    "import pickle"
   ]
  },
  {
   "cell_type": "code",
   "execution_count": 56,
   "outputs": [],
   "source": [
    "train_df = pd.read_parquet(\"/mnt/d/Data/MLOPS_2023/data_phase-1/phase-1/prob-2/raw_train.parquet\")"
   ],
   "metadata": {
    "collapsed": false
   }
  },
  {
   "cell_type": "code",
   "execution_count": 57,
   "outputs": [],
   "source": [
    "DIR = '/mnt/d/Data/MLOPS_2023/requests/phase-2/prob-2/'"
   ],
   "metadata": {
    "collapsed": false
   }
  },
  {
   "cell_type": "code",
   "execution_count": 58,
   "outputs": [],
   "source": [
    "import os"
   ],
   "metadata": {
    "collapsed": false
   }
  },
  {
   "cell_type": "code",
   "execution_count": 59,
   "outputs": [],
   "source": [
    "files = os.listdir(DIR)"
   ],
   "metadata": {
    "collapsed": false
   }
  },
  {
   "cell_type": "code",
   "execution_count": 60,
   "outputs": [],
   "source": [
    "import pickle\n",
    "files = os.listdir(DIR)\n",
    "list_file = []\n",
    "for i, file in enumerate(files):\n",
    "    with open(DIR+file, 'rb') as f:\n",
    "        df_test = pd.read_pickle(f)\n",
    "        list_file.append(df_test)"
   ],
   "metadata": {
    "collapsed": false
   }
  },
  {
   "cell_type": "code",
   "execution_count": 64,
   "outputs": [
    {
     "data": {
      "text/plain": "2.837466666666667"
     },
     "execution_count": 64,
     "metadata": {},
     "output_type": "execute_result"
    }
   ],
   "source": [
    "train_df['feature11'].mean()"
   ],
   "metadata": {
    "collapsed": false
   }
  },
  {
   "cell_type": "code",
   "execution_count": 65,
   "outputs": [
    {
     "name": "stdout",
     "output_type": "stream",
     "text": [
      "2.8087044534412957\n",
      "2.817351598173516\n",
      "2.8271479410269444\n",
      "2.8070086338242763\n",
      "2.877344145970603\n",
      "2.850381679389313\n",
      "2.8317283324885962\n",
      "2.8496698831894363\n",
      "2.8268839103869654\n",
      "2.8312945973496433\n",
      "2.860547667342799\n",
      "2.8383838383838382\n",
      "2.8401826484018264\n",
      "2.853807106598985\n",
      "2.832231825114387\n",
      "2.7892331132554595\n",
      "2.8383838383838382\n",
      "2.8634742740703008\n",
      "2.860547667342799\n",
      "2.834931852599697\n",
      "2.7950279046169455\n",
      "2.8317283324885962\n",
      "2.850381679389313\n",
      "2.8286004056795133\n",
      "2.8634742740703008\n",
      "2.8734177215189876\n",
      "2.8245436105476673\n",
      "2.8280222559433486\n",
      "2.82725430597771\n",
      "2.834931852599697\n",
      "2.8280222559433486\n",
      "2.7950279046169455\n",
      "2.8496698831894363\n",
      "2.8312945973496433\n",
      "3.3950729442426137\n",
      "2.8070086338242763\n",
      "2.8496698831894363\n",
      "2.8317283324885962\n",
      "2.849949135300102\n",
      "2.8401826484018264\n",
      "2.832231825114387\n",
      "3.3991971129766707\n",
      "2.853807106598985\n",
      "2.837222222222222\n",
      "2.8401826484018264\n",
      "2.8271479410269444\n",
      "3.3991971129766707\n",
      "2.8383838383838382\n",
      "2.817351598173516\n",
      "3.3950729442426137\n",
      "2.8402848423194302\n",
      "2.834931852599697\n",
      "2.8280222559433486\n",
      "2.8286004056795133\n",
      "2.8070086338242763\n",
      "2.8402848423194302\n",
      "3.3950729442426137\n",
      "2.8268839103869654\n",
      "2.850381679389313\n",
      "2.8245436105476673\n",
      "3.3950729442426137\n",
      "2.817351598173516\n",
      "2.8734177215189876\n",
      "2.8443204868154157\n",
      "2.849949135300102\n",
      "2.82725430597771\n",
      "3.3991971129766707\n",
      "2.8268839103869654\n",
      "2.8401826484018264\n",
      "2.8496698831894363\n",
      "2.82725430597771\n",
      "2.837222222222222\n",
      "2.8443204868154157\n",
      "2.8734177215189876\n",
      "2.834931852599697\n",
      "2.849949135300102\n",
      "2.8383838383838382\n",
      "2.832231825114387\n",
      "2.8312945973496433\n",
      "2.817351598173516\n",
      "2.82725430597771\n",
      "2.837222222222222\n",
      "2.8286004056795133\n",
      "2.8496698831894363\n",
      "2.877344145970603\n",
      "2.8087044534412957\n",
      "2.8496698831894363\n",
      "2.8402848423194302\n",
      "2.8271479410269444\n",
      "2.8634742740703008\n",
      "2.860547667342799\n",
      "3.3991971129766707\n",
      "2.7892331132554595\n",
      "2.877344145970603\n",
      "2.8087044534412957\n",
      "2.7950279046169455\n",
      "2.8443204868154157\n",
      "2.7892331132554595\n",
      "2.8245436105476673\n",
      "2.853807106598985\n"
     ]
    }
   ],
   "source": [
    "for df in list_file:\n",
    "    print(df['feature11'].mean())"
   ],
   "metadata": {
    "collapsed": false
   }
  },
  {
   "cell_type": "code",
   "execution_count": 66,
   "outputs": [
    {
     "name": "stdout",
     "output_type": "stream",
     "text": [
      "feature11\n"
     ]
    }
   ],
   "source": [
    "checklist = {}\n",
    "for col in train_df.columns:\n",
    "    if col  in [\"feature11\"]:\n",
    "        print(col)\n",
    "        mean_ = []\n",
    "        max_ = []\n",
    "        std_ = []\n",
    "        min_ = []\n",
    "        for i, df in enumerate(list_file):\n",
    "            mean_.append(df[col].mean())\n",
    "            max_.append(df[col].max())\n",
    "            std_.append(df[col].std())\n",
    "            min_.append(df[col].min())\n",
    "        checklist[col] = pd.DataFrame({'mean_':mean_, 'max_':max_, 'std_': std_, 'min_': min_})"
   ],
   "metadata": {
    "collapsed": false
   }
  },
  {
   "cell_type": "code",
   "execution_count": 55,
   "outputs": [
    {
     "data": {
      "text/plain": "            mean_          max_          std_           min_\n0    53360.639878  99701.000000  29717.982079    1038.000000\n1    51729.461148  99701.000000  30266.071136    1038.000000\n2    52441.235533  99701.000000  29805.294204    1038.000000\n3  -104264.576337 -71135.613107   9924.853278 -139042.462364\n4    50968.658068  99701.000000  29763.972517    1038.000000\n..            ...           ...           ...            ...\n95   52204.774962  99701.000000  29777.333585    1038.000000\n96   51402.005076  99701.000000  29960.872634    1038.000000\n97   51860.081851  99701.000000  29618.925916    1038.000000\n98   51583.500254  99701.000000  29314.478283    1038.000000\n99   52790.642532  99701.000000  30301.649673    1038.000000\n\n[100 rows x 4 columns]",
      "text/html": "<div>\n<style scoped>\n    .dataframe tbody tr th:only-of-type {\n        vertical-align: middle;\n    }\n\n    .dataframe tbody tr th {\n        vertical-align: top;\n    }\n\n    .dataframe thead th {\n        text-align: right;\n    }\n</style>\n<table border=\"1\" class=\"dataframe\">\n  <thead>\n    <tr style=\"text-align: right;\">\n      <th></th>\n      <th>mean_</th>\n      <th>max_</th>\n      <th>std_</th>\n      <th>min_</th>\n    </tr>\n  </thead>\n  <tbody>\n    <tr>\n      <th>0</th>\n      <td>53360.639878</td>\n      <td>99701.000000</td>\n      <td>29717.982079</td>\n      <td>1038.000000</td>\n    </tr>\n    <tr>\n      <th>1</th>\n      <td>51729.461148</td>\n      <td>99701.000000</td>\n      <td>30266.071136</td>\n      <td>1038.000000</td>\n    </tr>\n    <tr>\n      <th>2</th>\n      <td>52441.235533</td>\n      <td>99701.000000</td>\n      <td>29805.294204</td>\n      <td>1038.000000</td>\n    </tr>\n    <tr>\n      <th>3</th>\n      <td>-104264.576337</td>\n      <td>-71135.613107</td>\n      <td>9924.853278</td>\n      <td>-139042.462364</td>\n    </tr>\n    <tr>\n      <th>4</th>\n      <td>50968.658068</td>\n      <td>99701.000000</td>\n      <td>29763.972517</td>\n      <td>1038.000000</td>\n    </tr>\n    <tr>\n      <th>...</th>\n      <td>...</td>\n      <td>...</td>\n      <td>...</td>\n      <td>...</td>\n    </tr>\n    <tr>\n      <th>95</th>\n      <td>52204.774962</td>\n      <td>99701.000000</td>\n      <td>29777.333585</td>\n      <td>1038.000000</td>\n    </tr>\n    <tr>\n      <th>96</th>\n      <td>51402.005076</td>\n      <td>99701.000000</td>\n      <td>29960.872634</td>\n      <td>1038.000000</td>\n    </tr>\n    <tr>\n      <th>97</th>\n      <td>51860.081851</td>\n      <td>99701.000000</td>\n      <td>29618.925916</td>\n      <td>1038.000000</td>\n    </tr>\n    <tr>\n      <th>98</th>\n      <td>51583.500254</td>\n      <td>99701.000000</td>\n      <td>29314.478283</td>\n      <td>1038.000000</td>\n    </tr>\n    <tr>\n      <th>99</th>\n      <td>52790.642532</td>\n      <td>99701.000000</td>\n      <td>30301.649673</td>\n      <td>1038.000000</td>\n    </tr>\n  </tbody>\n</table>\n<p>100 rows × 4 columns</p>\n</div>"
     },
     "execution_count": 55,
     "metadata": {},
     "output_type": "execute_result"
    }
   ],
   "source": [
    "import matplotlib.pyplot as plt\n",
    "\n",
    "checklist['feature4']"
   ],
   "metadata": {
    "collapsed": false
   }
  },
  {
   "cell_type": "code",
   "execution_count": 69,
   "outputs": [
    {
     "data": {
      "text/plain": "Text(0.5, 1.0, 'Feature 11 - std_')"
     },
     "execution_count": 69,
     "metadata": {},
     "output_type": "execute_result"
    },
    {
     "data": {
      "text/plain": "<Figure size 640x480 with 1 Axes>",
      "image/png": "[encoded data removed]"
     },
     "metadata": {},
     "output_type": "display_data"
    }
   ],
   "source": [
    "plt.scatter(x=checklist['feature11']['std_'], y=checklist['feature11'].index)\n",
    "plt.title('Feature 11 - std_')"
   ],
   "metadata": {
    "collapsed": false
   }
  },
  {
   "cell_type": "code",
   "execution_count": 54,
   "outputs": [
    {
     "data": {
      "text/plain": "count    134201.000000\nmean      50721.258828\nstd       29578.182334\nmin        1106.000000\n25%       28152.000000\n50%       46222.000000\n75%       78045.000000\nmax       99791.000000\nName: feature4, dtype: float64"
     },
     "execution_count": 54,
     "metadata": {},
     "output_type": "execute_result"
    }
   ],
   "source": [
    "train_df['feature4'].describe()"
   ],
   "metadata": {
    "collapsed": false
   }
  },
  {
   "cell_type": "code",
   "execution_count": null,
   "outputs": [],
   "source": [],
   "metadata": {
    "collapsed": false
   }
  }
 ],
 "metadata": {
  "kernelspec": {
   "display_name": "Python 3",
   "language": "python",
   "name": "python3"
  },
  "language_info": {
   "codemirror_mode": {
    "name": "ipython",
    "version": 2
   },
   "file_extension": ".py",
   "mimetype": "text/x-python",
   "name": "python",
   "nbconvert_exporter": "python",
   "pygments_lexer": "ipython2",
   "version": "2.7.6"
  }
 },
 "nbformat": 4,
 "nbformat_minor": 0
}
