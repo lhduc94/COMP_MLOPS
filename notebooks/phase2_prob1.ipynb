{
 "cells": [
  {
   "cell_type": "code",
   "execution_count": 1,
   "metadata": {},
   "outputs": [],
   "source": [
    "import os\n",
    "import sys\n",
    "module_path = os.path.abspath(os.path.join('..'))\n",
    "if module_path not in sys.path:\n",
    "    sys.path.append(module_path)"
   ]
  },
  {
   "cell_type": "code",
   "execution_count": 2,
   "metadata": {
    "collapsed": true
   },
   "outputs": [],
   "source": [
    "\n",
    "import pandas as pd\n",
    "import warnings\n",
    "warnings.filterwarnings('ignore')\n",
    "import pickle\n",
    "from sklearn.model_selection import StratifiedKFold\n",
    "from sklearn.metrics import classification_report, roc_auc_score, f1_score\n",
    "from lightgbm import LGBMClassifier\n",
    "from catboost import CatBoostClassifier\n",
    "from src.data_processor.phase_2.prob1.v13 import  Phase2Prob1FeatureProcessor\n",
    "import numpy as np\n",
    "from collections import Counter"
   ]
  },
  {
   "cell_type": "code",
   "execution_count": 3,
   "metadata": {
    "collapsed": false
   },
   "outputs": [],
   "source": [
    "df = pd.read_parquet(\"D:/Data/MLOPS_2023/data_phase-2/phase-2/prob-1/raw_train.parquet\")"
   ]
  },
  {
   "cell_type": "code",
   "execution_count": 4,
   "metadata": {
    "collapsed": false
   },
   "outputs": [],
   "source": [
    "df.to_csv('output.csv',index=False)"
   ]
  },
  {
   "cell_type": "code",
   "execution_count": 5,
   "metadata": {},
   "outputs": [
    {
     "data": {
      "text/plain": [
       "feature3  feature4\n",
       "-         FIN         16786\n",
       "          INT         14111\n",
       "          CON          2273\n",
       "          REQ           872\n",
       "          RST            17\n",
       "          ECO             3\n",
       "          ACC             1\n",
       "dhcp      INT            25\n",
       "          CON            13\n",
       "dns       INT         13722\n",
       "          CON          2532\n",
       "          REQ            50\n",
       "          FIN            17\n",
       "ftp       FIN          1122\n",
       "          CON             6\n",
       "ftp-data  FIN          1259\n",
       "          CON             1\n",
       "http      FIN          6533\n",
       "          CON             6\n",
       "          RST             1\n",
       "irc       FIN             8\n",
       "pop3      FIN           377\n",
       "          CON             3\n",
       "radius    CON             3\n",
       "          INT             3\n",
       "smtp      FIN          1696\n",
       "          CON            11\n",
       "snmp      INT            21\n",
       "ssh       FIN           344\n",
       "          RST             2\n",
       "ssl       FIN            23\n",
       "Name: feature4, dtype: int64"
      ]
     },
     "execution_count": 5,
     "metadata": {},
     "output_type": "execute_result"
    }
   ],
   "source": [
    "df.groupby('feature3')['feature4'].value_counts()"
   ]
  },
  {
   "cell_type": "code",
   "execution_count": 6,
   "metadata": {
    "collapsed": false
   },
   "outputs": [
    {
     "data": {
      "text/plain": [
       "(43405, 42)"
      ]
     },
     "execution_count": 6,
     "metadata": {},
     "output_type": "execute_result"
    }
   ],
   "source": [
    "df.drop_duplicates(inplace=True)\n",
    "df.reset_index(inplace=True, drop=True)\n",
    "df.shape"
   ]
  },
  {
   "cell_type": "code",
   "execution_count": 7,
   "metadata": {
    "collapsed": false
   },
   "outputs": [
    {
     "data": {
      "text/plain": [
       "1    21787\n",
       "0    21480\n",
       "Name: label, dtype: int64"
      ]
     },
     "execution_count": 7,
     "metadata": {},
     "output_type": "execute_result"
    }
   ],
   "source": [
    "df.reset_index(drop=True, inplace=True)\n",
    "x = df.groupby(['feature1', 'feature2', 'feature3', 'feature4', 'feature5', 'feature6',\n",
    "                'feature7', 'feature8', 'feature9', 'feature10', 'feature11',\n",
    "                'feature12', 'feature13', 'feature14', 'feature15', 'feature16',\n",
    "                'feature17', 'feature18', 'feature19', 'feature20', 'feature21',\n",
    "                'feature22', 'feature23', 'feature24', 'feature25', 'feature26',\n",
    "                'feature27', 'feature28', 'feature29', 'feature30', 'feature31',\n",
    "                'feature32', 'feature33', 'feature34', 'feature35', 'feature36',\n",
    "                'feature37', 'feature38', 'feature39', 'feature40', 'feature41']).apply(lambda x : list(x.index)).reset_index()\n",
    "a = x[x[0].apply(lambda x: len(x)>1)]\n",
    "blacklist = []\n",
    "for t in a[0].values:\n",
    "    blacklist.extend(t)\n",
    "    index = np.array(blacklist)\n",
    "not_index = np.setdiff1d(df.index.to_numpy(), index)\n",
    "df = df.iloc[not_index]\n",
    "df.reset_index(inplace=True, drop=True)\n",
    "df['label'].value_counts()"
   ]
  },
  {
   "cell_type": "code",
   "execution_count": 20,
   "metadata": {
    "collapsed": false
   },
   "outputs": [],
   "source": [
    "HyperParameters={'n_estimators':100,\n",
    "                 'learning_rate':0.5,\n",
    "                 'max_depth':4,\n",
    "                 'colsample_bytree':0.7,\n",
    "                 'subsample':0.8,\n",
    "                 'reg_alpha':1,\n",
    "                 'reg_lambda':0,\n",
    "                 'random_state':42}\n",
    "\n",
    "hyper_parameters = HyperParameters.copy()"
   ]
  },
  {
   "cell_type": "code",
   "execution_count": 21,
   "metadata": {
    "collapsed": false
   },
   "outputs": [
    {
     "name": "stdout",
     "output_type": "stream",
     "text": [
      "(43267, 10) (43267, 42)\n",
      "[50]\ttraining's binary_logloss: 0.159929\ttraining's auc: 0.9839\tvalid_1's binary_logloss: 0.180547\tvalid_1's auc: 0.978375\n",
      "[100]\ttraining's binary_logloss: 0.14162\ttraining's auc: 0.987881\tvalid_1's binary_logloss: 0.177287\tvalid_1's auc: 0.979255\n",
      "fold 0 : 0.9792549586667384\n",
      "              precision    recall  f1-score   support\n",
      "\n",
      "           0       0.90      0.92      0.91      4296\n",
      "           1       0.92      0.90      0.91      4358\n",
      "\n",
      "    accuracy                           0.91      8654\n",
      "   macro avg       0.91      0.91      0.91      8654\n",
      "weighted avg       0.91      0.91      0.91      8654\n",
      "\n",
      "[50]\ttraining's binary_logloss: 0.158947\ttraining's auc: 0.984248\tvalid_1's binary_logloss: 0.177653\tvalid_1's auc: 0.979635\n",
      "[100]\ttraining's binary_logloss: 0.140055\ttraining's auc: 0.988199\tvalid_1's binary_logloss: 0.175479\tvalid_1's auc: 0.979988\n",
      "fold 1 : 0.9799877876086531\n",
      "              precision    recall  f1-score   support\n",
      "\n",
      "           0       0.91      0.91      0.91      4296\n",
      "           1       0.91      0.91      0.91      4358\n",
      "\n",
      "    accuracy                           0.91      8654\n",
      "   macro avg       0.91      0.91      0.91      8654\n",
      "weighted avg       0.91      0.91      0.91      8654\n",
      "\n",
      "[50]\ttraining's binary_logloss: 0.162032\ttraining's auc: 0.983606\tvalid_1's binary_logloss: 0.177386\tvalid_1's auc: 0.97953\n",
      "[100]\ttraining's binary_logloss: 0.14227\ttraining's auc: 0.987787\tvalid_1's binary_logloss: 0.171146\tvalid_1's auc: 0.980675\n",
      "fold 2 : 0.9806747869072606\n",
      "              precision    recall  f1-score   support\n",
      "\n",
      "           0       0.91      0.92      0.91      4296\n",
      "           1       0.92      0.91      0.91      4357\n",
      "\n",
      "    accuracy                           0.91      8653\n",
      "   macro avg       0.91      0.91      0.91      8653\n",
      "weighted avg       0.91      0.91      0.91      8653\n",
      "\n",
      "[50]\ttraining's binary_logloss: 0.161385\ttraining's auc: 0.983694\tvalid_1's binary_logloss: 0.171752\tvalid_1's auc: 0.980665\n",
      "[100]\ttraining's binary_logloss: 0.142294\ttraining's auc: 0.987788\tvalid_1's binary_logloss: 0.170467\tvalid_1's auc: 0.980882\n",
      "fold 3 : 0.98088215778116\n",
      "              precision    recall  f1-score   support\n",
      "\n",
      "           0       0.91      0.92      0.92      4296\n",
      "           1       0.92      0.91      0.92      4357\n",
      "\n",
      "    accuracy                           0.92      8653\n",
      "   macro avg       0.92      0.92      0.92      8653\n",
      "weighted avg       0.92      0.92      0.92      8653\n",
      "\n",
      "[50]\ttraining's binary_logloss: 0.159386\ttraining's auc: 0.983944\tvalid_1's binary_logloss: 0.183587\tvalid_1's auc: 0.977825\n",
      "[100]\ttraining's binary_logloss: 0.140884\ttraining's auc: 0.988049\tvalid_1's binary_logloss: 0.179115\tvalid_1's auc: 0.97914\n",
      "fold 4 : 0.9791403012083981\n",
      "              precision    recall  f1-score   support\n",
      "\n",
      "           0       0.91      0.92      0.91      4296\n",
      "           1       0.92      0.91      0.91      4357\n",
      "\n",
      "    accuracy                           0.91      8653\n",
      "   macro avg       0.91      0.91      0.91      8653\n",
      "weighted avg       0.91      0.91      0.91      8653\n",
      "\n",
      "0.979987998434442 0.0007109342130246021\n"
     ]
    }
   ],
   "source": [
    "processor = Phase2Prob1FeatureProcessor()\n",
    "new_df = processor.fit_transform(df)\n",
    "kfold = StratifiedKFold(n_splits=5, random_state=42, shuffle=True)\n",
    "FEATURES = processor.data_features['features']\n",
    "categorical = processor.data_features['categorical_features']\n",
    "TARGET = 'label'\n",
    "print(new_df.shape, df.shape)\n",
    "\n",
    "models = []\n",
    "scores = []\n",
    "oofs = np.zeros(df.shape[0])\n",
    "for i, (train_idx, valid_idx) in enumerate(kfold.split(new_df, df['label'])):\n",
    "    X_train = new_df.iloc[train_idx][FEATURES]\n",
    "    X_valid = new_df.iloc[valid_idx][FEATURES]\n",
    "    y_train = df.iloc[train_idx][TARGET]\n",
    "    y_valid = df.iloc[valid_idx][TARGET]\n",
    "    # model = LogisticRegression(max_iter=7000)\n",
    "    # model.fit(X_train, y_train)\n",
    "    model = LGBMClassifier(**hyper_parameters)\n",
    "    model.fit(X_train, y_train,\n",
    "              eval_set=[(X_train, y_train), (X_valid, y_valid)],\n",
    "              eval_metric=[\"logloss\", \"auc\"],\n",
    "              categorical_feature=categorical,\n",
    "              early_stopping_rounds=50,\n",
    "              verbose=50)\n",
    "    # model = CatBoostClassifier(iterations=100, learning_rate=0.05, max_depth=7, subsample=0.8, random_state=42,eval_metric='AUC',class_weights={1:1.5,0:1})\n",
    "    # model.fit(X_train, y_train,\n",
    "    #           cat_features=categorical,\n",
    "    #           eval_set=[(X_train, y_train), (X_valid, y_valid)])\n",
    "    models.append(model)\n",
    "    y_pred_proba = model.predict_proba(X_valid)[:,1]\n",
    "    y_pred = (y_pred_proba>0.5).astype(int)\n",
    "    oofs[valid_idx] = y_pred_proba\n",
    "\n",
    "    print(f\"fold {i} : {roc_auc_score(y_valid, y_pred_proba)}\")\n",
    "    print(classification_report(y_valid, y_pred))\n",
    "    scores.append(roc_auc_score(y_valid, y_pred_proba))\n",
    "\n",
    "print(np.mean(scores), np.std(scores))"
   ]
  },
  {
   "cell_type": "code",
   "execution_count": 22,
   "metadata": {},
   "outputs": [
    {
     "name": "stdout",
     "output_type": "stream",
     "text": [
      "0.9799519614698565\n",
      "0.9799533632249049\n"
     ]
    }
   ],
   "source": [
    "print(roc_auc_score(df['label'],oofs))\n",
    "oofs[df[df.feature3=='ssl'].index] = 1\n",
    "print(roc_auc_score(df['label'],oofs))"
   ]
  },
  {
   "cell_type": "code",
   "execution_count": 23,
   "metadata": {
    "collapsed": false
   },
   "outputs": [
    {
     "name": "stdout",
     "output_type": "stream",
     "text": [
      "[50]\tvalid_0's binary_logloss: 0.171369\tvalid_0's auc: 0.982318\n",
      "[100]\tvalid_0's binary_logloss: 0.149677\tvalid_0's auc: 0.986651\n"
     ]
    }
   ],
   "source": [
    "gmodel = LGBMClassifier(**models[0].get_params())\n",
    "gmodel.fit(new_df[FEATURES], df[TARGET],\n",
    "           eval_set=[(new_df[FEATURES],df[TARGET])],\n",
    "           eval_metric=[\"logloss\", \"auc\"],\n",
    "           categorical_feature=categorical,\n",
    "           verbose=50)\n",
    "\n",
    "with open(f'../checkpoints/phase-2/prob-1/v1.pkl','wb') as file:\n",
    "    pickle.dump(gmodel, file)"
   ]
  },
  {
   "cell_type": "code",
   "execution_count": 24,
   "metadata": {
    "collapsed": false
   },
   "outputs": [],
   "source": [
    "var_count_train = Counter(df['feature3'])\n",
    "with open(f'../checkpoints/phase-2/prob-1/var_count.pkl', 'wb') as file:\n",
    "    pickle.dump(var_count_train, file)"
   ]
  },
  {
   "cell_type": "code",
   "execution_count": 25,
   "metadata": {},
   "outputs": [],
   "source": [
    "feats = pd.DataFrame({'feature':gmodel.feature_name_, 'score':gmodel.feature_importances_}).sort_values('score',ascending=False)"
   ]
  },
  {
   "cell_type": "code",
   "execution_count": 26,
   "metadata": {},
   "outputs": [
    {
     "data": {
      "text/plain": [
       "array(['feature7', 'feature26', 'feature23', 'feature11', 'feature40',\n",
       "       'feature35', 'feature15', 'feature27', 'feature9', 'feature29'],\n",
       "      dtype=object)"
      ]
     },
     "execution_count": 26,
     "metadata": {},
     "output_type": "execute_result"
    }
   ],
   "source": [
    "feats.feature[:10].values"
   ]
  },
  {
   "cell_type": "code",
   "execution_count": null,
   "metadata": {},
   "outputs": [],
   "source": []
  }
 ],
 "metadata": {
  "kernelspec": {
   "display_name": "Python 3",
   "language": "python",
   "name": "python3"
  },
  "language_info": {
   "codemirror_mode": {
    "name": "ipython",
    "version": 3
   },
   "file_extension": ".py",
   "mimetype": "text/x-python",
   "name": "python",
   "nbconvert_exporter": "python",
   "pygments_lexer": "ipython3",
   "version": "3.9.16"
  }
 },
 "nbformat": 4,
 "nbformat_minor": 0
}
