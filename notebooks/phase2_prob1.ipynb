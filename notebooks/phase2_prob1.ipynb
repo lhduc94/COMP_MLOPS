{
 "cells": [
  {
   "cell_type": "code",
   "execution_count": 1,
   "metadata": {
    "collapsed": true
   },
   "outputs": [],
   "source": [
    "import os\n",
    "import sys\n",
    "module_path = os.path.abspath(os.path.join('..'))\n",
    "if module_path not in sys.path:\n",
    "    sys.path.append(module_path)\n",
    "import pandas as pd\n",
    "import warnings\n",
    "warnings.filterwarnings('ignore')\n",
    "import pickle\n",
    "from sklearn.model_selection import StratifiedKFold\n",
    "from sklearn.metrics import classification_report, roc_auc_score, f1_score\n",
    "from lightgbm import LGBMClassifier\n",
    "from catboost import CatBoostClassifier\n",
    "from src.data_processor.phase_2.prob1.v1 import  Phase2Prob1FeatureProcessor\n",
    "import numpy as np"
   ]
  },
  {
   "cell_type": "code",
   "execution_count": 2,
   "metadata": {
    "collapsed": false
   },
   "outputs": [],
   "source": [
    "df = pd.read_parquet(\"D:/Data/MLOPS_2023/data_phase-2/phase-2/prob-1/raw_train.parquet\")"
   ]
  },
  {
   "cell_type": "code",
   "execution_count": 3,
   "metadata": {
    "collapsed": false
   },
   "outputs": [
    {
     "data": {
      "text/plain": [
       "(61841, 42)"
      ]
     },
     "execution_count": 3,
     "metadata": {},
     "output_type": "execute_result"
    }
   ],
   "source": [
    "df.shape"
   ]
  },
  {
   "cell_type": "code",
   "execution_count": 4,
   "metadata": {
    "collapsed": false
   },
   "outputs": [
    {
     "data": {
      "text/plain": [
       "(43405, 42)"
      ]
     },
     "execution_count": 4,
     "metadata": {},
     "output_type": "execute_result"
    }
   ],
   "source": [
    "df.drop_duplicates(inplace=True)\n",
    "df.reset_index(inplace=True, drop=True)\n",
    "df.shape"
   ]
  },
  {
   "cell_type": "code",
   "execution_count": 5,
   "metadata": {
    "collapsed": false
   },
   "outputs": [
    {
     "data": {
      "text/plain": [
       "label\n",
       "1    21787\n",
       "0    21480\n",
       "Name: count, dtype: int64"
      ]
     },
     "execution_count": 5,
     "metadata": {},
     "output_type": "execute_result"
    }
   ],
   "source": [
    "df.reset_index(drop=True, inplace=True)\n",
    "x = df.groupby(['feature1', 'feature2', 'feature3', 'feature4', 'feature5', 'feature6',\n",
    "                'feature7', 'feature8', 'feature9', 'feature10', 'feature11',\n",
    "                'feature12', 'feature13', 'feature14', 'feature15', 'feature16',\n",
    "                'feature17', 'feature18', 'feature19', 'feature20', 'feature21',\n",
    "                'feature22', 'feature23', 'feature24', 'feature25', 'feature26',\n",
    "                'feature27', 'feature28', 'feature29', 'feature30', 'feature31',\n",
    "                'feature32', 'feature33', 'feature34', 'feature35', 'feature36',\n",
    "                'feature37', 'feature38', 'feature39', 'feature40', 'feature41']).apply(lambda x : list(x.index)).reset_index()\n",
    "a = x[x[0].apply(lambda x: len(x)>1)]\n",
    "blacklist = []\n",
    "for t in a[0].values:\n",
    "    blacklist.extend(t)\n",
    "    index = np.array(blacklist)\n",
    "not_index = np.setdiff1d(df.index.to_numpy(), index)\n",
    "df = df.iloc[not_index]\n",
    "df.reset_index(inplace=True, drop=True)\n",
    "df['label'].value_counts()"
   ]
  },
  {
   "cell_type": "code",
   "execution_count": 6,
   "metadata": {
    "collapsed": false
   },
   "outputs": [
    {
     "data": {
      "text/plain": [
       "(43267, 42)"
      ]
     },
     "execution_count": 6,
     "metadata": {},
     "output_type": "execute_result"
    }
   ],
   "source": [
    "df.shape"
   ]
  },
  {
   "cell_type": "code",
   "execution_count": 11,
   "metadata": {
    "collapsed": false
   },
   "outputs": [],
   "source": [
    "HyperParameters={'n_estimators':100,\n",
    "                 'learning_rate':0.1,\n",
    "                 'max_depth':7,\n",
    "                 'colsample_bytree':0.5,\n",
    "                 'subsample':0.8,\n",
    "                 'reg_alpha':8,\n",
    "                 'reg_lambda':32,\n",
    "                 'random_state':42}\n",
    "hyper_parameters = HyperParameters.copy()"
   ]
  },
  {
   "cell_type": "code",
   "execution_count": 12,
   "metadata": {
    "collapsed": false
   },
   "outputs": [
    {
     "name": "stdout",
     "output_type": "stream",
     "text": [
      "(43267, 41) (43267, 42)\n",
      "[50]\ttraining's binary_logloss: 0.182853\ttraining's auc: 0.9809\tvalid_1's binary_logloss: 0.190932\tvalid_1's auc: 0.978629\n",
      "[100]\ttraining's binary_logloss: 0.162769\ttraining's auc: 0.983826\tvalid_1's binary_logloss: 0.174908\tvalid_1's auc: 0.980656\n",
      "fold 0 : 0.9806564138983679\n",
      "              precision    recall  f1-score   support\n",
      "\n",
      "           0       0.90      0.93      0.91      4296\n",
      "           1       0.93      0.90      0.91      4358\n",
      "\n",
      "    accuracy                           0.91      8654\n",
      "   macro avg       0.91      0.91      0.91      8654\n",
      "weighted avg       0.91      0.91      0.91      8654\n",
      "\n",
      "[50]\ttraining's binary_logloss: 0.18396\ttraining's auc: 0.980831\tvalid_1's binary_logloss: 0.189307\tvalid_1's auc: 0.979284\n",
      "[100]\ttraining's binary_logloss: 0.164492\ttraining's auc: 0.983579\tvalid_1's binary_logloss: 0.174081\tvalid_1's auc: 0.980771\n",
      "fold 1 : 0.9807708783606509\n",
      "              precision    recall  f1-score   support\n",
      "\n",
      "           0       0.91      0.91      0.91      4296\n",
      "           1       0.91      0.91      0.91      4358\n",
      "\n",
      "    accuracy                           0.91      8654\n",
      "   macro avg       0.91      0.91      0.91      8654\n",
      "weighted avg       0.91      0.91      0.91      8654\n",
      "\n",
      "[50]\ttraining's binary_logloss: 0.18354\ttraining's auc: 0.98087\tvalid_1's binary_logloss: 0.187887\tvalid_1's auc: 0.979574\n",
      "[100]\ttraining's binary_logloss: 0.163726\ttraining's auc: 0.983691\tvalid_1's binary_logloss: 0.172797\tvalid_1's auc: 0.9811\n",
      "fold 2 : 0.9811001603190824\n",
      "              precision    recall  f1-score   support\n",
      "\n",
      "           0       0.90      0.93      0.91      4296\n",
      "           1       0.93      0.90      0.91      4357\n",
      "\n",
      "    accuracy                           0.91      8653\n",
      "   macro avg       0.91      0.91      0.91      8653\n",
      "weighted avg       0.91      0.91      0.91      8653\n",
      "\n",
      "[50]\ttraining's binary_logloss: 0.185062\ttraining's auc: 0.980509\tvalid_1's binary_logloss: 0.184504\tvalid_1's auc: 0.980022\n",
      "[100]\ttraining's binary_logloss: 0.165174\ttraining's auc: 0.98336\tvalid_1's binary_logloss: 0.169733\tvalid_1's auc: 0.98163\n",
      "fold 3 : 0.9816304345967811\n",
      "              precision    recall  f1-score   support\n",
      "\n",
      "           0       0.91      0.93      0.92      4296\n",
      "           1       0.93      0.91      0.92      4357\n",
      "\n",
      "    accuracy                           0.92      8653\n",
      "   macro avg       0.92      0.92      0.92      8653\n",
      "weighted avg       0.92      0.92      0.92      8653\n",
      "\n",
      "[50]\ttraining's binary_logloss: 0.182637\ttraining's auc: 0.981138\tvalid_1's binary_logloss: 0.194026\tvalid_1's auc: 0.977163\n",
      "[100]\ttraining's binary_logloss: 0.162493\ttraining's auc: 0.98391\tvalid_1's binary_logloss: 0.178876\tvalid_1's auc: 0.979272\n",
      "fold 4 : 0.9792723422015301\n",
      "              precision    recall  f1-score   support\n",
      "\n",
      "           0       0.90      0.92      0.91      4296\n",
      "           1       0.92      0.90      0.91      4357\n",
      "\n",
      "    accuracy                           0.91      8653\n",
      "   macro avg       0.91      0.91      0.91      8653\n",
      "weighted avg       0.91      0.91      0.91      8653\n",
      "\n",
      "0.9806860458752826 0.0007835806929306107\n"
     ]
    }
   ],
   "source": [
    "processor = Phase2Prob1FeatureProcessor()\n",
    "new_df = processor.fit_transform(df)\n",
    "\n",
    "kfold = StratifiedKFold(n_splits=5, random_state=42, shuffle=True)\n",
    "FEATURES = processor.data_features['features']\n",
    "categorical = processor.data_features['categorical_features']\n",
    "TARGET = 'label'\n",
    "\n",
    "print(new_df.shape, df.shape)\n",
    "\n",
    "models = []\n",
    "scores = []\n",
    "oofs = np.zeros(df.shape[0])\n",
    "for i, (train_idx, valid_idx) in enumerate(kfold.split(new_df, df['label'])):\n",
    "    X_train = new_df.iloc[train_idx][FEATURES]\n",
    "    X_valid = new_df.iloc[valid_idx][FEATURES]\n",
    "    y_train = df.iloc[train_idx][TARGET]\n",
    "    y_valid = df.iloc[valid_idx][TARGET]\n",
    "    model = LGBMClassifier(**hyper_parameters)\n",
    "    model.fit(X_train, y_train,\n",
    "              eval_set=[(X_train, y_train), (X_valid, y_valid)],\n",
    "              eval_metric=[\"logloss\", \"auc\"],\n",
    "              categorical_feature=categorical,\n",
    "              early_stopping_rounds=50,\n",
    "              verbose=50)\n",
    "    # model = CatBoostClassifier(iterations=100, learning_rate=0.05, max_depth=7, subsample=0.8, random_state=42,eval_metric='AUC',class_weights={1:1.5,0:1})\n",
    "    # model.fit(X_train, y_train,\n",
    "    #           cat_features=categorical,\n",
    "    #           eval_set=[(X_train, y_train), (X_valid, y_valid)])\n",
    "    models.append(model)\n",
    "    y_pred_proba = model.predict_proba(X_valid)[:,1]\n",
    "    y_pred = (y_pred_proba>0.5).astype(int)\n",
    "    oofs[valid_idx] = y_pred_proba\n",
    "\n",
    "    print(f\"fold {i} : {roc_auc_score(y_valid, y_pred_proba)}\")\n",
    "    print(classification_report(y_valid, y_pred))\n",
    "    scores.append(roc_auc_score(y_valid, y_pred_proba))\n",
    "\n",
    "print(np.mean(scores), np.std(scores))"
   ]
  },
  {
   "cell_type": "code",
   "execution_count": 9,
   "metadata": {
    "collapsed": false
   },
   "outputs": [],
   "source": []
  },
  {
   "cell_type": "code",
   "execution_count": 11,
   "metadata": {
    "collapsed": false
   },
   "outputs": [
    {
     "name": "stdout",
     "output_type": "stream",
     "text": [
      "[50]\tvalid_0's binary_logloss: 0.182324\tvalid_0's auc: 0.980857\n",
      "[100]\tvalid_0's binary_logloss: 0.163481\tvalid_0's auc: 0.983564\n"
     ]
    }
   ],
   "source": [
    "gmodel = LGBMClassifier(**models[0].get_params())\n",
    "gmodel.fit(new_df[FEATURES], df[TARGET],\n",
    "           eval_set=[(new_df[FEATURES],df[TARGET])],\n",
    "           eval_metric=[\"logloss\", \"auc\"],\n",
    "           categorical_feature=categorical,\n",
    "           verbose=50)\n",
    "\n",
    "with open(f'../checkpoints/phase-2/prob-1/v1.pkl','wb') as file:\n",
    "    pickle.dump(gmodel, file)"
   ]
  },
  {
   "cell_type": "code",
   "execution_count": 12,
   "metadata": {
    "collapsed": false
   },
   "outputs": [
    {
     "data": {
      "text/html": [
       "<div>\n",
       "<style scoped>\n",
       "    .dataframe tbody tr th:only-of-type {\n",
       "        vertical-align: middle;\n",
       "    }\n",
       "\n",
       "    .dataframe tbody tr th {\n",
       "        vertical-align: top;\n",
       "    }\n",
       "\n",
       "    .dataframe thead th {\n",
       "        text-align: right;\n",
       "    }\n",
       "</style>\n",
       "<table border=\"1\" class=\"dataframe\">\n",
       "  <thead>\n",
       "    <tr style=\"text-align: right;\">\n",
       "      <th></th>\n",
       "      <th>feature</th>\n",
       "      <th>score</th>\n",
       "    </tr>\n",
       "  </thead>\n",
       "  <tbody>\n",
       "    <tr>\n",
       "      <th>25</th>\n",
       "      <td>feature26</td>\n",
       "      <td>302</td>\n",
       "    </tr>\n",
       "    <tr>\n",
       "      <th>6</th>\n",
       "      <td>feature7</td>\n",
       "      <td>283</td>\n",
       "    </tr>\n",
       "    <tr>\n",
       "      <th>10</th>\n",
       "      <td>feature11</td>\n",
       "      <td>165</td>\n",
       "    </tr>\n",
       "    <tr>\n",
       "      <th>34</th>\n",
       "      <td>feature35</td>\n",
       "      <td>133</td>\n",
       "    </tr>\n",
       "    <tr>\n",
       "      <th>26</th>\n",
       "      <td>feature27</td>\n",
       "      <td>128</td>\n",
       "    </tr>\n",
       "    <tr>\n",
       "      <th>7</th>\n",
       "      <td>feature8</td>\n",
       "      <td>114</td>\n",
       "    </tr>\n",
       "    <tr>\n",
       "      <th>29</th>\n",
       "      <td>feature30</td>\n",
       "      <td>99</td>\n",
       "    </tr>\n",
       "    <tr>\n",
       "      <th>14</th>\n",
       "      <td>feature15</td>\n",
       "      <td>96</td>\n",
       "    </tr>\n",
       "    <tr>\n",
       "      <th>11</th>\n",
       "      <td>feature12</td>\n",
       "      <td>92</td>\n",
       "    </tr>\n",
       "    <tr>\n",
       "      <th>0</th>\n",
       "      <td>feature1</td>\n",
       "      <td>83</td>\n",
       "    </tr>\n",
       "    <tr>\n",
       "      <th>22</th>\n",
       "      <td>feature23</td>\n",
       "      <td>78</td>\n",
       "    </tr>\n",
       "    <tr>\n",
       "      <th>30</th>\n",
       "      <td>feature31</td>\n",
       "      <td>71</td>\n",
       "    </tr>\n",
       "    <tr>\n",
       "      <th>39</th>\n",
       "      <td>feature40</td>\n",
       "      <td>67</td>\n",
       "    </tr>\n",
       "    <tr>\n",
       "      <th>1</th>\n",
       "      <td>feature2</td>\n",
       "      <td>66</td>\n",
       "    </tr>\n",
       "    <tr>\n",
       "      <th>12</th>\n",
       "      <td>feature13</td>\n",
       "      <td>64</td>\n",
       "    </tr>\n",
       "    <tr>\n",
       "      <th>23</th>\n",
       "      <td>feature24</td>\n",
       "      <td>61</td>\n",
       "    </tr>\n",
       "    <tr>\n",
       "      <th>8</th>\n",
       "      <td>feature9</td>\n",
       "      <td>60</td>\n",
       "    </tr>\n",
       "    <tr>\n",
       "      <th>2</th>\n",
       "      <td>feature3</td>\n",
       "      <td>60</td>\n",
       "    </tr>\n",
       "    <tr>\n",
       "      <th>16</th>\n",
       "      <td>feature17</td>\n",
       "      <td>59</td>\n",
       "    </tr>\n",
       "    <tr>\n",
       "      <th>4</th>\n",
       "      <td>feature5</td>\n",
       "      <td>59</td>\n",
       "    </tr>\n",
       "    <tr>\n",
       "      <th>24</th>\n",
       "      <td>feature25</td>\n",
       "      <td>58</td>\n",
       "    </tr>\n",
       "    <tr>\n",
       "      <th>15</th>\n",
       "      <td>feature16</td>\n",
       "      <td>56</td>\n",
       "    </tr>\n",
       "    <tr>\n",
       "      <th>19</th>\n",
       "      <td>feature20</td>\n",
       "      <td>53</td>\n",
       "    </tr>\n",
       "    <tr>\n",
       "      <th>38</th>\n",
       "      <td>feature39</td>\n",
       "      <td>53</td>\n",
       "    </tr>\n",
       "    <tr>\n",
       "      <th>31</th>\n",
       "      <td>feature32</td>\n",
       "      <td>50</td>\n",
       "    </tr>\n",
       "    <tr>\n",
       "      <th>13</th>\n",
       "      <td>feature14</td>\n",
       "      <td>48</td>\n",
       "    </tr>\n",
       "    <tr>\n",
       "      <th>33</th>\n",
       "      <td>feature34</td>\n",
       "      <td>47</td>\n",
       "    </tr>\n",
       "    <tr>\n",
       "      <th>17</th>\n",
       "      <td>feature18</td>\n",
       "      <td>46</td>\n",
       "    </tr>\n",
       "    <tr>\n",
       "      <th>28</th>\n",
       "      <td>feature29</td>\n",
       "      <td>45</td>\n",
       "    </tr>\n",
       "    <tr>\n",
       "      <th>5</th>\n",
       "      <td>feature6</td>\n",
       "      <td>32</td>\n",
       "    </tr>\n",
       "    <tr>\n",
       "      <th>9</th>\n",
       "      <td>feature10</td>\n",
       "      <td>27</td>\n",
       "    </tr>\n",
       "    <tr>\n",
       "      <th>32</th>\n",
       "      <td>feature33</td>\n",
       "      <td>27</td>\n",
       "    </tr>\n",
       "    <tr>\n",
       "      <th>37</th>\n",
       "      <td>feature38</td>\n",
       "      <td>25</td>\n",
       "    </tr>\n",
       "    <tr>\n",
       "      <th>20</th>\n",
       "      <td>feature21</td>\n",
       "      <td>25</td>\n",
       "    </tr>\n",
       "    <tr>\n",
       "      <th>27</th>\n",
       "      <td>feature28</td>\n",
       "      <td>13</td>\n",
       "    </tr>\n",
       "    <tr>\n",
       "      <th>3</th>\n",
       "      <td>feature4</td>\n",
       "      <td>12</td>\n",
       "    </tr>\n",
       "    <tr>\n",
       "      <th>18</th>\n",
       "      <td>feature19</td>\n",
       "      <td>5</td>\n",
       "    </tr>\n",
       "    <tr>\n",
       "      <th>40</th>\n",
       "      <td>feature41</td>\n",
       "      <td>2</td>\n",
       "    </tr>\n",
       "    <tr>\n",
       "      <th>35</th>\n",
       "      <td>feature36</td>\n",
       "      <td>0</td>\n",
       "    </tr>\n",
       "    <tr>\n",
       "      <th>36</th>\n",
       "      <td>feature37</td>\n",
       "      <td>0</td>\n",
       "    </tr>\n",
       "    <tr>\n",
       "      <th>21</th>\n",
       "      <td>feature22</td>\n",
       "      <td>0</td>\n",
       "    </tr>\n",
       "  </tbody>\n",
       "</table>\n",
       "</div>"
      ],
      "text/plain": [
       "      feature  score\n",
       "25  feature26    302\n",
       "6    feature7    283\n",
       "10  feature11    165\n",
       "34  feature35    133\n",
       "26  feature27    128\n",
       "7    feature8    114\n",
       "29  feature30     99\n",
       "14  feature15     96\n",
       "11  feature12     92\n",
       "0    feature1     83\n",
       "22  feature23     78\n",
       "30  feature31     71\n",
       "39  feature40     67\n",
       "1    feature2     66\n",
       "12  feature13     64\n",
       "23  feature24     61\n",
       "8    feature9     60\n",
       "2    feature3     60\n",
       "16  feature17     59\n",
       "4    feature5     59\n",
       "24  feature25     58\n",
       "15  feature16     56\n",
       "19  feature20     53\n",
       "38  feature39     53\n",
       "31  feature32     50\n",
       "13  feature14     48\n",
       "33  feature34     47\n",
       "17  feature18     46\n",
       "28  feature29     45\n",
       "5    feature6     32\n",
       "9   feature10     27\n",
       "32  feature33     27\n",
       "37  feature38     25\n",
       "20  feature21     25\n",
       "27  feature28     13\n",
       "3    feature4     12\n",
       "18  feature19      5\n",
       "40  feature41      2\n",
       "35  feature36      0\n",
       "36  feature37      0\n",
       "21  feature22      0"
      ]
     },
     "execution_count": 12,
     "metadata": {},
     "output_type": "execute_result"
    }
   ],
   "source": [
    "pd.DataFrame({'feature':gmodel.feature_name_, 'score': gmodel.feature_importances_}).sort_values('score',ascending=False)"
   ]
  },
  {
   "cell_type": "code",
   "execution_count": null,
   "metadata": {
    "collapsed": false
   },
   "outputs": [],
   "source": []
  }
 ],
 "metadata": {
  "kernelspec": {
   "display_name": "Python 3",
   "language": "python",
   "name": "python3"
  },
  "language_info": {
   "codemirror_mode": {
    "name": "ipython",
    "version": 3
   },
   "file_extension": ".py",
   "mimetype": "text/x-python",
   "name": "python",
   "nbconvert_exporter": "python",
   "pygments_lexer": "ipython3",
   "version": "3.9.16"
  }
 },
 "nbformat": 4,
 "nbformat_minor": 0
}
